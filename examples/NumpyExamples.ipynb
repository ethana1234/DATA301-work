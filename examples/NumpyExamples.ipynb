{
  "nbformat": 4,
  "nbformat_minor": 0,
  "metadata": {
    "colab": {
      "name": "NumpyExamples.ipynb",
      "provenance": []
    },
    "kernelspec": {
      "name": "python3",
      "display_name": "Python 3"
    }
  },
  "cells": [
    {
      "cell_type": "code",
      "metadata": {
        "id": "MmbJ2XYmCApo",
        "colab_type": "code",
        "colab": {}
      },
      "source": [
        "import numpy as np"
      ],
      "execution_count": 2,
      "outputs": []
    },
    {
      "cell_type": "markdown",
      "metadata": {
        "colab_type": "text",
        "id": "yg1iDRlGDtGk"
      },
      "source": [
        "# Creating arrays\n",
        "a\n",
        ": A 2D array made from a 2D python list\n",
        "\n",
        "b\n",
        ": An array of all zeros with length 10 (dtype ensures they're int types)\n",
        "\n",
        "c\n",
        ": A 3x5 array full with 2s\n",
        "\n",
        "d\n",
        ": An array from 0 to 20 stepping by 2\n",
        "\n",
        "e\n",
        ": An array from 0 to 1 with 11 elements stepping by equal amounts\n",
        "\n",
        "f\n",
        ": A 3x3 array of random float values between 0 and 1\n",
        "\n",
        "g\n",
        ": A 3x3 array with mean 0 and standard deviation 1\n",
        "\n",
        "h\n",
        ": A 3x3 array with random ints between 0 and 10\n",
        "\n",
        "i\n",
        ": A 3x3 identity matrix\n",
        "\n",
        "j\n",
        ": A diagonal array with the diagonal using the given python list"
      ]
    },
    {
      "cell_type": "code",
      "metadata": {
        "id": "T8EwpcTTECa6",
        "colab_type": "code",
        "colab": {}
      },
      "source": [
        "a = np.array([[1,2],[3,4]])\n",
        "b = np.zeros(10, dtype=int) # there's also np.ones()\n",
        "c = np.full((3,5), 2)\n",
        "d = np.arange(0, 20, 2)\n",
        "e = np.linspace(0, 1, 11)\n",
        "f = np.random.random((3,3))\n",
        "g = np.random.normal(0, 1, (3,3))\n",
        "h = np.random.randint(0, 10, (3,3))\n",
        "i = np.eye(3)\n",
        "j = np.diag([1,2,3,4])\n",
        "\n",
        "print('a:', a, '\\nb:', b, '\\nc:', c, '\\nd:', d, '\\ne:', e, '\\nf:', f, '\\ng:', g, '\\nh:', h, '\\ni:', i, '\\nj:', j, sep='\\n')"
      ],
      "execution_count": 6,
      "outputs": [
        {
          "output_type": "stream",
          "name": "stdout",
          "text": "a:\n[[1 2]\n [3 4]]\n\nb:\n[0 0 0 0 0 0 0 0 0 0]\n\nc:\n[[2 2 2 2 2]\n [2 2 2 2 2]\n [2 2 2 2 2]]\n\nd:\n[ 0  2  4  6  8 10 12 14 16 18]\n\ne:\n[0.  0.1 0.2 0.3 0.4 0.5 0.6 0.7 0.8 0.9 1. ]\n\nf:\n[[0.6127668  0.61003876 0.01173727]\n [0.44706986 0.95584809 0.12928254]\n [0.69558506 0.64846561 0.2107225 ]]\n\ng:\n[[-0.55628479 -0.62103538 -0.80432629]\n [ 0.41468867  0.43566954 -0.09777439]\n [-0.39859173  0.72056404  1.50251151]]\n\nh:\n[[3 9 8]\n [4 0 5]\n [2 2 7]]\n\ni:\n[[1. 0. 0.]\n [0. 1. 0.]\n [0. 0. 1.]]\n\nj:\n[[1 0 0 0]\n [0 2 0 0]\n [0 0 3 0]\n [0 0 0 4]]\n"
        }
      ]
    },
    {
      "cell_type": "markdown",
      "metadata": {},
      "source": [
        "# Main Data Types\n",
        "- bool\n",
        "- ints\n",
        "    - int8\n",
        "    - int16\n",
        "    - int32\n",
        "    - int64 (long)\n",
        "- unsigned ints\n",
        "    - uint8\n",
        "    - uint16\n",
        "    - uint32\n",
        "    - uint64 (long)\n",
        "- floats\n",
        "    - float16\n",
        "    - float32\n",
        "    - float64 (double)"
      ]
    },
    {
      "cell_type": "markdown",
      "metadata": {},
      "source": [
        "# Array characteristics\n",
        "- Shape\n",
        ": Length of each dimension of the matrix\n",
        "- Size\n",
        ": Number of elements in the matrix\n",
        "- ndim\n",
        ": Number of dimensions of the matrix\n",
        "- dtype\n",
        ": Data type of matrix (see above)"
      ]
    },
    {
      "cell_type": "code",
      "execution_count": 7,
      "metadata": {},
      "outputs": [
        {
          "output_type": "stream",
          "name": "stdout",
          "text": "shape: (2, 3) (6,) (10, 10, 10)\nsize: 6 6 1000\nndim: 2 1 3\ndtype: int64 int64 int64\n"
        }
      ],
      "source": [
        "a = np.random.randint(10, size=(2,3))\n",
        "b = np.random.randint(10, size=6)\n",
        "c = np.random.randint(100, size=(10,10,10))\n",
        "\n",
        "print('shape:', a.shape, b.shape, c.shape)\n",
        "print('size:', a.size, b.size, c.size)\n",
        "print('ndim:', a.ndim, b.ndim, c.ndim)\n",
        "print('dtype:', a.dtype, b.dtype, c.dtype)"
      ]
    },
    {
      "cell_type": "markdown",
      "metadata": {},
      "source": [
        "# Array Indexing\n",
        "a\n",
        ": Row 1, column 2\n",
        "\n",
        "b\n",
        ": Row 0, column 0\n",
        "\n",
        "c\n",
        ": Last row, last column\n",
        "\n",
        "d\n",
        ": Row 1 (equivalent to `x[1,::]` and `x[1]`)\n",
        "\n",
        "e\n",
        ": Column 2\n",
        "\n",
        "f\n",
        ": Rows 0 and 1\n",
        "\n",
        "g\n",
        ": Rows in reverse order\n",
        "\n",
        "h\n",
        ": Row 0, Column 1 and Row 1, Column 1 as a 2x1 array"
      ]
    },
    {
      "cell_type": "code",
      "execution_count": 8,
      "metadata": {},
      "outputs": [
        {
          "output_type": "stream",
          "name": "stdout",
          "text": "a:\n6\n\nb:\n1\n\nc:\n9\n\nd:\n[4 5 6]\n\ne:\n[3 6 9]\n\nf:\n[[1 2 3]\n [4 5 6]]\n\ng:\n[[7 8 9]\n [4 5 6]\n [1 2 3]]\n\nh:\n[[2]\n [5]]\n"
        }
      ],
      "source": [
        "x = np.array([[1,2,3],[4,5,6],[7,8,9]])\n",
        "\n",
        "\n",
        "print('a:', x[1,2],\n",
        "    '\\nb:', x[0,0],\n",
        "    '\\nc:', x[-1,-1],\n",
        "    '\\nd:', x[1,:],\n",
        "    '\\ne:', x[:,2],\n",
        "    '\\nf:', x[:2],\n",
        "    '\\ng:', x[::-1],\n",
        "    '\\nh:', x[0:2:1,1:2:1], sep='\\n')"
      ]
    },
    {
      "cell_type": "code",
      "execution_count": null,
      "metadata": {},
      "outputs": [],
      "source": []
    }
  ]
}