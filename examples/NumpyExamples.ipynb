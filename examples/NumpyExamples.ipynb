{
  "nbformat": 4,
  "nbformat_minor": 0,
  "metadata": {
    "colab": {
      "name": "NumpyExamples.ipynb",
      "provenance": []
    },
    "kernelspec": {
      "name": "python3",
      "display_name": "Python 3"
    }
  },
  "cells": [
    {
      "cell_type": "code",
      "metadata": {
        "id": "MmbJ2XYmCApo",
        "colab_type": "code",
        "colab": {}
      },
      "source": [
        "import numpy as np"
      ],
      "execution_count": 1,
      "outputs": []
    },
    {
      "cell_type": "markdown",
      "metadata": {},
      "source": [
        "# Numpy Examples"
      ]
    },
    {
      "cell_type": "markdown",
      "metadata": {
        "colab_type": "text",
        "id": "yg1iDRlGDtGk"
      },
      "source": [
        "## Creating Arrays\n",
        "a\n",
        ": A 2D array made from a 2D python list\n",
        "\n",
        "b\n",
        ": An array of all zeros with length 10 (dtype ensures they're int types)\n",
        "\n",
        "c\n",
        ": A 3x5 array full with 2s\n",
        "\n",
        "d\n",
        ": An array from 0 to 20 stepping by 2\n",
        "\n",
        "e\n",
        ": An array from 0 to 1 with 11 elements stepping by equal amounts\n",
        "\n",
        "f\n",
        ": A 3x3 array of random float values between 0 and 1\n",
        "\n",
        "g\n",
        ": A 3x3 array with mean 0 and standard deviation 1\n",
        "\n",
        "h\n",
        ": A 3x3 array with random ints between 0 and 10\n",
        "\n",
        "i\n",
        ": A 3x3 identity matrix\n",
        "\n",
        "j\n",
        ": A diagonal array with the diagonal using the given python list"
      ]
    },
    {
      "cell_type": "code",
      "metadata": {
        "id": "T8EwpcTTECa6",
        "colab_type": "code",
        "colab": {}
      },
      "source": [
        "a = np.array([[1,2],[3,4]])\n",
        "b = np.zeros(10, dtype=int) # there's also np.ones()\n",
        "c = np.full((3,5), 2)\n",
        "d = np.arange(0, 20, 2)\n",
        "e = np.linspace(0, 1, 11)\n",
        "f = np.random.random((3,3))\n",
        "g = np.random.normal(0, 1, (3,3))\n",
        "h = np.random.randint(0, 10, (3,3))\n",
        "i = np.eye(3)\n",
        "j = np.diag([1,2,3,4])\n",
        "\n",
        "print('a:', a, '\\nb:', b, '\\nc:', c, '\\nd:', d, '\\ne:', e, '\\nf:', f, '\\ng:', g, '\\nh:', h, '\\ni:', i, '\\nj:', j, sep='\\n')"
      ],
      "execution_count": 2,
      "outputs": [
        {
          "output_type": "stream",
          "name": "stdout",
          "text": "a:\n[[1 2]\n [3 4]]\n\nb:\n[0 0 0 0 0 0 0 0 0 0]\n\nc:\n[[2 2 2 2 2]\n [2 2 2 2 2]\n [2 2 2 2 2]]\n\nd:\n[ 0  2  4  6  8 10 12 14 16 18]\n\ne:\n[0.  0.1 0.2 0.3 0.4 0.5 0.6 0.7 0.8 0.9 1. ]\n\nf:\n[[0.64138851 0.46856374 0.16729378]\n [0.02165957 0.83437551 0.32001145]\n [0.2473193  0.15516348 0.49662939]]\n\ng:\n[[ 0.47484559  2.13883664  0.21949439]\n [-0.0618923   0.1436913   2.04177286]\n [-0.47213122 -1.41235471  1.04799181]]\n\nh:\n[[5 0 9]\n [2 4 4]\n [5 5 9]]\n\ni:\n[[1. 0. 0.]\n [0. 1. 0.]\n [0. 0. 1.]]\n\nj:\n[[1 0 0 0]\n [0 2 0 0]\n [0 0 3 0]\n [0 0 0 4]]\n"
        }
      ]
    },
    {
      "cell_type": "markdown",
      "metadata": {},
      "source": [
        "### Main Data Types\n",
        "- bool\n",
        "- ints\n",
        "    - int8\n",
        "    - int16\n",
        "    - int32\n",
        "    - int64 (long)\n",
        "- unsigned ints\n",
        "    - uint8\n",
        "    - uint16\n",
        "    - uint32\n",
        "    - uint64 (long)\n",
        "- floats\n",
        "    - float16\n",
        "    - float32\n",
        "    - float64 (double)"
      ]
    },
    {
      "cell_type": "markdown",
      "metadata": {},
      "source": [
        "### Array Characteristics\n",
        "- Shape\n",
        ": Length of each dimension of the matrix\n",
        "- Size\n",
        ": Number of elements in the matrix\n",
        "- ndim\n",
        ": Number of dimensions of the matrix\n",
        "- dtype\n",
        ": Data type of matrix (see above)"
      ]
    },
    {
      "cell_type": "code",
      "execution_count": 3,
      "metadata": {},
      "outputs": [
        {
          "output_type": "stream",
          "name": "stdout",
          "text": "shape: (2, 3) (6,) (10, 10, 10)\nsize: 6 6 1000\nndim: 2 1 3\ndtype: int32 int32 int32\n"
        }
      ],
      "source": [
        "a = np.random.randint(10, size=(2,3))\n",
        "b = np.random.randint(10, size=6)\n",
        "c = np.random.randint(100, size=(10,10,10))\n",
        "\n",
        "print('shape:', a.shape, b.shape, c.shape)\n",
        "print('size:', a.size, b.size, c.size)\n",
        "print('ndim:', a.ndim, b.ndim, c.ndim)\n",
        "print('dtype:', a.dtype, b.dtype, c.dtype)"
      ]
    },
    {
      "cell_type": "markdown",
      "metadata": {},
      "source": [
        "### Array Indexing\n",
        "a\n",
        ": Row 1, column 2\n",
        "\n",
        "b\n",
        ": Row 0, column 0\n",
        "\n",
        "c\n",
        ": Last row, last column\n",
        "\n",
        "d\n",
        ": Row 1 (equivalent to `x[1,::]` and `x[1]`)\n",
        "\n",
        "e\n",
        ": Column 2\n",
        "\n",
        "f\n",
        ": Rows 0 and 1\n",
        "\n",
        "g\n",
        ": Rows in reverse order\n",
        "\n",
        "h\n",
        ": Row 0, Column 1 and Row 1, Column 1 as a 2x1 array"
      ]
    },
    {
      "cell_type": "code",
      "execution_count": 4,
      "metadata": {},
      "outputs": [
        {
          "output_type": "stream",
          "name": "stdout",
          "text": "a:\n6\n\nb:\n1\n\nc:\n9\n\nd:\n[4 5 6]\n\ne:\n[3 6 9]\n\nf:\n[[1 2 3]\n [4 5 6]]\n\ng:\n[[7 8 9]\n [4 5 6]\n [1 2 3]]\n\nh:\n[[2]\n [5]]\n"
        }
      ],
      "source": [
        "x = np.array([[1,2,3],[4,5,6],[7,8,9]])\n",
        "\n",
        "\n",
        "print('a:', x[1,2],\n",
        "    '\\nb:', x[0,0],\n",
        "    '\\nc:', x[-1,-1],\n",
        "    '\\nd:', x[1,:],\n",
        "    '\\ne:', x[:,2],\n",
        "    '\\nf:', x[:2],\n",
        "    '\\ng:', x[::-1],\n",
        "    '\\nh:', x[0:2:1,1:2:1], sep='\\n')"
      ]
    },
    {
      "cell_type": "markdown",
      "metadata": {},
      "source": [
        "### Array Reshaping\n",
        "a\n",
        ": Normal array from 1-9\n",
        "\n",
        "b\n",
        ": Array *a* turned into a 3x3\n",
        "\n",
        "c\n",
        ": Array *b* turned back into a 1D array\n",
        "\n",
        "d\n",
        ": Appending 10 to array *c* and turning it into a 5x2"
      ]
    },
    {
      "cell_type": "code",
      "execution_count": 27,
      "metadata": {},
      "outputs": [
        {
          "output_type": "stream",
          "name": "stdout",
          "text": "[1 2 3 4 5 6 7 8 9]\n"
        }
      ],
      "source": [
        "a = np.arange(1,10)\n",
        "print(a)"
      ]
    },
    {
      "cell_type": "code",
      "execution_count": 28,
      "metadata": {},
      "outputs": [
        {
          "output_type": "stream",
          "name": "stdout",
          "text": "[[1 2 3]\n [4 5 6]\n [7 8 9]]\n[1 2 3 4 5 6 7 8 9]\n[[ 1  2]\n [ 3  4]\n [ 5  6]\n [ 7  8]\n [ 9 10]]\n"
        }
      ],
      "source": [
        "b = a.reshape((3,3))\n",
        "c = a.reshape((9,))\n",
        "d = np.append(c,10).reshape((5,2))\n",
        "print(b)\n",
        "print(c)\n",
        "print(d)"
      ]
    },
    {
      "cell_type": "markdown",
      "metadata": {},
      "source": [
        "### Concatenating Arrays"
      ]
    },
    {
      "cell_type": "code",
      "execution_count": 7,
      "metadata": {},
      "outputs": [
        {
          "output_type": "stream",
          "name": "stdout",
          "text": "[1 2 3 4 5 6]\n"
        }
      ],
      "source": [
        "a = np.array([1,2,3])\n",
        "b = np.array([4,5,6])\n",
        "print(np.concatenate([a,b]))"
      ]
    },
    {
      "cell_type": "code",
      "execution_count": 8,
      "metadata": {},
      "outputs": [
        {
          "output_type": "stream",
          "name": "stdout",
          "text": "[[ 1  2  3]\n [ 4  5  6]\n [ 6  7  8]\n [ 9 10 11]]\n[[ 1  2  3  6  7  8]\n [ 4  5  6  9 10 11]]\n"
        }
      ],
      "source": [
        "a = np.array([[1,2,3],[4,5,6]])\n",
        "b = np.array([[6,7,8],[9,10,11]])\n",
        "print(np.concatenate([a,b], axis=0)) # axis=0 on default\n",
        "print(np.concatenate([a,b], axis=1))"
      ]
    },
    {
      "cell_type": "markdown",
      "metadata": {},
      "source": [
        "Alternative way to specify stacking horizontally or vertically"
      ]
    },
    {
      "cell_type": "code",
      "execution_count": 9,
      "metadata": {},
      "outputs": [
        {
          "output_type": "stream",
          "name": "stdout",
          "text": "[[ 1  2  3]\n [ 4  5  6]\n [ 6  7  8]\n [ 9 10 11]]\n[[ 1  2  3  6  7  8]\n [ 4  5  6  9 10 11]]\n"
        }
      ],
      "source": [
        "print(np.vstack([a,b]))\n",
        "print(np.hstack([a,b]))"
      ]
    },
    {
      "cell_type": "markdown",
      "metadata": {},
      "source": [
        "### Merging 1D Arrays\n",
        "\n",
        "c\n",
        ": Normal concatenation\n",
        "\n",
        "d\n",
        ": Vertically stacking\n",
        "\n",
        "e\n",
        ": Taking the transpose of the vertical stack, resulting in a column format\n",
        "\n",
        "f\n",
        ": Same result as *e* but using horizontal stack (np.axis adds a dimension to array/matrix but without adding any new rows)\n"
      ]
    },
    {
      "cell_type": "code",
      "execution_count": 10,
      "metadata": {},
      "outputs": [
        {
          "output_type": "stream",
          "name": "stdout",
          "text": "[10  9  8  7  6  5  4  3  2  1  1  2  3  4  5  6  7  8  9 10]\n[[10  9  8  7  6  5  4  3  2  1]\n [ 1  2  3  4  5  6  7  8  9 10]]\n[[10  1]\n [ 9  2]\n [ 8  3]\n [ 7  4]\n [ 6  5]\n [ 5  6]\n [ 4  7]\n [ 3  8]\n [ 2  9]\n [ 1 10]]\n[[10  1]\n [ 9  2]\n [ 8  3]\n [ 7  4]\n [ 6  5]\n [ 5  6]\n [ 4  7]\n [ 3  8]\n [ 2  9]\n [ 1 10]]\n"
        }
      ],
      "source": [
        "a = np.arange(10,0,-1)\n",
        "b = np.arange(1,11)\n",
        "c = np.concatenate([a,b])\n",
        "d = np.vstack([a,b])\n",
        "e = np.vstack([a,b]).T\n",
        "f = np.hstack([a[np.newaxis].T,b[np.newaxis].T])\n",
        "print(c)\n",
        "print(d)\n",
        "print(e)\n",
        "print(f)"
      ]
    },
    {
      "cell_type": "markdown",
      "metadata": {},
      "source": [
        "### Splitting of Arrays\n",
        "\n",
        "The split method takes the split points as inputs in the form of array indices\n",
        "\n",
        "Similar to stacking, the axis parameter can be 0/1 to indicate horizontal or vertical, as well as the vsplit and hsplit methods"
      ]
    },
    {
      "cell_type": "code",
      "execution_count": 11,
      "metadata": {},
      "outputs": [
        {
          "output_type": "stream",
          "name": "stdout",
          "text": "[1 2]\n[3 4]\n[5 6]\n[[1 2]\n [3 4]]\n[[5 6]]\n"
        }
      ],
      "source": [
        "a = np.array([1,2,3,4,5,6])\n",
        "x,y,z = np.split(a, [2,4])\n",
        "print(x,y,z,sep='\\n')\n",
        "b = np.array([[1,2], [3,4], [5,6]])\n",
        "u,w = np.vsplit(b, [2])\n",
        "print(u,w,sep='\\n')"
      ]
    },
    {
      "cell_type": "markdown",
      "metadata": {},
      "source": [
        "### Vectorized Operations\n",
        "\n",
        "Reducing the use of for loops\n",
        "\n",
        "b\n",
        ": Adding 5 to every element in array *a*\n",
        "\n",
        "c\n",
        ": Vector division of 2 arrays"
      ]
    },
    {
      "cell_type": "code",
      "execution_count": 12,
      "metadata": {},
      "outputs": [
        {
          "output_type": "stream",
          "name": "stdout",
          "text": "[[ 6  7]\n [ 8  9]\n [10 11]]\n[0.         0.5        0.66666667 0.75       0.8       ]\n"
        }
      ],
      "source": [
        "a = np.array([[1,2],[3,4],[5,6]])\n",
        "b = a + 5\n",
        "c = np.arange(5) / np.arange(1,6)\n",
        "print(b)\n",
        "print(c)"
      ]
    },
    {
      "cell_type": "markdown",
      "metadata": {},
      "source": [
        "### Custom Function Vectorization\n",
        "\n",
        "Using custom vectorization is for non trivial operations (trivial ones can be directly done on array)\n",
        "\n",
        "Optional parameter otypes is for output types"
      ]
    },
    {
      "cell_type": "code",
      "execution_count": 13,
      "metadata": {},
      "outputs": [
        {
          "output_type": "stream",
          "name": "stdout",
          "text": "[[1.  2.  3. ]\n [4.  7.5 8. ]\n [8.5 9.  9.5]]\n"
        }
      ],
      "source": [
        "a = np.full(shape=(3,3), fill_value=10)\n",
        "b = np.arange(1,10).reshape((3,3))\n",
        "\n",
        "def customFunc(x,y):\n",
        "    if max(x,y) > 2 * min(x,y):\n",
        "        return min(x,y)\n",
        "    else:\n",
        "        return (x + y) / 2\n",
        "\n",
        "# Use otypes in order to switch to floats (maintain decimal values)\n",
        "print(np.vectorize(customFunc, otypes=[np.float64])(a,b))"
      ]
    },
    {
      "cell_type": "markdown",
      "metadata": {},
      "source": [
        "Can also apply a function to each row or column of an array with the `apply_along_axis` function"
      ]
    },
    {
      "cell_type": "code",
      "execution_count": 14,
      "metadata": {},
      "outputs": [
        {
          "output_type": "stream",
          "name": "stdout",
          "text": "[4 1]\n[2 2]\n"
        }
      ],
      "source": [
        "a = np.array([[3,4],[2,1]])\n",
        "\n",
        "def customFunc(r):\n",
        "    if r[0] > 3:\n",
        "        return 2\n",
        "    else:\n",
        "        return r[1]\n",
        "\n",
        "print(np.apply_along_axis(customFunc,1,a)) # 1 is the axis, use 0 to apply on column\n",
        "print(np.apply_along_axis(customFunc,0,a))"
      ]
    },
    {
      "cell_type": "markdown",
      "metadata": {},
      "source": [
        "### Outer Product\n",
        "\n",
        "The `outer` function takes 2 np arrays and creates a 2D array that has a value for every possible combination of the 2 arrays\n",
        "\n",
        "Example below is basically like a multiplication table"
      ]
    },
    {
      "cell_type": "code",
      "execution_count": 15,
      "metadata": {},
      "outputs": [
        {
          "output_type": "stream",
          "name": "stdout",
          "text": "[[ 1  2  3  4  5  6  7  8  9]\n [ 2  4  6  8 10 12 14 16 18]\n [ 3  6  9 12 15 18 21 24 27]\n [ 4  8 12 16 20 24 28 32 36]]\n"
        }
      ],
      "source": [
        "x = np.arange(1,5)\n",
        "y = np.arange(1,10)\n",
        "print(np.multiply.outer(x,y)) # there's also add"
      ]
    },
    {
      "cell_type": "markdown",
      "metadata": {},
      "source": [
        "### Predefined Functions\n",
        "\n",
        "* Called on the array\n",
        "\n",
        "    `sum`\n",
        "    : Add all elements in the array\n",
        "\n",
        "    `max`\n",
        "    : Max value in array\n",
        "\n",
        "    `mean`\n",
        "    : Mean of all elements in array\n",
        "\n",
        "    `std`\n",
        "    : Standard deviation of all elements in array\n",
        "\n",
        "    `var`\n",
        "    : Variance of all elements in array\n",
        "\n",
        "    `argmin`/`argmax`\n",
        "    : Index of smallest/largest element in array\n",
        "\n",
        "* Called on `np`\n",
        "\n",
        "    `any`\n",
        "    : Is any element `True`?\n",
        "\n",
        "    `all`\n",
        "    : Are all elements `True`?\n",
        "\n",
        "    `median`\n",
        "    : Get median of all elements in array\n",
        "\n",
        "    `percentile`\n",
        "    : Get specific percentile of all elements in array"
      ]
    },
    {
      "cell_type": "markdown",
      "metadata": {},
      "source": [
        "## Using Axis\n",
        "\n",
        "For an n-dimensional array, axis can be from 0 to n-1\n",
        "\n",
        "For the functions above, a specific axis can be given, otherwise it assumes the entire array"
      ]
    },
    {
      "cell_type": "code",
      "execution_count": 16,
      "metadata": {},
      "outputs": [
        {
          "output_type": "stream",
          "name": "stdout",
          "text": "1\n[1 2 3]\n[1 4]\n"
        }
      ],
      "source": [
        "a = np.array([[1,2,3],[4,5,6]])\n",
        "print(a.min())\n",
        "print(a.min(axis=0))\n",
        "print(a.min(axis=1))"
      ]
    },
    {
      "cell_type": "markdown",
      "metadata": {},
      "source": [
        "## Broadcasting\n",
        "\n",
        "Ability for arrays with different but compatible shapes can be used as args together\n",
        "\n",
        "Below, 10 is a scalar that is broadcast to an array with shape (5,)\n",
        "\n",
        "It copies the scalar value onto each element"
      ]
    },
    {
      "cell_type": "code",
      "execution_count": 17,
      "metadata": {},
      "outputs": [
        {
          "output_type": "stream",
          "name": "stdout",
          "text": "[10 11 12 13 14]\n"
        }
      ],
      "source": [
        "a = np.arange(5)\n",
        "print(a + 10)"
      ]
    },
    {
      "cell_type": "markdown",
      "metadata": {},
      "source": [
        "Now array *b*, with shape (3,1) is broadcast to (3,2)\n",
        "\n",
        "It copies the first column to make the second column"
      ]
    },
    {
      "cell_type": "code",
      "execution_count": 18,
      "metadata": {},
      "outputs": [
        {
          "output_type": "stream",
          "name": "stdout",
          "text": "[[10 11]\n [22 23]\n [34 35]]\n"
        }
      ],
      "source": [
        "a = np.array([[0,1],[2,3],[4,5]])\n",
        "b = np.array([[10],[20],[30]])\n",
        "print(a + b)"
      ]
    },
    {
      "cell_type": "markdown",
      "metadata": {},
      "source": [
        "## Creating Boolean Arrays and Using Conditions for Counting\n",
        "\n",
        "Doing conditional vectorized operations on arrays creates boolean arrays"
      ]
    },
    {
      "cell_type": "code",
      "execution_count": 19,
      "metadata": {},
      "outputs": [
        {
          "output_type": "stream",
          "name": "stdout",
          "text": "[False False False  True  True]\n[False  True False False False]\n"
        }
      ],
      "source": [
        "a = np.arange(5) + 1\n",
        "print(a > 3)\n",
        "print(2 * a == a ** 2)"
      ]
    },
    {
      "cell_type": "markdown",
      "metadata": {},
      "source": [
        "You can also count elements that satisfy a condition"
      ]
    },
    {
      "cell_type": "code",
      "execution_count": 20,
      "metadata": {},
      "outputs": [
        {
          "output_type": "stream",
          "name": "stdout",
          "text": "8\n[2 2 2 2]\n[ True False  True]\n"
        }
      ],
      "source": [
        "a = np.array([[5,0,3,3],[7,9,3,5],[2,4,7,6]])\n",
        "print((a < 6).sum()) # how many elements are < 6\n",
        "print((a < 6).sum(axis=0)) # how many elements are < 6 in each column\n",
        "print((a < 8).all(axis=1)) # for each row, are all elements < 8"
      ]
    },
    {
      "cell_type": "markdown",
      "metadata": {},
      "source": [
        "## Filtering"
      ]
    },
    {
      "cell_type": "code",
      "execution_count": 21,
      "metadata": {},
      "outputs": [
        {
          "output_type": "stream",
          "name": "stdout",
          "text": "[5 7 9 5 4 7 6]\n"
        }
      ],
      "source": [
        "a = np.array([[5,0,3,3],[7,9,3,5],[2,4,7,6]])\n",
        "print(a[a > 3])"
      ]
    },
    {
      "cell_type": "markdown",
      "metadata": {},
      "source": [
        "## Fancy Indexing\n",
        "\n",
        "Input array contains indices that are to be selected\n",
        "\n",
        "b\n",
        ": Array that includes `a[0,2]`, `a[1,1]`, and `a[2,3]`\n",
        "\n",
        "c\n",
        ": Columns 2,1,3\n",
        "\n",
        "d\n",
        ": Elements 2,0,1 of row 2\n",
        "\n",
        "e\n",
        ": Elements 2,0,1 of all rows >= 1\n",
        "\n",
        "f\n",
        ": Elements 0 and 2 of row 0 using boolean array as a mask"
      ]
    },
    {
      "cell_type": "code",
      "execution_count": 22,
      "metadata": {},
      "outputs": [
        {
          "output_type": "stream",
          "name": "stdout",
          "text": "[3 9 6]\n[[3 0 3]\n [3 9 5]\n [7 4 6]]\n[7 2 4]\n[[3 7 9]\n [7 2 4]]\n[[5 3]]\n"
        }
      ],
      "source": [
        "a = np.array([[5,0,3,3],[7,9,3,5],[2,4,7,6]])\n",
        "b = a[[0,1,2], [2,1,3]]\n",
        "c = a[:,[2,1,3]]\n",
        "d = a[2, [2,0,1]]\n",
        "e = a[1:,[2,0,1]]\n",
        "mask = np.array([True,False,True,False])\n",
        "f = a[:1,mask]\n",
        "print(b)\n",
        "print(c)\n",
        "print(d)\n",
        "print(e)\n",
        "print(f)"
      ]
    },
    {
      "cell_type": "markdown",
      "metadata": {},
      "source": [
        "Fancy indexing can also be used to modify an array"
      ]
    },
    {
      "cell_type": "code",
      "execution_count": 23,
      "metadata": {},
      "outputs": [
        {
          "output_type": "stream",
          "name": "stdout",
          "text": "[ 0 99 99  3 99  5  6  7 99  9]\n[  0 100 100   3 100   5   6   7 100   9]\n"
        }
      ],
      "source": [
        "a = np.arange(10)\n",
        "i = np.array([2,1,8,4])\n",
        "a[i] = 99\n",
        "print(a)\n",
        "a[i] += 1\n",
        "print(a)"
      ]
    },
    {
      "cell_type": "markdown",
      "metadata": {},
      "source": [
        "## Sorting Arrays\n",
        "\n",
        "b\n",
        ": Array *a* sorted by value\n",
        "\n",
        "c\n",
        ": Array of indices in order of sorted array *a*\n",
        "\n",
        "d\n",
        ": Sorting the matrix by column"
      ]
    },
    {
      "cell_type": "code",
      "execution_count": 24,
      "metadata": {},
      "outputs": [
        {
          "output_type": "stream",
          "name": "stdout",
          "text": "[1 2 3 4 5]\n[1 0 3 2 4]\n[[2 0 3 3]\n [5 4 3 5]\n [7 9 7 6]]\n"
        }
      ],
      "source": [
        "a = np.array([2,1,4,3,5])\n",
        "b = np.sort(a)\n",
        "c = np.argsort(a)\n",
        "d = np.sort(np.array([[5,0,3,3],[7,9,3,5],[2,4,7,6]]), axis=0)\n",
        "print(b,c,d,sep='\\n')"
      ]
    },
    {
      "cell_type": "markdown",
      "metadata": {},
      "source": [
        "Use `partition` to partially sort"
      ]
    },
    {
      "cell_type": "code",
      "execution_count": 25,
      "metadata": {},
      "outputs": [
        {
          "output_type": "stream",
          "name": "stdout",
          "text": "[ 1  3  4  5  6 20 10]\n"
        }
      ],
      "source": [
        "a = np.array([3,6,4,1,5,20,10])\n",
        "print(np.partition(a,3))"
      ]
    },
    {
      "cell_type": "markdown",
      "metadata": {},
      "source": [
        "## Reading/Writing Numpy Arrays\n",
        "\n",
        "* `genfromtxt` reads tet file into 2D np array\n",
        "\n",
        "* Use delimiter parameter to separate each column\n",
        "\n",
        "* Data on each row must be formatted the same to avoid errors\n",
        "\n",
        "* `savetxt` writes the 2D array to a file"
      ]
    },
    {
      "cell_type": "code",
      "execution_count": null,
      "metadata": {},
      "outputs": [],
      "source": []
    }
  ]
}