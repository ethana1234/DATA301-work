{
 "cells": [
  {
   "cell_type": "markdown",
   "metadata": {},
   "source": [
    "# Text and Tabular Data"
   ]
  },
  {
   "cell_type": "code",
   "execution_count": 13,
   "metadata": {},
   "outputs": [
    {
     "output_type": "stream",
     "name": "stderr",
     "text": "[nltk_data] Downloading package stopwords to\n[nltk_data]     C:\\Users\\Ethan\\AppData\\Roaming\\nltk_data...\n[nltk_data]   Unzipping corpora\\stopwords.zip.\n"
    }
   ],
   "source": [
    "import numpy as np\n",
    "import pandas as pd\n",
    "import glob\n",
    "import os\n",
    "import nltk\n",
    "nltk.download('stopwords')\n",
    "from nltk.corpus import stopwords"
   ]
  },
  {
   "cell_type": "markdown",
   "metadata": {},
   "source": [
    "## Term Frequency-Inverse Document Frequency (TF-IDF) Model\n",
    "\n",
    "* It selects documents that have the query words appearing many times, where rarely occurring words are given greater importance\n",
    "* <code>idf<sub>i</sub> = log(m / df<sub>i</sub>)</code>, where `m` is the number of documents and <code>df<sub>i</sub></code> is the document frequency (number of documents containing <code>w<sub>i</sub></code>)\n",
    "* A document that contains the words <code><w<sub>i</sub>, ..., w<sub>k</sub>></code> is represented as vector. Note that <code>w<sub>i</sub> = tf<sub>i</sub> * idf<sub>i</sub></code>\n",
    "* A word is important if it appears in the document multiple times, but doesn't appear in many documents\n",
    "* <code>weight<sub>i</sub> = f<sub>i</sub> / max(f<sub>1</sub>,...,f<sub>k</sub>) * log<sub>2</sub>(m / df<sub>i</sub>)</code>\n",
    "* Compute the vector for each document and each query, then apply TF-IDF to normalize these vectors (the normalization formula is different for documents and queries), then compute the distance between each query vector and each document vector and use the result for ranking"
   ]
  },
  {
   "cell_type": "markdown",
   "metadata": {},
   "source": [
    "### Modification for Queries\n",
    "\n",
    "* <code>weight<sub>i</sub> =(0.5 + 0.5 * f<sub>i</sub> / max(f<sub>1</sub>,...,f<sub>k</sub>)) * log<sub>2</sub>(m / df<sub>i</sub>)</code> for each word in the query\n",
    "* `weight = 0` if word doesn't appear in the query\n",
    "* `m` is the number of documents\n",
    "* <code>df<sub>i</sub></code> is the number of documents that contain the word <code>w<sub>i</sub></code>\n",
    "* `df = 0` if the term does not appear in any document\n",
    "* The formula helps make the difference between a term that appears once in the query versus a word that appears 10 times less extreme"
   ]
  },
  {
   "cell_type": "markdown",
   "metadata": {},
   "source": [
    "### Example\n",
    "\n",
    "![title](./pic/tfidfexample.png)\n",
    "\n",
    "`weight(\"example\", d1) = 0`\n",
    "\n",
    "<code>weight(\"another\", d2) = 2/3 * log<sub>2</sub>(2/1) = 2/3</code>\n",
    "\n",
    "`q1 = \"example of a simple example\"`\n",
    "\n",
    "<code>weight(\"simple\", q1) = (0.5 + 0.5 * (1/2)) * log<sub>2</sub>(2/1) = 0.75</code>\n"
   ]
  },
  {
   "cell_type": "markdown",
   "metadata": {},
   "source": [
    "## Getting Documents"
   ]
  },
  {
   "cell_type": "code",
   "execution_count": 7,
   "metadata": {},
   "outputs": [
    {
     "output_type": "display_data",
     "data": {
      "text/plain": "     document                                              lines  \\\n0    speech_0  [Remarks Announcing Candidacy for President in...   \n1    speech_1  [Remarks at the AIPAC Policy Conference in Was...   \n2   speech_10  [Remarks at the Washington County Fair Park in...   \n3   speech_11  [Remarks at the Charlotte Convention Center in...   \n4   speech_12  [Remarks at Luedecke Arena in Austin, Texas\\n,...   \n5   speech_13  [Remarks to the American Legion in Cincinnati,...   \n6   speech_14  [Remarks at the Roberts Centre in Wilmington, ...   \n7   speech_15  [Remarks at Great Faith International Ministri...   \n8   speech_16  [Remarks at a Rally at the Greenville Conventi...   \n9   speech_17  [Remarks at the Union League of Philadelphia i...   \n10  speech_18  [Remarks at the Cleveland Arts and Social Scie...   \n11  speech_19  [Remarks to the 11th Annual Values Voter Summi...   \n12   speech_2  [Remarks on Foreign Policy at the National Pre...   \n13  speech_20  [Remarks at a Rally at the Pensacola Bay Cente...   \n14  speech_21  [Remarks at the US Cellular Center in Ashevill...   \n15  speech_22  [Address to the National Guard Association of ...   \n16  speech_23  [Remarks at Aston Community Center in Aston, P...   \n17  speech_24  [Remarks at Seven Flags Event Center in Des Mo...   \n18  speech_25  [Remarks at a Rally at Canton Memorial Civic C...   \n19  speech_26  [Remarks to the Economic Club of New York at t...   \n20  speech_27  [Remarks at a Rally at the James L. Knight Cen...   \n21  speech_28  [Remarks at the Remembrance Project Luncheon a...   \n22  speech_29  [Remarks at High Point University in High Poin...   \n23   speech_3  [Remarks at Saint Anselm College in Manchester...   \n24  speech_30  [Remarks at a Rally at Sun Center Studios in C...   \n25  speech_31  [Remarks at the Shale Insight TM Conferencee a...   \n26  speech_32  [Remarks at a Rally at Berglund Center in Roan...   \n27  speech_33  [Remarks at a Rally at the Mid-America Center ...   \n28  speech_34  [Remarks at a Rally at Waukesha County Expo Ce...   \n29  speech_35  [Remarks at a Rally at the New Hampshire Sport...   \n30  speech_36  [Remarks at the Suburban Collection Showplace ...   \n31  speech_37  [Remarks at the Pueblo Convention Center in Pu...   \n32  speech_38  [Remarks at the Budweiser Events Center in Lov...   \n33  speech_39  [Remarks at Prescott Valley Event Center in Pr...   \n34   speech_4  [Remarks at Trump SoHo in New York City\\n, Tod...   \n35  speech_40  [Remarks at Henderson Pavilion in Henderson, N...   \n36  speech_41  [Remarks at the Reno-Sparks Convention Center ...   \n37  speech_42  [Excerpts of Remarks at Aaron Bessant Park in ...   \n38  speech_43  [Remarks at the Renaissance Hotel in Columbus,...   \n39  speech_44  [Remarks at the South Florida Fair Expo Center...   \n40  speech_45  [Remarks at the Cross Insurance Center in Bang...   \n41  speech_46  [Remarks at Toyota of Portsmouth in Portsmouth...   \n42  speech_47  [Remarks at the KI Convention Center in Green ...   \n43  speech_48  [Remarks at the Delaware County Fairgrounds in...   \n44  speech_49  [Remarks at the WNC Agricultural Center's Davi...   \n45   speech_5  [Remarks in Virginia Beach, Virginia\\n, Thank ...   \n46  speech_50  [Remarks at the Newtown Athletic Club Sports T...   \n47  speech_51  [Remarks at the Collier County Fairgrounds in ...   \n48  speech_52  [Remarks at McGlohon Theatre at Spirit Square ...   \n49  speech_53  [Remarks at the Jeffco Fairgrounds Event Cente...   \n50  speech_54  [Remarks at the Phoenix Convention Center in P...   \n51  speech_55  [Remarks in New York City Accepting Election a...   \n52   speech_6  [Remarks Introducing Governor Mike Pence as th...   \n53   speech_7  [Address Accepting the Presidential Nomination...   \n54   speech_8  [News Conference in Doral, Florida\\n, Donald T...   \n55   speech_9  [Remarks at Youngstown State University in You...   \n\n                                                 text  \n0   Remarks Announcing Candidacy for President in ...  \n1   Remarks at the AIPAC Policy Conference in Wash...  \n2   Remarks at the Washington County Fair Park in ...  \n3   Remarks at the Charlotte Convention Center in ...  \n4   Remarks at Luedecke Arena in Austin, Texas\\n O...  \n5   Remarks to the American Legion in Cincinnati, ...  \n6   Remarks at the Roberts Centre in Wilmington, O...  \n7   Remarks at Great Faith International Ministrie...  \n8   Remarks at a Rally at the Greenville Conventio...  \n9   Remarks at the Union League of Philadelphia in...  \n10  Remarks at the Cleveland Arts and Social Scien...  \n11  Remarks to the 11th Annual Values Voter Summit...  \n12  Remarks on Foreign Policy at the National Pres...  \n13  Remarks at a Rally at the Pensacola Bay Center...  \n14  Remarks at the US Cellular Center in Asheville...  \n15  Address to the National Guard Association of t...  \n16  Remarks at Aston Community Center in Aston, Pe...  \n17  Remarks at Seven Flags Event Center in Des Moi...  \n18  Remarks at a Rally at Canton Memorial Civic Ce...  \n19  Remarks to the Economic Club of New York at th...  \n20  Remarks at a Rally at the James L. Knight Cent...  \n21  Remarks at the Remembrance Project Luncheon at...  \n22  Remarks at High Point University in High Point...  \n23  Remarks at Saint Anselm College in Manchester,...  \n24  Remarks at a Rally at Sun Center Studios in Ch...  \n25  Remarks at the Shale Insight TM Conferencee at...  \n26  Remarks at a Rally at Berglund Center in Roano...  \n27  Remarks at a Rally at the Mid-America Center i...  \n28  Remarks at a Rally at Waukesha County Expo Cen...  \n29  Remarks at a Rally at the New Hampshire Sports...  \n30  Remarks at the Suburban Collection Showplace i...  \n31  Remarks at the Pueblo Convention Center in Pue...  \n32  Remarks at the Budweiser Events Center in Love...  \n33  Remarks at Prescott Valley Event Center in Pre...  \n34  Remarks at Trump SoHo in New York City\\n Today...  \n35  Remarks at Henderson Pavilion in Henderson, Ne...  \n36  Remarks at the Reno-Sparks Convention Center i...  \n37  Excerpts of Remarks at Aaron Bessant Park in P...  \n38  Remarks at the Renaissance Hotel in Columbus, ...  \n39  Remarks at the South Florida Fair Expo Center ...  \n40  Remarks at the Cross Insurance Center in Bango...  \n41  Remarks at Toyota of Portsmouth in Portsmouth,...  \n42  Remarks at the KI Convention Center in Green B...  \n43  Remarks at the Delaware County Fairgrounds in ...  \n44  Remarks at the WNC Agricultural Center's Davis...  \n45  Remarks in Virginia Beach, Virginia\\n Thank yo...  \n46  Remarks at the Newtown Athletic Club Sports Tr...  \n47  Remarks at the Collier County Fairgrounds in N...  \n48  Remarks at McGlohon Theatre at Spirit Square i...  \n49  Remarks at the Jeffco Fairgrounds Event Center...  \n50  Remarks at the Phoenix Convention Center in Ph...  \n51  Remarks in New York City Accepting Election as...  \n52  Remarks Introducing Governor Mike Pence as the...  \n53  Address Accepting the Presidential Nomination ...  \n54  News Conference in Doral, Florida\\n Donald Tru...  \n55  Remarks at Youngstown State University in Youn...  ",
      "text/html": "<div>\n<style scoped>\n    .dataframe tbody tr th:only-of-type {\n        vertical-align: middle;\n    }\n\n    .dataframe tbody tr th {\n        vertical-align: top;\n    }\n\n    .dataframe thead th {\n        text-align: right;\n    }\n</style>\n<table border=\"1\" class=\"dataframe\">\n  <thead>\n    <tr style=\"text-align: right;\">\n      <th></th>\n      <th>document</th>\n      <th>lines</th>\n      <th>text</th>\n    </tr>\n  </thead>\n  <tbody>\n    <tr>\n      <th>0</th>\n      <td>speech_0</td>\n      <td>[Remarks Announcing Candidacy for President in...</td>\n      <td>Remarks Announcing Candidacy for President in ...</td>\n    </tr>\n    <tr>\n      <th>1</th>\n      <td>speech_1</td>\n      <td>[Remarks at the AIPAC Policy Conference in Was...</td>\n      <td>Remarks at the AIPAC Policy Conference in Wash...</td>\n    </tr>\n    <tr>\n      <th>2</th>\n      <td>speech_10</td>\n      <td>[Remarks at the Washington County Fair Park in...</td>\n      <td>Remarks at the Washington County Fair Park in ...</td>\n    </tr>\n    <tr>\n      <th>3</th>\n      <td>speech_11</td>\n      <td>[Remarks at the Charlotte Convention Center in...</td>\n      <td>Remarks at the Charlotte Convention Center in ...</td>\n    </tr>\n    <tr>\n      <th>4</th>\n      <td>speech_12</td>\n      <td>[Remarks at Luedecke Arena in Austin, Texas\\n,...</td>\n      <td>Remarks at Luedecke Arena in Austin, Texas\\n O...</td>\n    </tr>\n    <tr>\n      <th>5</th>\n      <td>speech_13</td>\n      <td>[Remarks to the American Legion in Cincinnati,...</td>\n      <td>Remarks to the American Legion in Cincinnati, ...</td>\n    </tr>\n    <tr>\n      <th>6</th>\n      <td>speech_14</td>\n      <td>[Remarks at the Roberts Centre in Wilmington, ...</td>\n      <td>Remarks at the Roberts Centre in Wilmington, O...</td>\n    </tr>\n    <tr>\n      <th>7</th>\n      <td>speech_15</td>\n      <td>[Remarks at Great Faith International Ministri...</td>\n      <td>Remarks at Great Faith International Ministrie...</td>\n    </tr>\n    <tr>\n      <th>8</th>\n      <td>speech_16</td>\n      <td>[Remarks at a Rally at the Greenville Conventi...</td>\n      <td>Remarks at a Rally at the Greenville Conventio...</td>\n    </tr>\n    <tr>\n      <th>9</th>\n      <td>speech_17</td>\n      <td>[Remarks at the Union League of Philadelphia i...</td>\n      <td>Remarks at the Union League of Philadelphia in...</td>\n    </tr>\n    <tr>\n      <th>10</th>\n      <td>speech_18</td>\n      <td>[Remarks at the Cleveland Arts and Social Scie...</td>\n      <td>Remarks at the Cleveland Arts and Social Scien...</td>\n    </tr>\n    <tr>\n      <th>11</th>\n      <td>speech_19</td>\n      <td>[Remarks to the 11th Annual Values Voter Summi...</td>\n      <td>Remarks to the 11th Annual Values Voter Summit...</td>\n    </tr>\n    <tr>\n      <th>12</th>\n      <td>speech_2</td>\n      <td>[Remarks on Foreign Policy at the National Pre...</td>\n      <td>Remarks on Foreign Policy at the National Pres...</td>\n    </tr>\n    <tr>\n      <th>13</th>\n      <td>speech_20</td>\n      <td>[Remarks at a Rally at the Pensacola Bay Cente...</td>\n      <td>Remarks at a Rally at the Pensacola Bay Center...</td>\n    </tr>\n    <tr>\n      <th>14</th>\n      <td>speech_21</td>\n      <td>[Remarks at the US Cellular Center in Ashevill...</td>\n      <td>Remarks at the US Cellular Center in Asheville...</td>\n    </tr>\n    <tr>\n      <th>15</th>\n      <td>speech_22</td>\n      <td>[Address to the National Guard Association of ...</td>\n      <td>Address to the National Guard Association of t...</td>\n    </tr>\n    <tr>\n      <th>16</th>\n      <td>speech_23</td>\n      <td>[Remarks at Aston Community Center in Aston, P...</td>\n      <td>Remarks at Aston Community Center in Aston, Pe...</td>\n    </tr>\n    <tr>\n      <th>17</th>\n      <td>speech_24</td>\n      <td>[Remarks at Seven Flags Event Center in Des Mo...</td>\n      <td>Remarks at Seven Flags Event Center in Des Moi...</td>\n    </tr>\n    <tr>\n      <th>18</th>\n      <td>speech_25</td>\n      <td>[Remarks at a Rally at Canton Memorial Civic C...</td>\n      <td>Remarks at a Rally at Canton Memorial Civic Ce...</td>\n    </tr>\n    <tr>\n      <th>19</th>\n      <td>speech_26</td>\n      <td>[Remarks to the Economic Club of New York at t...</td>\n      <td>Remarks to the Economic Club of New York at th...</td>\n    </tr>\n    <tr>\n      <th>20</th>\n      <td>speech_27</td>\n      <td>[Remarks at a Rally at the James L. Knight Cen...</td>\n      <td>Remarks at a Rally at the James L. Knight Cent...</td>\n    </tr>\n    <tr>\n      <th>21</th>\n      <td>speech_28</td>\n      <td>[Remarks at the Remembrance Project Luncheon a...</td>\n      <td>Remarks at the Remembrance Project Luncheon at...</td>\n    </tr>\n    <tr>\n      <th>22</th>\n      <td>speech_29</td>\n      <td>[Remarks at High Point University in High Poin...</td>\n      <td>Remarks at High Point University in High Point...</td>\n    </tr>\n    <tr>\n      <th>23</th>\n      <td>speech_3</td>\n      <td>[Remarks at Saint Anselm College in Manchester...</td>\n      <td>Remarks at Saint Anselm College in Manchester,...</td>\n    </tr>\n    <tr>\n      <th>24</th>\n      <td>speech_30</td>\n      <td>[Remarks at a Rally at Sun Center Studios in C...</td>\n      <td>Remarks at a Rally at Sun Center Studios in Ch...</td>\n    </tr>\n    <tr>\n      <th>25</th>\n      <td>speech_31</td>\n      <td>[Remarks at the Shale Insight TM Conferencee a...</td>\n      <td>Remarks at the Shale Insight TM Conferencee at...</td>\n    </tr>\n    <tr>\n      <th>26</th>\n      <td>speech_32</td>\n      <td>[Remarks at a Rally at Berglund Center in Roan...</td>\n      <td>Remarks at a Rally at Berglund Center in Roano...</td>\n    </tr>\n    <tr>\n      <th>27</th>\n      <td>speech_33</td>\n      <td>[Remarks at a Rally at the Mid-America Center ...</td>\n      <td>Remarks at a Rally at the Mid-America Center i...</td>\n    </tr>\n    <tr>\n      <th>28</th>\n      <td>speech_34</td>\n      <td>[Remarks at a Rally at Waukesha County Expo Ce...</td>\n      <td>Remarks at a Rally at Waukesha County Expo Cen...</td>\n    </tr>\n    <tr>\n      <th>29</th>\n      <td>speech_35</td>\n      <td>[Remarks at a Rally at the New Hampshire Sport...</td>\n      <td>Remarks at a Rally at the New Hampshire Sports...</td>\n    </tr>\n    <tr>\n      <th>30</th>\n      <td>speech_36</td>\n      <td>[Remarks at the Suburban Collection Showplace ...</td>\n      <td>Remarks at the Suburban Collection Showplace i...</td>\n    </tr>\n    <tr>\n      <th>31</th>\n      <td>speech_37</td>\n      <td>[Remarks at the Pueblo Convention Center in Pu...</td>\n      <td>Remarks at the Pueblo Convention Center in Pue...</td>\n    </tr>\n    <tr>\n      <th>32</th>\n      <td>speech_38</td>\n      <td>[Remarks at the Budweiser Events Center in Lov...</td>\n      <td>Remarks at the Budweiser Events Center in Love...</td>\n    </tr>\n    <tr>\n      <th>33</th>\n      <td>speech_39</td>\n      <td>[Remarks at Prescott Valley Event Center in Pr...</td>\n      <td>Remarks at Prescott Valley Event Center in Pre...</td>\n    </tr>\n    <tr>\n      <th>34</th>\n      <td>speech_4</td>\n      <td>[Remarks at Trump SoHo in New York City\\n, Tod...</td>\n      <td>Remarks at Trump SoHo in New York City\\n Today...</td>\n    </tr>\n    <tr>\n      <th>35</th>\n      <td>speech_40</td>\n      <td>[Remarks at Henderson Pavilion in Henderson, N...</td>\n      <td>Remarks at Henderson Pavilion in Henderson, Ne...</td>\n    </tr>\n    <tr>\n      <th>36</th>\n      <td>speech_41</td>\n      <td>[Remarks at the Reno-Sparks Convention Center ...</td>\n      <td>Remarks at the Reno-Sparks Convention Center i...</td>\n    </tr>\n    <tr>\n      <th>37</th>\n      <td>speech_42</td>\n      <td>[Excerpts of Remarks at Aaron Bessant Park in ...</td>\n      <td>Excerpts of Remarks at Aaron Bessant Park in P...</td>\n    </tr>\n    <tr>\n      <th>38</th>\n      <td>speech_43</td>\n      <td>[Remarks at the Renaissance Hotel in Columbus,...</td>\n      <td>Remarks at the Renaissance Hotel in Columbus, ...</td>\n    </tr>\n    <tr>\n      <th>39</th>\n      <td>speech_44</td>\n      <td>[Remarks at the South Florida Fair Expo Center...</td>\n      <td>Remarks at the South Florida Fair Expo Center ...</td>\n    </tr>\n    <tr>\n      <th>40</th>\n      <td>speech_45</td>\n      <td>[Remarks at the Cross Insurance Center in Bang...</td>\n      <td>Remarks at the Cross Insurance Center in Bango...</td>\n    </tr>\n    <tr>\n      <th>41</th>\n      <td>speech_46</td>\n      <td>[Remarks at Toyota of Portsmouth in Portsmouth...</td>\n      <td>Remarks at Toyota of Portsmouth in Portsmouth,...</td>\n    </tr>\n    <tr>\n      <th>42</th>\n      <td>speech_47</td>\n      <td>[Remarks at the KI Convention Center in Green ...</td>\n      <td>Remarks at the KI Convention Center in Green B...</td>\n    </tr>\n    <tr>\n      <th>43</th>\n      <td>speech_48</td>\n      <td>[Remarks at the Delaware County Fairgrounds in...</td>\n      <td>Remarks at the Delaware County Fairgrounds in ...</td>\n    </tr>\n    <tr>\n      <th>44</th>\n      <td>speech_49</td>\n      <td>[Remarks at the WNC Agricultural Center's Davi...</td>\n      <td>Remarks at the WNC Agricultural Center's Davis...</td>\n    </tr>\n    <tr>\n      <th>45</th>\n      <td>speech_5</td>\n      <td>[Remarks in Virginia Beach, Virginia\\n, Thank ...</td>\n      <td>Remarks in Virginia Beach, Virginia\\n Thank yo...</td>\n    </tr>\n    <tr>\n      <th>46</th>\n      <td>speech_50</td>\n      <td>[Remarks at the Newtown Athletic Club Sports T...</td>\n      <td>Remarks at the Newtown Athletic Club Sports Tr...</td>\n    </tr>\n    <tr>\n      <th>47</th>\n      <td>speech_51</td>\n      <td>[Remarks at the Collier County Fairgrounds in ...</td>\n      <td>Remarks at the Collier County Fairgrounds in N...</td>\n    </tr>\n    <tr>\n      <th>48</th>\n      <td>speech_52</td>\n      <td>[Remarks at McGlohon Theatre at Spirit Square ...</td>\n      <td>Remarks at McGlohon Theatre at Spirit Square i...</td>\n    </tr>\n    <tr>\n      <th>49</th>\n      <td>speech_53</td>\n      <td>[Remarks at the Jeffco Fairgrounds Event Cente...</td>\n      <td>Remarks at the Jeffco Fairgrounds Event Center...</td>\n    </tr>\n    <tr>\n      <th>50</th>\n      <td>speech_54</td>\n      <td>[Remarks at the Phoenix Convention Center in P...</td>\n      <td>Remarks at the Phoenix Convention Center in Ph...</td>\n    </tr>\n    <tr>\n      <th>51</th>\n      <td>speech_55</td>\n      <td>[Remarks in New York City Accepting Election a...</td>\n      <td>Remarks in New York City Accepting Election as...</td>\n    </tr>\n    <tr>\n      <th>52</th>\n      <td>speech_6</td>\n      <td>[Remarks Introducing Governor Mike Pence as th...</td>\n      <td>Remarks Introducing Governor Mike Pence as the...</td>\n    </tr>\n    <tr>\n      <th>53</th>\n      <td>speech_7</td>\n      <td>[Address Accepting the Presidential Nomination...</td>\n      <td>Address Accepting the Presidential Nomination ...</td>\n    </tr>\n    <tr>\n      <th>54</th>\n      <td>speech_8</td>\n      <td>[News Conference in Doral, Florida\\n, Donald T...</td>\n      <td>News Conference in Doral, Florida\\n Donald Tru...</td>\n    </tr>\n    <tr>\n      <th>55</th>\n      <td>speech_9</td>\n      <td>[Remarks at Youngstown State University in You...</td>\n      <td>Remarks at Youngstown State University in Youn...</td>\n    </tr>\n  </tbody>\n</table>\n</div>"
     },
     "metadata": {}
    }
   ],
   "source": [
    "document_files = glob.glob('./text/trump/*.txt')\n",
    "docs = []\n",
    "for file in document_files:\n",
    "    with open(file,'r') as f:\n",
    "        name = os.path.basename(file.split('.')[1])\n",
    "        docs.append({'document':name,'lines':f.readlines()})\n",
    "df = pd.DataFrame(docs)\n",
    "df['text'] = df.apply(lambda row: ' '.join(row['lines']), axis=1)\n",
    "display(df)"
   ]
  },
  {
   "cell_type": "markdown",
   "metadata": {},
   "source": [
    "## Parsing the Documents"
   ]
  },
  {
   "cell_type": "code",
   "execution_count": 15,
   "metadata": {},
   "outputs": [
    {
     "output_type": "display_data",
     "data": {
      "text/plain": "       document        word\n0      speech_0     remarks\n1      speech_0  announcing\n2      speech_0   candidacy\n3      speech_0   president\n4      speech_0         new\n...         ...         ...\n75517  speech_9       bless\n75518  speech_9       thank\n75519  speech_9       thank\n75520  speech_9       thank\n75521  speech_9    applause\n\n[75522 rows x 2 columns]",
      "text/html": "<div>\n<style scoped>\n    .dataframe tbody tr th:only-of-type {\n        vertical-align: middle;\n    }\n\n    .dataframe tbody tr th {\n        vertical-align: top;\n    }\n\n    .dataframe thead th {\n        text-align: right;\n    }\n</style>\n<table border=\"1\" class=\"dataframe\">\n  <thead>\n    <tr style=\"text-align: right;\">\n      <th></th>\n      <th>document</th>\n      <th>word</th>\n    </tr>\n  </thead>\n  <tbody>\n    <tr>\n      <th>0</th>\n      <td>speech_0</td>\n      <td>remarks</td>\n    </tr>\n    <tr>\n      <th>1</th>\n      <td>speech_0</td>\n      <td>announcing</td>\n    </tr>\n    <tr>\n      <th>2</th>\n      <td>speech_0</td>\n      <td>candidacy</td>\n    </tr>\n    <tr>\n      <th>3</th>\n      <td>speech_0</td>\n      <td>president</td>\n    </tr>\n    <tr>\n      <th>4</th>\n      <td>speech_0</td>\n      <td>new</td>\n    </tr>\n    <tr>\n      <th>...</th>\n      <td>...</td>\n      <td>...</td>\n    </tr>\n    <tr>\n      <th>75517</th>\n      <td>speech_9</td>\n      <td>bless</td>\n    </tr>\n    <tr>\n      <th>75518</th>\n      <td>speech_9</td>\n      <td>thank</td>\n    </tr>\n    <tr>\n      <th>75519</th>\n      <td>speech_9</td>\n      <td>thank</td>\n    </tr>\n    <tr>\n      <th>75520</th>\n      <td>speech_9</td>\n      <td>thank</td>\n    </tr>\n    <tr>\n      <th>75521</th>\n      <td>speech_9</td>\n      <td>applause</td>\n    </tr>\n  </tbody>\n</table>\n<p>75522 rows × 2 columns</p>\n</div>"
     },
     "metadata": {}
    }
   ],
   "source": [
    "df['words'] = df.text.str.strip().str.split('[\\W]+') # removes leading/trailing space, split returns an array of words\n",
    "stop_words = list(stopwords.words('english'))\n",
    "result = []\n",
    "for i in range(0,len(df)):\n",
    "    for word in df.iloc[i]['words']:\n",
    "        if (word.lower() not in stop_words and word != ''):\n",
    "            result.append((df.iloc[i]['document'], word.lower()))\n",
    "words = pd.DataFrame(result, columns=['document','word'])\n",
    "display(words)"
   ]
  },
  {
   "cell_type": "markdown",
   "metadata": {},
   "source": [
    "## Computing the Frequencies\n",
    "\n",
    "* `groupby` creates a group for each document\n",
    "* `value_counts` counts the number of occurrences of each word in a group\n",
    "* `to_frame` converts Series to a DataFrame\n",
    "* `rename` sets the attributes\n",
    "* MultiIndex includes document and word"
   ]
  },
  {
   "cell_type": "code",
   "execution_count": 24,
   "metadata": {},
   "outputs": [
    {
     "output_type": "display_data",
     "data": {
      "text/plain": "                    word\ndocument word           \nspeech_0 â            63\n         trump        57\n         people       55\n         know         46\n         going        44\n...                  ...\nspeech_9 wonderful     1\n         workers       1\n         wounding      1\n         wrong         1\n         young         1\n\n[38177 rows x 1 columns]",
      "text/html": "<div>\n<style scoped>\n    .dataframe tbody tr th:only-of-type {\n        vertical-align: middle;\n    }\n\n    .dataframe tbody tr th {\n        vertical-align: top;\n    }\n\n    .dataframe thead th {\n        text-align: right;\n    }\n</style>\n<table border=\"1\" class=\"dataframe\">\n  <thead>\n    <tr style=\"text-align: right;\">\n      <th></th>\n      <th></th>\n      <th>word</th>\n    </tr>\n    <tr>\n      <th>document</th>\n      <th>word</th>\n      <th></th>\n    </tr>\n  </thead>\n  <tbody>\n    <tr>\n      <th rowspan=\"5\" valign=\"top\">speech_0</th>\n      <th>â</th>\n      <td>63</td>\n    </tr>\n    <tr>\n      <th>trump</th>\n      <td>57</td>\n    </tr>\n    <tr>\n      <th>people</th>\n      <td>55</td>\n    </tr>\n    <tr>\n      <th>know</th>\n      <td>46</td>\n    </tr>\n    <tr>\n      <th>going</th>\n      <td>44</td>\n    </tr>\n    <tr>\n      <th>...</th>\n      <th>...</th>\n      <td>...</td>\n    </tr>\n    <tr>\n      <th rowspan=\"5\" valign=\"top\">speech_9</th>\n      <th>wonderful</th>\n      <td>1</td>\n    </tr>\n    <tr>\n      <th>workers</th>\n      <td>1</td>\n    </tr>\n    <tr>\n      <th>wounding</th>\n      <td>1</td>\n    </tr>\n    <tr>\n      <th>wrong</th>\n      <td>1</td>\n    </tr>\n    <tr>\n      <th>young</th>\n      <td>1</td>\n    </tr>\n  </tbody>\n</table>\n<p>38177 rows × 1 columns</p>\n</div>"
     },
     "metadata": {}
    }
   ],
   "source": [
    "counts = words.groupby('document')['word'].value_counts().to_frame().rename(columns={'word':'frequency'})\n",
    "display(count)"
   ]
  },
  {
   "cell_type": "markdown",
   "metadata": {},
   "source": [
    "## Computing TF"
   ]
  },
  {
   "cell_type": "code",
   "execution_count": 25,
   "metadata": {},
   "outputs": [
    {
     "output_type": "display_data",
     "data": {
      "text/plain": "                    frequency  maxFreq        tf\ndocument word                                   \nspeech_0 â                 63       63  1.000000\n         trump             57       63  0.904762\n         people            55       63  0.873016\n         know              46       63  0.730159\n         going             44       63  0.698413\n...                       ...      ...       ...\nspeech_9 wonderful          1       46  0.021739\n         workers            1       46  0.021739\n         wounding           1       46  0.021739\n         wrong              1       46  0.021739\n         young              1       46  0.021739\n\n[38177 rows x 3 columns]",
      "text/html": "<div>\n<style scoped>\n    .dataframe tbody tr th:only-of-type {\n        vertical-align: middle;\n    }\n\n    .dataframe tbody tr th {\n        vertical-align: top;\n    }\n\n    .dataframe thead th {\n        text-align: right;\n    }\n</style>\n<table border=\"1\" class=\"dataframe\">\n  <thead>\n    <tr style=\"text-align: right;\">\n      <th></th>\n      <th></th>\n      <th>frequency</th>\n      <th>maxFreq</th>\n      <th>tf</th>\n    </tr>\n    <tr>\n      <th>document</th>\n      <th>word</th>\n      <th></th>\n      <th></th>\n      <th></th>\n    </tr>\n  </thead>\n  <tbody>\n    <tr>\n      <th rowspan=\"5\" valign=\"top\">speech_0</th>\n      <th>â</th>\n      <td>63</td>\n      <td>63</td>\n      <td>1.000000</td>\n    </tr>\n    <tr>\n      <th>trump</th>\n      <td>57</td>\n      <td>63</td>\n      <td>0.904762</td>\n    </tr>\n    <tr>\n      <th>people</th>\n      <td>55</td>\n      <td>63</td>\n      <td>0.873016</td>\n    </tr>\n    <tr>\n      <th>know</th>\n      <td>46</td>\n      <td>63</td>\n      <td>0.730159</td>\n    </tr>\n    <tr>\n      <th>going</th>\n      <td>44</td>\n      <td>63</td>\n      <td>0.698413</td>\n    </tr>\n    <tr>\n      <th>...</th>\n      <th>...</th>\n      <td>...</td>\n      <td>...</td>\n      <td>...</td>\n    </tr>\n    <tr>\n      <th rowspan=\"5\" valign=\"top\">speech_9</th>\n      <th>wonderful</th>\n      <td>1</td>\n      <td>46</td>\n      <td>0.021739</td>\n    </tr>\n    <tr>\n      <th>workers</th>\n      <td>1</td>\n      <td>46</td>\n      <td>0.021739</td>\n    </tr>\n    <tr>\n      <th>wounding</th>\n      <td>1</td>\n      <td>46</td>\n      <td>0.021739</td>\n    </tr>\n    <tr>\n      <th>wrong</th>\n      <td>1</td>\n      <td>46</td>\n      <td>0.021739</td>\n    </tr>\n    <tr>\n      <th>young</th>\n      <td>1</td>\n      <td>46</td>\n      <td>0.021739</td>\n    </tr>\n  </tbody>\n</table>\n<p>38177 rows × 3 columns</p>\n</div>"
     },
     "metadata": {}
    }
   ],
   "source": [
    "max_frequency = counts.groupby('document').max().rename(columns={'frequency':'maxFreq'})\n",
    "tf = counts.join(max_frequency)\n",
    "tf['tf'] = tf['frequency'] / tf['maxFreq']\n",
    "display(tf)"
   ]
  },
  {
   "cell_type": "markdown",
   "metadata": {},
   "source": [
    "## Computing IDF"
   ]
  },
  {
   "cell_type": "code",
   "execution_count": 27,
   "metadata": {},
   "outputs": [
    {
     "output_type": "stream",
     "name": "stdout",
     "text": "56\n"
    },
    {
     "output_type": "display_data",
     "data": {
      "text/plain": "       df\nword     \n0       3\n00      1\n000    50\n05      1\n055     1\n...    ..\nyuma    1\nzero    5\nzone    2\nzones   3\nâ      53\n\n[6980 rows x 1 columns]",
      "text/html": "<div>\n<style scoped>\n    .dataframe tbody tr th:only-of-type {\n        vertical-align: middle;\n    }\n\n    .dataframe tbody tr th {\n        vertical-align: top;\n    }\n\n    .dataframe thead th {\n        text-align: right;\n    }\n</style>\n<table border=\"1\" class=\"dataframe\">\n  <thead>\n    <tr style=\"text-align: right;\">\n      <th></th>\n      <th>df</th>\n    </tr>\n    <tr>\n      <th>word</th>\n      <th></th>\n    </tr>\n  </thead>\n  <tbody>\n    <tr>\n      <th>0</th>\n      <td>3</td>\n    </tr>\n    <tr>\n      <th>00</th>\n      <td>1</td>\n    </tr>\n    <tr>\n      <th>000</th>\n      <td>50</td>\n    </tr>\n    <tr>\n      <th>05</th>\n      <td>1</td>\n    </tr>\n    <tr>\n      <th>055</th>\n      <td>1</td>\n    </tr>\n    <tr>\n      <th>...</th>\n      <td>...</td>\n    </tr>\n    <tr>\n      <th>yuma</th>\n      <td>1</td>\n    </tr>\n    <tr>\n      <th>zero</th>\n      <td>5</td>\n    </tr>\n    <tr>\n      <th>zone</th>\n      <td>2</td>\n    </tr>\n    <tr>\n      <th>zones</th>\n      <td>3</td>\n    </tr>\n    <tr>\n      <th>â</th>\n      <td>53</td>\n    </tr>\n  </tbody>\n</table>\n<p>6980 rows × 1 columns</p>\n</div>"
     },
     "metadata": {}
    }
   ],
   "source": [
    "doc_count = df['document'].nunique()\n",
    "doc_freq = words.groupby('word')['document'].nunique().to_frame().rename(columns={'document':'df'})\n",
    "print(doc_count)\n",
    "display(doc_freq)"
   ]
  },
  {
   "cell_type": "markdown",
   "metadata": {},
   "source": [
    "## Computing TF-IDF"
   ]
  },
  {
   "cell_type": "code",
   "execution_count": 28,
   "metadata": {},
   "outputs": [
    {
     "output_type": "display_data",
     "data": {
      "text/plain": "                    frequency  maxFreq        tf  df       idf     tfidf\ndocument word                                                           \nspeech_0 â                 63       63  1.000000  53  0.079434  0.079434\n         trump             57       63  0.904762  46  0.283793  0.256765\n         people            55       63  0.873016  56  0.000000  0.000000\n         know              46       63  0.730159  40  0.485427  0.354439\n         going             44       63  0.698413  53  0.079434  0.055478\n...                       ...      ...       ...  ..       ...       ...\nspeech_9 wonderful          1       46  0.021739  18  1.637430  0.035596\n         workers            1       46  0.021739  38  0.559427  0.012161\n         wounding           1       46  0.021739   2  4.807355  0.104508\n         wrong              1       46  0.021739  16  1.807355  0.039290\n         young              1       46  0.021739  34  0.719892  0.015650\n\n[38177 rows x 6 columns]",
      "text/html": "<div>\n<style scoped>\n    .dataframe tbody tr th:only-of-type {\n        vertical-align: middle;\n    }\n\n    .dataframe tbody tr th {\n        vertical-align: top;\n    }\n\n    .dataframe thead th {\n        text-align: right;\n    }\n</style>\n<table border=\"1\" class=\"dataframe\">\n  <thead>\n    <tr style=\"text-align: right;\">\n      <th></th>\n      <th></th>\n      <th>frequency</th>\n      <th>maxFreq</th>\n      <th>tf</th>\n      <th>df</th>\n      <th>idf</th>\n      <th>tfidf</th>\n    </tr>\n    <tr>\n      <th>document</th>\n      <th>word</th>\n      <th></th>\n      <th></th>\n      <th></th>\n      <th></th>\n      <th></th>\n      <th></th>\n    </tr>\n  </thead>\n  <tbody>\n    <tr>\n      <th rowspan=\"5\" valign=\"top\">speech_0</th>\n      <th>â</th>\n      <td>63</td>\n      <td>63</td>\n      <td>1.000000</td>\n      <td>53</td>\n      <td>0.079434</td>\n      <td>0.079434</td>\n    </tr>\n    <tr>\n      <th>trump</th>\n      <td>57</td>\n      <td>63</td>\n      <td>0.904762</td>\n      <td>46</td>\n      <td>0.283793</td>\n      <td>0.256765</td>\n    </tr>\n    <tr>\n      <th>people</th>\n      <td>55</td>\n      <td>63</td>\n      <td>0.873016</td>\n      <td>56</td>\n      <td>0.000000</td>\n      <td>0.000000</td>\n    </tr>\n    <tr>\n      <th>know</th>\n      <td>46</td>\n      <td>63</td>\n      <td>0.730159</td>\n      <td>40</td>\n      <td>0.485427</td>\n      <td>0.354439</td>\n    </tr>\n    <tr>\n      <th>going</th>\n      <td>44</td>\n      <td>63</td>\n      <td>0.698413</td>\n      <td>53</td>\n      <td>0.079434</td>\n      <td>0.055478</td>\n    </tr>\n    <tr>\n      <th>...</th>\n      <th>...</th>\n      <td>...</td>\n      <td>...</td>\n      <td>...</td>\n      <td>...</td>\n      <td>...</td>\n      <td>...</td>\n    </tr>\n    <tr>\n      <th rowspan=\"5\" valign=\"top\">speech_9</th>\n      <th>wonderful</th>\n      <td>1</td>\n      <td>46</td>\n      <td>0.021739</td>\n      <td>18</td>\n      <td>1.637430</td>\n      <td>0.035596</td>\n    </tr>\n    <tr>\n      <th>workers</th>\n      <td>1</td>\n      <td>46</td>\n      <td>0.021739</td>\n      <td>38</td>\n      <td>0.559427</td>\n      <td>0.012161</td>\n    </tr>\n    <tr>\n      <th>wounding</th>\n      <td>1</td>\n      <td>46</td>\n      <td>0.021739</td>\n      <td>2</td>\n      <td>4.807355</td>\n      <td>0.104508</td>\n    </tr>\n    <tr>\n      <th>wrong</th>\n      <td>1</td>\n      <td>46</td>\n      <td>0.021739</td>\n      <td>16</td>\n      <td>1.807355</td>\n      <td>0.039290</td>\n    </tr>\n    <tr>\n      <th>young</th>\n      <td>1</td>\n      <td>46</td>\n      <td>0.021739</td>\n      <td>34</td>\n      <td>0.719892</td>\n      <td>0.015650</td>\n    </tr>\n  </tbody>\n</table>\n<p>38177 rows × 6 columns</p>\n</div>"
     },
     "metadata": {}
    }
   ],
   "source": [
    "doc_freq['idf'] = np.log2(doc_count / doc_freq['df'].values)\n",
    "result = tf.join(doc_freq)\n",
    "result['tfidf'] = result['tf'] * result['idf']\n",
    "display(result)"
   ]
  },
  {
   "cell_type": "code",
   "execution_count": null,
   "metadata": {},
   "outputs": [],
   "source": []
  }
 ],
 "metadata": {
  "language_info": {
   "codemirror_mode": {
    "name": "ipython",
    "version": 3
   },
   "file_extension": ".py",
   "mimetype": "text/x-python",
   "name": "python",
   "nbconvert_exporter": "python",
   "pygments_lexer": "ipython3",
   "version": "3.8.2-final"
  },
  "orig_nbformat": 2,
  "kernelspec": {
   "name": "python38264bit20b2955c6730496ab2ce3153d8f806b8",
   "display_name": "Python 3.8.2 64-bit"
  }
 },
 "nbformat": 4,
 "nbformat_minor": 2
}