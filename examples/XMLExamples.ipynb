{
 "cells": [
  {
   "cell_type": "markdown",
   "metadata": {},
   "source": [
    "# XML"
   ]
  },
  {
   "cell_type": "code",
   "execution_count": 7,
   "metadata": {},
   "outputs": [],
   "source": [
    "import numpy as np\n",
    "import pandas as pd\n",
    "import requests\n",
    "from lxml import html"
   ]
  },
  {
   "cell_type": "markdown",
   "metadata": {},
   "source": [
    "## XML Tree\n",
    "\n",
    "* The root node has an incoming edge\n",
    "* All the edges are labeled and all the leaf nodes are labeled\n",
    "* A non-leaf node does not have a label. However, it can have some attributes and values, all of which are string types\n",
    "* The order of the children of a parent node is important, like a list\n",
    "* The tree represents the actual data (labels and attributes) and meta info (labels of edges)\n",
    "\n",
    "![title](./pic/xmlTree.png)\n"
   ]
  },
  {
   "cell_type": "markdown",
   "metadata": {},
   "source": [
    "```xml\n",
    "<? xml version=\"1.0\" standalone = \"yes\" ?>\n",
    "<MovieData>\n",
    "    <Star id=\"es\" movie=\"lala\">\n",
    "        <Name>Emma Stone</Name>\n",
    "        <Address>222 Sunset Blvd. Hollywood</Address>\n",
    "    </Star>\n",
    "    <Star id=\"rg\" movie=\"lala\">\n",
    "        <Name>Ryan Gosling</Name>\n",
    "        <Address>\n",
    "            <City>Los Angeles</City>\n",
    "            <Zip>90210</Zip>\n",
    "        </Address>\n",
    "    </Star>\n",
    "    <Movie id=\"lala\" year=\"2016\" actors=\"rg es\">\n",
    "        <Name>La La Land</Name>\n",
    "    </Movie>\n",
    "</MovieData>\n",
    "```\n",
    "Standalone means there's no previous data definitions being used\n",
    "\n",
    "Version can be 1.0 or 1.1"
   ]
  },
  {
   "cell_type": "markdown",
   "metadata": {},
   "source": [
    "## Example DTD with IDs"
   ]
  },
  {
   "cell_type": "markdown",
   "metadata": {},
   "source": [
    "```xml\n",
    "<!DOCTYPE MovieData [\n",
    "    <!ELEMENT MovieData (Star*, Movie*)>\n",
    "    <!ELEMENT Star (Name,Address+)>\n",
    "        <!ATTLIST Star\n",
    "            id ID #REQUIRED\n",
    "            movie IDREFS #IMPLIED\n",
    "        >\n",
    "    <!ELEMENT Name (#PCDATA)>\n",
    "    <!ELEMENT Address ((#PCDATA) | (City, Zip))>\n",
    "    <!ELEMENT City (#PCDATA)>\n",
    "    <!ELEMENT Zip (#PCDATA)>\n",
    "    <!ELEMENT Movie (Name, Year)>\n",
    "        <!ATTLIST Movie\n",
    "            id ID #REQUIRED\n",
    "            actors IDREFS #IMPLIED\n",
    "            year CDATA\n",
    "        >\n",
    "]>\n",
    "```\n",
    "* \\+ means one or more of the attribute exists, * means 0 or more\n",
    "* An ID attribute must be unique, and IDREFS attribute must be an existing ID\n",
    "* #PCDATA just means the label is a string"
   ]
  },
  {
   "cell_type": "markdown",
   "metadata": {},
   "source": [
    "## Namespaces\n",
    "\n",
    "For when 2 XML files use the same tag name"
   ]
  },
  {
   "cell_type": "markdown",
   "metadata": {},
   "source": [
    "```xml\n",
    "<md:MovieData xmlns:md = \"http://www.example.org/movies\">\n",
    "    <md:Star ...>\n",
    "\n",
    "    </md:Star>\n",
    "</md:MovieData>\n",
    "```\n",
    "Using the namespace from \"http://www.example.org/movies\""
   ]
  },
  {
   "cell_type": "markdown",
   "metadata": {},
   "source": [
    "## XPath\n",
    "\n",
    "Language for searching in the tree by specifying a path\n",
    "\n",
    "* Axis:\n",
    "    * `//` = all descendants\n",
    "    * `.` = self\n",
    "    * `..` = parent\n",
    "    * `/` = child\n",
    "    * `/*/` = down one edge\n",
    "* Use `@id` to refer to attribute `id`\n",
    "* The can be a forest (an array of XML docs)\n",
    "* Use `text_content()` to get the label of a leaf node\n",
    "* Use `[]` to specify a condition, and `text()` to get the value of a leaf node inside a condition\n",
    "* `[]` also can be used to specify which element you want if there are multiple elements (1 based indexing)"
   ]
  },
  {
   "cell_type": "markdown",
   "metadata": {},
   "source": [
    "## Scraping Web Pages/Loading XML Files"
   ]
  },
  {
   "cell_type": "code",
   "execution_count": 9,
   "metadata": {},
   "outputs": [
    {
     "output_type": "display_data",
     "data": {
      "text/plain": "                             gold               silver  \\\ngames                                                    \n1980 Moscow           Thierry Rey       José Rodríguez   \n1984 Los Angeles  Shinji Hosokawa          Kim Jae-yup   \n1988 Seoul            Kim Jae-yup          Kevin Asano   \n1992 Barcelona     Nazim Huseynov            Yoon Hyun   \n1996 Atlanta      Tadahiro Nomura  Girolamo Giovinazzo   \n...                           ...                  ...   \n2000 Sydney              Yuan Hua        Daima Beltrán   \n2004 Athens          Maki Tsukada        Daima Beltrán   \n2008 Beijing             Tong Wen         Maki Tsukada   \n2012 London          Idalys Ortiz        Mika Sugimoto   \n2016 Rio            Émilie Andéol         Idalys Ortiz   \n\n                                 bronze1              bronze2  \ngames                                                          \n1980 Moscow                Tibor Kincses         Aramby Emizh  \n1984 Los Angeles          Neil Eckersley        Edward Liddie  \n1988 Seoul               Shinji Hosokawa  Amiran Totikashvili  \n1992 Barcelona          Tadanori Koshino    Richard Trautmann  \n1996 Atlanta      Dorjpalamyn Narmandakh    Richard Trautmann  \n...                                  ...                  ...  \n2000 Sydney               Kim Seon-Young     Mayumi Yamashita  \n2004 Athens            Tea Donguzashvili           Sun Fuming  \n2008 Beijing             Lucija Polavder         Idalys Ortiz  \n2012 London                Karina Bryant             Tong Wen  \n2016 Rio                    Kanae Yamabe              Yu Song  \n\n[137 rows x 4 columns]",
      "text/html": "<div>\n<style scoped>\n    .dataframe tbody tr th:only-of-type {\n        vertical-align: middle;\n    }\n\n    .dataframe tbody tr th {\n        vertical-align: top;\n    }\n\n    .dataframe thead th {\n        text-align: right;\n    }\n</style>\n<table border=\"1\" class=\"dataframe\">\n  <thead>\n    <tr style=\"text-align: right;\">\n      <th></th>\n      <th>gold</th>\n      <th>silver</th>\n      <th>bronze1</th>\n      <th>bronze2</th>\n    </tr>\n    <tr>\n      <th>games</th>\n      <th></th>\n      <th></th>\n      <th></th>\n      <th></th>\n    </tr>\n  </thead>\n  <tbody>\n    <tr>\n      <th>1980 Moscow</th>\n      <td>Thierry Rey</td>\n      <td>José Rodríguez</td>\n      <td>Tibor Kincses</td>\n      <td>Aramby Emizh</td>\n    </tr>\n    <tr>\n      <th>1984 Los Angeles</th>\n      <td>Shinji Hosokawa</td>\n      <td>Kim Jae-yup</td>\n      <td>Neil Eckersley</td>\n      <td>Edward Liddie</td>\n    </tr>\n    <tr>\n      <th>1988 Seoul</th>\n      <td>Kim Jae-yup</td>\n      <td>Kevin Asano</td>\n      <td>Shinji Hosokawa</td>\n      <td>Amiran Totikashvili</td>\n    </tr>\n    <tr>\n      <th>1992 Barcelona</th>\n      <td>Nazim Huseynov</td>\n      <td>Yoon Hyun</td>\n      <td>Tadanori Koshino</td>\n      <td>Richard Trautmann</td>\n    </tr>\n    <tr>\n      <th>1996 Atlanta</th>\n      <td>Tadahiro Nomura</td>\n      <td>Girolamo Giovinazzo</td>\n      <td>Dorjpalamyn Narmandakh</td>\n      <td>Richard Trautmann</td>\n    </tr>\n    <tr>\n      <th>...</th>\n      <td>...</td>\n      <td>...</td>\n      <td>...</td>\n      <td>...</td>\n    </tr>\n    <tr>\n      <th>2000 Sydney</th>\n      <td>Yuan Hua</td>\n      <td>Daima Beltrán</td>\n      <td>Kim Seon-Young</td>\n      <td>Mayumi Yamashita</td>\n    </tr>\n    <tr>\n      <th>2004 Athens</th>\n      <td>Maki Tsukada</td>\n      <td>Daima Beltrán</td>\n      <td>Tea Donguzashvili</td>\n      <td>Sun Fuming</td>\n    </tr>\n    <tr>\n      <th>2008 Beijing</th>\n      <td>Tong Wen</td>\n      <td>Maki Tsukada</td>\n      <td>Lucija Polavder</td>\n      <td>Idalys Ortiz</td>\n    </tr>\n    <tr>\n      <th>2012 London</th>\n      <td>Idalys Ortiz</td>\n      <td>Mika Sugimoto</td>\n      <td>Karina Bryant</td>\n      <td>Tong Wen</td>\n    </tr>\n    <tr>\n      <th>2016 Rio</th>\n      <td>Émilie Andéol</td>\n      <td>Idalys Ortiz</td>\n      <td>Kanae Yamabe</td>\n      <td>Yu Song</td>\n    </tr>\n  </tbody>\n</table>\n<p>137 rows × 4 columns</p>\n</div>"
     },
     "metadata": {}
    }
   ],
   "source": [
    "pageContent = requests.get('https://en.wikipedia.org/wiki/List_of_Olympic_medalists_in_judo')\n",
    "tree = html.fromstring(pageContent.content)\n",
    "gold = tree.xpath('//table/tbody/tr/td[2]/a[1]/text()')\n",
    "silver = tree.xpath('//table/tbody/tr/td[3]/a[1]/text()')\n",
    "silver.insert(21,'not awarded')\n",
    "bronze = tree.xpath('//table/tbody/tr/td[not(@rowspan=\"2\")]/a[1]/text()')\n",
    "bronze1 = bronze[0::2]\n",
    "bronze2 = bronze[1::2]\n",
    "games = tree.xpath('//table/tbody/tr/td[1][@rowspan=\"2\"]/a[1]/text()')\n",
    "games = list(filter(lambda x: x != '2020 Tokyo', games))\n",
    "df = pd.DataFrame({'games':games,'gold':gold,'silver':silver,'bronze1':bronze1,'bronze2':bronze2})\n",
    "df = df.set_index('games')\n",
    "display(df)"
   ]
  }
 ],
 "metadata": {
  "language_info": {
   "codemirror_mode": {
    "name": "ipython",
    "version": 3
   },
   "file_extension": ".py",
   "mimetype": "text/x-python",
   "name": "python",
   "nbconvert_exporter": "python",
   "pygments_lexer": "ipython3",
   "version": "3.8.2-final"
  },
  "orig_nbformat": 2,
  "kernelspec": {
   "name": "python38264bit20b2955c6730496ab2ce3153d8f806b8",
   "display_name": "Python 3.8.2 64-bit"
  }
 },
 "nbformat": 4,
 "nbformat_minor": 2
}