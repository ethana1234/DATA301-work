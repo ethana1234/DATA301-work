{
 "cells": [
  {
   "cell_type": "code",
   "execution_count": 94,
   "metadata": {},
   "outputs": [],
   "source": [
    "import numpy as np\n",
    "import pandas as pd\n",
    "from pandas_datareader import data"
   ]
  },
  {
   "cell_type": "markdown",
   "metadata": {},
   "source": [
    "# Assignment 3\n",
    "\n",
    "## Question 1\n",
    "\n",
    "Create a DataFrame with the info given on the assignment"
   ]
  },
  {
   "cell_type": "code",
   "execution_count": 12,
   "metadata": {},
   "outputs": [
    {
     "output_type": "display_data",
     "data": {
      "text/plain": "              Price                  Price to earning ratio (P/E)         \\\n           Facebook Google Microsoft                     Facebook Google   \ndate                                                                       \n2017-06-05      155    955        66                        37.10   32.0   \n2017-06-06      150    987        69                        36.98   31.3   \n2017-06-07      153    963        62                        36.78   31.7   \n2017-06-08      155   1000        61                        36.11   31.2   \n2017-06-09      156   1012        66                        37.07   30.0   \n\n                      \n           Microsoft  \ndate                  \n2017-06-05     30.31  \n2017-06-06     30.56  \n2017-06-07     30.46  \n2017-06-08     30.11  \n2017-06-09     31.00  ",
      "text/html": "<div>\n<style scoped>\n    .dataframe tbody tr th:only-of-type {\n        vertical-align: middle;\n    }\n\n    .dataframe tbody tr th {\n        vertical-align: top;\n    }\n\n    .dataframe thead tr th {\n        text-align: left;\n    }\n\n    .dataframe thead tr:last-of-type th {\n        text-align: right;\n    }\n</style>\n<table border=\"1\" class=\"dataframe\">\n  <thead>\n    <tr>\n      <th></th>\n      <th colspan=\"3\" halign=\"left\">Price</th>\n      <th colspan=\"3\" halign=\"left\">Price to earning ratio (P/E)</th>\n    </tr>\n    <tr>\n      <th></th>\n      <th>Facebook</th>\n      <th>Google</th>\n      <th>Microsoft</th>\n      <th>Facebook</th>\n      <th>Google</th>\n      <th>Microsoft</th>\n    </tr>\n    <tr>\n      <th>date</th>\n      <th></th>\n      <th></th>\n      <th></th>\n      <th></th>\n      <th></th>\n      <th></th>\n    </tr>\n  </thead>\n  <tbody>\n    <tr>\n      <th>2017-06-05</th>\n      <td>155</td>\n      <td>955</td>\n      <td>66</td>\n      <td>37.10</td>\n      <td>32.0</td>\n      <td>30.31</td>\n    </tr>\n    <tr>\n      <th>2017-06-06</th>\n      <td>150</td>\n      <td>987</td>\n      <td>69</td>\n      <td>36.98</td>\n      <td>31.3</td>\n      <td>30.56</td>\n    </tr>\n    <tr>\n      <th>2017-06-07</th>\n      <td>153</td>\n      <td>963</td>\n      <td>62</td>\n      <td>36.78</td>\n      <td>31.7</td>\n      <td>30.46</td>\n    </tr>\n    <tr>\n      <th>2017-06-08</th>\n      <td>155</td>\n      <td>1000</td>\n      <td>61</td>\n      <td>36.11</td>\n      <td>31.2</td>\n      <td>30.11</td>\n    </tr>\n    <tr>\n      <th>2017-06-09</th>\n      <td>156</td>\n      <td>1012</td>\n      <td>66</td>\n      <td>37.07</td>\n      <td>30.0</td>\n      <td>31.00</td>\n    </tr>\n  </tbody>\n</table>\n</div>"
     },
     "metadata": {}
    }
   ],
   "source": [
    "data = [[155,955,66,37.10,32.0,30.31],[150,987,69,36.98,31.3,30.56],[153,963,62,36.78,31.7,30.46],[155,1000,61,36.11,31.2,30.11],[156,1012,66,37.07,30.0,31.00]]\n",
    "columns = pd.MultiIndex.from_product([['Price','Price to earning ratio (P/E)'],['Facebook','Google','Microsoft']])\n",
    "index = pd.Index(pd.to_datetime('2017-06-05') + pd.to_timedelta(np.arange(5), 'D'),name='date')\n",
    "ans1 = pd.DataFrame(data=data,columns=columns,index=index)\n",
    "display(ans1)"
   ]
  },
  {
   "cell_type": "markdown",
   "metadata": {},
   "source": [
    "## Question 2\n",
    "\n",
    "Set the index to be the date, then show info for each date and company"
   ]
  },
  {
   "cell_type": "code",
   "execution_count": 14,
   "metadata": {},
   "outputs": [
    {
     "output_type": "execute_result",
     "data": {
      "text/plain": "                      Price  Price to earning ratio (P/E)\ndate                                                     \n2017-06-05 Facebook     155                         37.10\n           Google       955                         32.00\n           Microsoft     66                         30.31\n2017-06-06 Facebook     150                         36.98\n           Google       987                         31.30\n           Microsoft     69                         30.56\n2017-06-07 Facebook     153                         36.78\n           Google       963                         31.70\n           Microsoft     62                         30.46\n2017-06-08 Facebook     155                         36.11\n           Google      1000                         31.20\n           Microsoft     61                         30.11\n2017-06-09 Facebook     156                         37.07\n           Google      1012                         30.00\n           Microsoft     66                         31.00",
      "text/html": "<div>\n<style scoped>\n    .dataframe tbody tr th:only-of-type {\n        vertical-align: middle;\n    }\n\n    .dataframe tbody tr th {\n        vertical-align: top;\n    }\n\n    .dataframe thead th {\n        text-align: right;\n    }\n</style>\n<table border=\"1\" class=\"dataframe\">\n  <thead>\n    <tr style=\"text-align: right;\">\n      <th></th>\n      <th></th>\n      <th>Price</th>\n      <th>Price to earning ratio (P/E)</th>\n    </tr>\n    <tr>\n      <th>date</th>\n      <th></th>\n      <th></th>\n      <th></th>\n    </tr>\n  </thead>\n  <tbody>\n    <tr>\n      <th rowspan=\"3\" valign=\"top\">2017-06-05</th>\n      <th>Facebook</th>\n      <td>155</td>\n      <td>37.10</td>\n    </tr>\n    <tr>\n      <th>Google</th>\n      <td>955</td>\n      <td>32.00</td>\n    </tr>\n    <tr>\n      <th>Microsoft</th>\n      <td>66</td>\n      <td>30.31</td>\n    </tr>\n    <tr>\n      <th rowspan=\"3\" valign=\"top\">2017-06-06</th>\n      <th>Facebook</th>\n      <td>150</td>\n      <td>36.98</td>\n    </tr>\n    <tr>\n      <th>Google</th>\n      <td>987</td>\n      <td>31.30</td>\n    </tr>\n    <tr>\n      <th>Microsoft</th>\n      <td>69</td>\n      <td>30.56</td>\n    </tr>\n    <tr>\n      <th rowspan=\"3\" valign=\"top\">2017-06-07</th>\n      <th>Facebook</th>\n      <td>153</td>\n      <td>36.78</td>\n    </tr>\n    <tr>\n      <th>Google</th>\n      <td>963</td>\n      <td>31.70</td>\n    </tr>\n    <tr>\n      <th>Microsoft</th>\n      <td>62</td>\n      <td>30.46</td>\n    </tr>\n    <tr>\n      <th rowspan=\"3\" valign=\"top\">2017-06-08</th>\n      <th>Facebook</th>\n      <td>155</td>\n      <td>36.11</td>\n    </tr>\n    <tr>\n      <th>Google</th>\n      <td>1000</td>\n      <td>31.20</td>\n    </tr>\n    <tr>\n      <th>Microsoft</th>\n      <td>61</td>\n      <td>30.11</td>\n    </tr>\n    <tr>\n      <th rowspan=\"3\" valign=\"top\">2017-06-09</th>\n      <th>Facebook</th>\n      <td>156</td>\n      <td>37.07</td>\n    </tr>\n    <tr>\n      <th>Google</th>\n      <td>1012</td>\n      <td>30.00</td>\n    </tr>\n    <tr>\n      <th>Microsoft</th>\n      <td>66</td>\n      <td>31.00</td>\n    </tr>\n  </tbody>\n</table>\n</div>"
     },
     "metadata": {},
     "execution_count": 14
    }
   ],
   "source": [
    "ans2 = ans1.stack()\n",
    "ans2"
   ]
  },
  {
   "cell_type": "markdown",
   "metadata": {},
   "source": [
    "## Question 3\n",
    "\n",
    "Find the average price and P/E per stock name"
   ]
  },
  {
   "cell_type": "code",
   "execution_count": 36,
   "metadata": {},
   "outputs": [
    {
     "output_type": "execute_result",
     "data": {
      "text/plain": "Price                         Facebook     153.800\n                              Google       983.400\n                              Microsoft     64.800\nPrice to earning ratio (P/E)  Facebook      36.808\n                              Google        31.240\n                              Microsoft     30.488\ndtype: float64"
     },
     "metadata": {},
     "execution_count": 36
    }
   ],
   "source": [
    "ans3 = ans1.unstack().groupby(level=[0,1]).mean()\n",
    "ans3"
   ]
  },
  {
   "cell_type": "markdown",
   "metadata": {},
   "source": [
    "## Question 4\n",
    "\n",
    "Consider a scenario where John is 20, Bob is 30, and Suzan is 22. Suppose that there are three\n",
    "courses: CS 233, CS 455, and ENGL 433. Next, suppose that John took CS 233 and got a C, took CS 455\n",
    "and got a B, and Suzan took ENGL 433 and got an A. Create three data frames. The student data\n",
    "frame should store the student name and age. The course data frame should store the department,\n",
    "course number, and description. Finally, the takes data frame should store the student name,\n",
    "department name, course number, and grade. You can assume that each student has unique name."
   ]
  },
  {
   "cell_type": "code",
   "execution_count": 49,
   "metadata": {},
   "outputs": [
    {
     "output_type": "execute_result",
     "data": {
      "text/plain": "       Age\nName      \nJohn    20\nBob     30\nSuzan   22",
      "text/html": "<div>\n<style scoped>\n    .dataframe tbody tr th:only-of-type {\n        vertical-align: middle;\n    }\n\n    .dataframe tbody tr th {\n        vertical-align: top;\n    }\n\n    .dataframe thead th {\n        text-align: right;\n    }\n</style>\n<table border=\"1\" class=\"dataframe\">\n  <thead>\n    <tr style=\"text-align: right;\">\n      <th></th>\n      <th>Age</th>\n    </tr>\n    <tr>\n      <th>Name</th>\n      <th></th>\n    </tr>\n  </thead>\n  <tbody>\n    <tr>\n      <th>John</th>\n      <td>20</td>\n    </tr>\n    <tr>\n      <th>Bob</th>\n      <td>30</td>\n    </tr>\n    <tr>\n      <th>Suzan</th>\n      <td>22</td>\n    </tr>\n  </tbody>\n</table>\n</div>"
     },
     "metadata": {},
     "execution_count": 49
    }
   ],
   "source": [
    "student = pd.DataFrame.from_dict({'John':[20],'Bob':[30],'Suzan':[22]},orient='index',columns=['Age'])\n",
    "student.index.name = 'Name'\n",
    "student"
   ]
  },
  {
   "cell_type": "code",
   "execution_count": 51,
   "metadata": {},
   "outputs": [
    {
     "output_type": "execute_result",
     "data": {
      "text/plain": "         Department  Course Number         Description\nCourse                                                \nCS 233     Comp Sci            233                 OOP\nCS 455     Comp Sci            455       Deep Learning\nENGL 433    English            433  British Literature",
      "text/html": "<div>\n<style scoped>\n    .dataframe tbody tr th:only-of-type {\n        vertical-align: middle;\n    }\n\n    .dataframe tbody tr th {\n        vertical-align: top;\n    }\n\n    .dataframe thead th {\n        text-align: right;\n    }\n</style>\n<table border=\"1\" class=\"dataframe\">\n  <thead>\n    <tr style=\"text-align: right;\">\n      <th></th>\n      <th>Department</th>\n      <th>Course Number</th>\n      <th>Description</th>\n    </tr>\n    <tr>\n      <th>Course</th>\n      <th></th>\n      <th></th>\n      <th></th>\n    </tr>\n  </thead>\n  <tbody>\n    <tr>\n      <th>CS 233</th>\n      <td>Comp Sci</td>\n      <td>233</td>\n      <td>OOP</td>\n    </tr>\n    <tr>\n      <th>CS 455</th>\n      <td>Comp Sci</td>\n      <td>455</td>\n      <td>Deep Learning</td>\n    </tr>\n    <tr>\n      <th>ENGL 433</th>\n      <td>English</td>\n      <td>433</td>\n      <td>British Literature</td>\n    </tr>\n  </tbody>\n</table>\n</div>"
     },
     "metadata": {},
     "execution_count": 51
    }
   ],
   "source": [
    "course = pd.DataFrame.from_dict({'CS 233':['Comp Sci',233,'OOP'],'CS 455':['Comp Sci',455,'Deep Learning'],'ENGL 433':['English',433,'British Literature']},orient='index')\n",
    "course.index.name = 'Course'\n",
    "course.columns = ['Department','Course Number','Description']\n",
    "course"
   ]
  },
  {
   "cell_type": "code",
   "execution_count": 52,
   "metadata": {},
   "outputs": [
    {
     "output_type": "execute_result",
     "data": {
      "text/plain": "    Name Department  Course Number Grade\n0   John   Comp Sci            233     C\n1   John   Comp Sci            455     B\n2  Suzan    English            433     A",
      "text/html": "<div>\n<style scoped>\n    .dataframe tbody tr th:only-of-type {\n        vertical-align: middle;\n    }\n\n    .dataframe tbody tr th {\n        vertical-align: top;\n    }\n\n    .dataframe thead th {\n        text-align: right;\n    }\n</style>\n<table border=\"1\" class=\"dataframe\">\n  <thead>\n    <tr style=\"text-align: right;\">\n      <th></th>\n      <th>Name</th>\n      <th>Department</th>\n      <th>Course Number</th>\n      <th>Grade</th>\n    </tr>\n  </thead>\n  <tbody>\n    <tr>\n      <th>0</th>\n      <td>John</td>\n      <td>Comp Sci</td>\n      <td>233</td>\n      <td>C</td>\n    </tr>\n    <tr>\n      <th>1</th>\n      <td>John</td>\n      <td>Comp Sci</td>\n      <td>455</td>\n      <td>B</td>\n    </tr>\n    <tr>\n      <th>2</th>\n      <td>Suzan</td>\n      <td>English</td>\n      <td>433</td>\n      <td>A</td>\n    </tr>\n  </tbody>\n</table>\n</div>"
     },
     "metadata": {},
     "execution_count": 52
    }
   ],
   "source": [
    "takes = pd.DataFrame([['John','Comp Sci',233,'C'],['John','Comp Sci',455,'B'],['Suzan','English',433,'A']])\n",
    "takes.columns = ['Name','Department','Course Number','Grade']\n",
    "takes"
   ]
  },
  {
   "cell_type": "markdown",
   "metadata": {},
   "source": [
    "## Question 5\n",
    "\n",
    "Find the GPA for each student, with 0 for a student that has no classes"
   ]
  },
  {
   "cell_type": "code",
   "execution_count": 73,
   "metadata": {},
   "outputs": [
    {
     "output_type": "execute_result",
     "data": {
      "text/plain": "{'John': 2.5, 'Bob': 0.0, 'Suzan': 4.0}"
     },
     "metadata": {},
     "execution_count": 73
    }
   ],
   "source": [
    "grade_number = {'A':4.0,'B':3.0,'C':2.0,'D':1.0}\n",
    "gpa_totals = {person : 0.0 for person in list(student.index)}\n",
    "def add_row_to_gpa(row):\n",
    "    gpa_totals[row['Name']] = (gpa_totals[row['Name']] + grade_number[row['Grade']]) / 2 if gpa_totals[row['Name']] != 0 else grade_number[row['Grade']]\n",
    "takes.apply(add_row_to_gpa,axis=1)\n",
    "gpa_totals"
   ]
  },
  {
   "cell_type": "markdown",
   "metadata": {},
   "source": [
    "## Question 6\n",
    "\n",
    "Print the name of studnets that have taken no classes"
   ]
  },
  {
   "cell_type": "code",
   "execution_count": 81,
   "metadata": {},
   "outputs": [
    {
     "output_type": "stream",
     "name": "stdout",
     "text": "Bob\n"
    }
   ],
   "source": [
    "for person in student.index:\n",
    "    if person not in list(takes['Name']):\n",
    "        print(person)"
   ]
  },
  {
   "cell_type": "markdown",
   "metadata": {},
   "source": [
    "## Question 7\n",
    "\n",
    "Create a Series, with the index being all business days in 2018 and the numbers from 0 to 260 as values."
   ]
  },
  {
   "cell_type": "code",
   "execution_count": 87,
   "metadata": {},
   "outputs": [
    {
     "output_type": "execute_result",
     "data": {
      "text/plain": "2018-01-01      0\n2018-01-02      1\n2018-01-03      2\n2018-01-04      3\n2018-01-05      4\n             ... \n2018-12-25    256\n2018-12-26    257\n2018-12-27    258\n2018-12-28    259\n2018-12-31    260\nFreq: B, Length: 261, dtype: int64"
     },
     "metadata": {},
     "execution_count": 87
    }
   ],
   "source": [
    "ans7 = pd.Series(data=range(261),index=pd.date_range(start='2018',end='2019',freq='B')[:-1])\n",
    "ans7"
   ]
  },
  {
   "cell_type": "markdown",
   "metadata": {},
   "source": [
    "## Question 8\n",
    "\n",
    "Create a DataFrame with the number of each day of the week in 2018."
   ]
  },
  {
   "cell_type": "code",
   "execution_count": 108,
   "metadata": {},
   "outputs": [
    {
     "output_type": "execute_result",
     "data": {
      "text/plain": "Monday       53\nTuesday      52\nWednesday    52\nThursday     52\nFriday       52\nSaturday     52\nSunday       52\ndtype: int64"
     },
     "metadata": {},
     "execution_count": 108
    }
   ],
   "source": [
    "s = pd.date_range('2018','2019',freq='D')[:-1].to_series()\n",
    "ans8 = s.dt.dayofweek.value_counts().sort_index()\n",
    "ans8.index = ['Monday','Tuesday','Wednesday','Thursday','Friday','Saturday','Sunday']\n",
    "ans8"
   ]
  },
  {
   "cell_type": "markdown",
   "metadata": {},
   "source": [
    "## Question 9\n",
    "\n",
    "Which day of the week is the most profitable for the GOOG stock in 2017? Compute the difference between the opneing and closing price for each day of the week and sum over the whole year."
   ]
  },
  {
   "cell_type": "code",
   "execution_count": 115,
   "metadata": {},
   "outputs": [
    {
     "output_type": "execute_result",
     "data": {
      "text/plain": "              Profit\nDOW                 \nWednesday  77.895081\nTuesday    42.460205\nMonday     38.770020\nThursday    5.105225\nFriday      1.340271",
      "text/html": "<div>\n<style scoped>\n    .dataframe tbody tr th:only-of-type {\n        vertical-align: middle;\n    }\n\n    .dataframe tbody tr th {\n        vertical-align: top;\n    }\n\n    .dataframe thead th {\n        text-align: right;\n    }\n</style>\n<table border=\"1\" class=\"dataframe\">\n  <thead>\n    <tr style=\"text-align: right;\">\n      <th></th>\n      <th>Profit</th>\n    </tr>\n    <tr>\n      <th>DOW</th>\n      <th></th>\n    </tr>\n  </thead>\n  <tbody>\n    <tr>\n      <th>Wednesday</th>\n      <td>77.895081</td>\n    </tr>\n    <tr>\n      <th>Tuesday</th>\n      <td>42.460205</td>\n    </tr>\n    <tr>\n      <th>Monday</th>\n      <td>38.770020</td>\n    </tr>\n    <tr>\n      <th>Thursday</th>\n      <td>5.105225</td>\n    </tr>\n    <tr>\n      <th>Friday</th>\n      <td>1.340271</td>\n    </tr>\n  </tbody>\n</table>\n</div>"
     },
     "metadata": {},
     "execution_count": 115
    }
   ],
   "source": [
    "goog = data.DataReader('GOOG','yahoo',start='2017',end='2018')\n",
    "goog = goog.groupby(goog.index.dayofweek).sum()\n",
    "goog.index = ['Monday','Tuesday','Wednesday','Thursday','Friday']\n",
    "goog.index.name = 'DOW'\n",
    "\n",
    "ans9 = pd.DataFrame(data={'Profit':goog['Close'] - goog['Open']},index=goog.index).sort_values(by='Profit',ascending=False)\n",
    "ans9"
   ]
  },
  {
   "cell_type": "code",
   "execution_count": null,
   "metadata": {},
   "outputs": [],
   "source": []
  }
 ],
 "metadata": {
  "language_info": {
   "codemirror_mode": {
    "name": "ipython",
    "version": 3
   },
   "file_extension": ".py",
   "mimetype": "text/x-python",
   "name": "python",
   "nbconvert_exporter": "python",
   "pygments_lexer": "ipython3",
   "version": "3.8.2-final"
  },
  "orig_nbformat": 2,
  "kernelspec": {
   "name": "python38264bit20b2955c6730496ab2ce3153d8f806b8",
   "display_name": "Python 3.8.2 64-bit"
  }
 },
 "nbformat": 4,
 "nbformat_minor": 2
}