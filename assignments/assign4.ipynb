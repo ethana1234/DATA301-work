{
 "cells": [
  {
   "cell_type": "markdown",
   "metadata": {},
   "source": [
    "# Assignment 4"
   ]
  },
  {
   "cell_type": "code",
   "execution_count": 7,
   "metadata": {},
   "outputs": [
    {
     "output_type": "stream",
     "name": "stderr",
     "text": "[nltk_data] Downloading package stopwords to\n[nltk_data]     C:\\Users\\Ethan\\AppData\\Roaming\\nltk_data...\n[nltk_data]   Package stopwords is already up-to-date!\n"
    }
   ],
   "source": [
    "import numpy as np\n",
    "import pandas as pd\n",
    "from lxml import html\n",
    "import nltk\n",
    "nltk.download('stopwords')\n",
    "from nltk.corpus import stopwords"
   ]
  },
  {
   "cell_type": "markdown",
   "metadata": {},
   "source": [
    "Consider the following DTD:\n",
    "\n",
    "```xml\n",
    "<!DOCTYPE University [\n",
    "    <!ELEMENT University (Student*, Teacher*, Course*)>\n",
    "    <!ELEMENT Student (Name, Address+)>\n",
    "        <!ATTLIST Student\n",
    "            studentID ID #REQUIRED\n",
    "            courses IDREFS #IMPLIED\n",
    "        >\n",
    "    <!ELEMENT Name (#PCDATA)>\n",
    "    <!ELEMENT Address (Street, City)>\n",
    "    <!ELEMENT Street (#PCDATA)>\n",
    "    <!ELEMENT City (#PCDATA)>\n",
    "    <!ELEMENT Teacher (Name, Address+)>\n",
    "        <!ATTLIST Teacher\n",
    "            employeeID ID #REQUIRED\n",
    "            courses IDREFS #IMPLIED\n",
    "        >\n",
    "    <!ELEMENT Course (Name)>\n",
    "        <!ATTLIST Course\n",
    "            course ID #REQUIRED\n",
    "            teacher IDREFS #REQUIRED\n",
    "            students IDREFS #REQUIRED\n",
    "        >\n",
    "]>\n",
    "```"
   ]
  },
  {
   "cell_type": "markdown",
   "metadata": {},
   "source": [
    "## Question 1\n",
    "\n",
    "Draw an example XML tree for the DTD. Include several courses, teachers, and students (remember that nodes cannot share IDs).\n",
    "\n",
    "![](assign4pic1.png)"
   ]
  },
  {
   "cell_type": "markdown",
   "metadata": {},
   "source": [
    "## Question 2\n",
    "\n",
    "Show the XML document for the tree.\n",
    "\n",
    "```xml\n",
    "<?xml version=\"1.0\" ?>\n",
    "<University>\n",
    "    <Student studentID=\"eagranof\" courses=\"csc448 data301 csc492\">\n",
    "        <Name>Ethan Agranoff</Name>\n",
    "        <Address>\n",
    "            <Street>Mulberry St.</Street>\n",
    "            <City>Denver</City>\n",
    "        </Address>\n",
    "    </Student>\n",
    "    <Student studentID=\"nabishop\" courses=\"csc448 csc445 csc366\">\n",
    "        <Name>Nick Bishop</Name>\n",
    "        <Address>\n",
    "            <Street>Wadsworth Blvd.</Street>\n",
    "            <City>Seattle</City>\n",
    "        </Address>\n",
    "    </Student>\n",
    "    <Student studentID=\"altschop\" courses=\"csc448 csc309 csc492\">\n",
    "        <Name>Alex Tschopp</Name>\n",
    "        <Address>\n",
    "            <Street>Main St.</Street>\n",
    "            <City>Phoenix</City>\n",
    "        </Address>\n",
    "    </Student>\n",
    "    <Teacher employeeID=\"tblee\" courses=\"csc366 csc309\">\n",
    "        <Name>Tim Berners-Lee</Name>\n",
    "        <Address>\n",
    "            <Street>Denmark Hill</Street>\n",
    "            <City>London</City>\n",
    "        </Address>\n",
    "    </Teacher>\n",
    "    <Teacher employeeID=\"ltorvalds\" courses=\"csc448 csc492\">\n",
    "        <Name>Linus Torvalds</Name>\n",
    "        <Address>\n",
    "            <Street>Kaivokatu</Street>\n",
    "            <City>Helsinki</City>\n",
    "        </Address>\n",
    "    </Teacher>\n",
    "    <Teacher employeeID=\"aturing\" courses=\"csc445 data301\">\n",
    "        <Name>Alan Turing</Name>\n",
    "        <Address>\n",
    "            <Street>Hyde Park Pl.</Street>\n",
    "            <City>Manchester</City>\n",
    "        </Address>\n",
    "    </Teacher>\n",
    "    <Course course=\"csc448\" teacher=\"ltorvalds\" students=\"eagranof nabishop altschop\"></Course>\n",
    "    <Course course=\"csc309\" teacher=\"tblee\" students=\"altschop\"></Course>\n",
    "    <Course course=\"csc366\" teacher=\"tblee\" students=\"nabishop\"></Course>\n",
    "    <Course course=\"csc492\" teacher=\"ltorvalds\" students=\"eagranof altschop\"></Course>\n",
    "    <Course course=\"csc445\" teacher=\"aturing\" students=\"nabishop\"></Course>\n",
    "    <Course course=\"data301\" teacher=\"aturing\" students=\"eagranof\"></Course>\n",
    "</University>\n",
    "```"
   ]
  },
  {
   "cell_type": "markdown",
   "metadata": {},
   "source": [
    "## Question 3\n",
    "\n",
    "Show the xpath query that returns the IDs of the students that are taking the course with ID='csc366'.\n",
    "\n",
    "`//Student[contains(@courses,\"csc366\")]/@studentID`"
   ]
  },
  {
   "cell_type": "code",
   "execution_count": 6,
   "metadata": {},
   "outputs": [
    {
     "output_type": "stream",
     "name": "stdout",
     "text": "nabishop\n"
    }
   ],
   "source": [
    "with open('uni.xml','r') as f:\n",
    "    tree = html.fromstring(f.read())\n",
    "csc366 = tree.xpath('')\n",
    "print(*csc366)"
   ]
  },
  {
   "cell_type": "markdown",
   "metadata": {},
   "source": [
    "## Question 4\n",
    "\n",
    "Create a JSON file for the example in Q2.\n",
    "\n",
    "```json\n",
    "{\n",
    "\t\"University\": {\n",
    "\t\t\"Student\": [\n",
    "\t\t\t{\n",
    "\t\t\t\t\"studentID\": \"eagranof\",\n",
    "\t\t\t\t\"courses\": \"csc448 data301 csc492\",\n",
    "\t\t\t\t\"Name\": \"Ethan Agranoff\",\n",
    "\t\t\t\t\"Address\": {\n",
    "\t\t\t\t\t\"Street\": \"Mulberry St.\",\n",
    "\t\t\t\t\t\"City\": \"Denver\"\n",
    "\t\t\t\t}\n",
    "\t\t\t},\n",
    "\t\t\t{\n",
    "\t\t\t\t\"studentID\": \"nabishop\",\n",
    "\t\t\t\t\"courses\": \"csc448 csc445 csc366\",\n",
    "\t\t\t\t\"Name\": \"Nick Bishop\",\n",
    "\t\t\t\t\"Address\": {\n",
    "\t\t\t\t\t\"Street\": \"Wadsworth Blvd.\",\n",
    "\t\t\t\t\t\"City\": \"Seattle\"\n",
    "\t\t\t\t}\n",
    "\t\t\t},\n",
    "\t\t\t{\n",
    "\t\t\t\t\"studentID\": \"altschop\",\n",
    "\t\t\t\t\"courses\": \"csc448 csc309 csc492\",\n",
    "\t\t\t\t\"Name\": \"Alex Tschopp\",\n",
    "\t\t\t\t\"Address\": {\n",
    "\t\t\t\t\t\"Street\": \"Main St.\",\n",
    "\t\t\t\t\t\"City\": \"Phoenix\"\n",
    "\t\t\t\t}\n",
    "\t\t\t}\n",
    "\t\t],\n",
    "\t\t\"Teacher\": [\n",
    "\t\t\t{\n",
    "\t\t\t\t\"employeeID\": \"tblee\",\n",
    "\t\t\t\t\"courses\": \"csc365 csc309\",\n",
    "\t\t\t\t\"Name\": \"Tim Berners-Lee\",\n",
    "\t\t\t\t\"Address\": {\n",
    "\t\t\t\t\t\"Street\": \"Denmark Hill\",\n",
    "\t\t\t\t\t\"City\": \"London\"\n",
    "\t\t\t\t}\n",
    "\t\t\t},\n",
    "\t\t\t{\n",
    "\t\t\t\t\"employeeID\": \"ltorvalds\",\n",
    "\t\t\t\t\"courses\": \"csc448 csc492\",\n",
    "\t\t\t\t\"Name\": \"Linus Torvalds\",\n",
    "\t\t\t\t\"Address\": {\n",
    "\t\t\t\t\t\"Street\": \"Kaivokatu\",\n",
    "\t\t\t\t\t\"City\": \"Helsinki\"\n",
    "\t\t\t\t}\n",
    "\t\t\t},\n",
    "\t\t\t{\n",
    "\t\t\t\t\"employeeID\": \"aturing\",\n",
    "\t\t\t\t\"courses\": \"csc445 data301\",\n",
    "\t\t\t\t\"Name\": \"Alan Turing\",\n",
    "\t\t\t\t\"Address\": {\n",
    "\t\t\t\t\t\"Street\": \"Hyde Park Pl.\",\n",
    "\t\t\t\t\t\"City\": \"Manchester\"\n",
    "\t\t\t\t}\n",
    "\t\t\t}\n",
    "\t\t],\n",
    "\t\t\"Course\": [\n",
    "\t\t\t{\n",
    "\t\t\t\t\"course\": \"csc448\",\n",
    "\t\t\t\t\"teacher\": \"ltorvalds\",\n",
    "\t\t\t\t\"students\": \"eagranof nabishop altschop\"\n",
    "\t\t\t},\n",
    "\t\t\t{\n",
    "\t\t\t\t\"course\": \"csc309\",\n",
    "\t\t\t\t\"teacher\": \"tblee\",\n",
    "\t\t\t\t\"students\": \"altschop\"\n",
    "\t\t\t},\n",
    "\t\t\t{\n",
    "\t\t\t\t\"course\": \"csc366\",\n",
    "\t\t\t\t\"teacher\": \"tblee\",\n",
    "\t\t\t\t\"students\": \"nabishop\"\n",
    "\t\t\t},\n",
    "\t\t\t{\n",
    "\t\t\t\t\"course\": \"csc492\",\n",
    "\t\t\t\t\"teacher\": \"ltorvalds\",\n",
    "\t\t\t\t\"students\": \"eagranof altschop\"\n",
    "\t\t\t},\n",
    "\t\t\t{\n",
    "\t\t\t\t\"course\": \"csc445\",\n",
    "\t\t\t\t\"teacher\": \"aturing\",\n",
    "\t\t\t\t\"students\": \"nabishop\"\n",
    "\t\t\t},\n",
    "\t\t\t{\n",
    "\t\t\t\t\"course\": \"data301\",\n",
    "\t\t\t\t\"teacher\": \"aturing\",\n",
    "\t\t\t\t\"students\": \"eagranof\"\n",
    "\t\t\t}\n",
    "\t\t]\n",
    "\t\t}\n",
    "}\n",
    "```"
   ]
  },
  {
   "cell_type": "markdown",
   "metadata": {},
   "source": [
    "## Question 5\n",
    "\n",
    "Create the query from Q3 for the JSON file (JSONPath)\n",
    "\n",
    "`$..Student[?(@.courses =~ csc366)].studentID`"
   ]
  },
  {
   "cell_type": "markdown",
   "metadata": {},
   "source": [
    "## Question 6\n",
    "\n",
    "Suppose that we have only three words in the language: a, b, and c, the documents:\n",
    "\n",
    "d1: a a b a c a\n",
    "\n",
    "d2: b b a a c c a\n",
    "\n",
    "d3: a c c\n",
    "    \n",
    "and the query a b\n",
    "\n",
    "a) Show the text vectors for the query and the documents.\n"
   ]
  },
  {
   "cell_type": "code",
   "execution_count": 43,
   "metadata": {},
   "outputs": [
    {
     "output_type": "execute_result",
     "data": {
      "text/plain": "               frequency\ndocument word           \nd1       a             4\n         b             1\n         c             1\nd2       a             3\n         b             2\n         c             2\nd3       c             2\n         a             1\nq        a             1\n         b             1",
      "text/html": "<div>\n<style scoped>\n    .dataframe tbody tr th:only-of-type {\n        vertical-align: middle;\n    }\n\n    .dataframe tbody tr th {\n        vertical-align: top;\n    }\n\n    .dataframe thead th {\n        text-align: right;\n    }\n</style>\n<table border=\"1\" class=\"dataframe\">\n  <thead>\n    <tr style=\"text-align: right;\">\n      <th></th>\n      <th></th>\n      <th>frequency</th>\n    </tr>\n    <tr>\n      <th>document</th>\n      <th>word</th>\n      <th></th>\n    </tr>\n  </thead>\n  <tbody>\n    <tr>\n      <th rowspan=\"3\" valign=\"top\">d1</th>\n      <th>a</th>\n      <td>4</td>\n    </tr>\n    <tr>\n      <th>b</th>\n      <td>1</td>\n    </tr>\n    <tr>\n      <th>c</th>\n      <td>1</td>\n    </tr>\n    <tr>\n      <th rowspan=\"3\" valign=\"top\">d2</th>\n      <th>a</th>\n      <td>3</td>\n    </tr>\n    <tr>\n      <th>b</th>\n      <td>2</td>\n    </tr>\n    <tr>\n      <th>c</th>\n      <td>2</td>\n    </tr>\n    <tr>\n      <th rowspan=\"2\" valign=\"top\">d3</th>\n      <th>c</th>\n      <td>2</td>\n    </tr>\n    <tr>\n      <th>a</th>\n      <td>1</td>\n    </tr>\n    <tr>\n      <th rowspan=\"2\" valign=\"top\">q</th>\n      <th>a</th>\n      <td>1</td>\n    </tr>\n    <tr>\n      <th>b</th>\n      <td>1</td>\n    </tr>\n  </tbody>\n</table>\n</div>"
     },
     "metadata": {},
     "execution_count": 43
    }
   ],
   "source": [
    "docs = {'d1':'a a b a c a', 'd2':'b b a a c c a', 'd3':'a c c','q':'a b'}\n",
    "df = pd.DataFrame(data=docs,index=['text']).T.reset_index()\n",
    "df.columns = ['document','text']\n",
    "df['words'] = df.text.str.strip().str.split('[\\W]+')\n",
    "result = []\n",
    "for i in range(0,len(df)):\n",
    "    for word in df.iloc[i]['words']:\n",
    "        result.append((df.iloc[i]['document'], word.lower()))\n",
    "words = pd.DataFrame(result, columns=['document','word'])\n",
    "counts = words.groupby('document')['word'].value_counts().to_frame().rename(columns={'word':'frequency'})\n",
    "counts"
   ]
  },
  {
   "cell_type": "markdown",
   "metadata": {},
   "source": [
    "b) Normalize the vectors using the TF-IDF formulas. Make sure to use the 0.5 formula for the query."
   ]
  },
  {
   "cell_type": "code",
   "execution_count": 44,
   "metadata": {},
   "outputs": [
    {
     "output_type": "execute_result",
     "data": {
      "text/plain": "               frequency  maxFreq        tf  df       idf     tfidf\ndocument word                                                      \nd1       a             4        4  1.000000   4  0.000000  0.000000\n         b             1        4  0.250000   3  0.415037  0.103759\n         c             1        4  0.250000   3  0.415037  0.103759\nd2       a             3        3  1.000000   4  0.000000  0.000000\n         b             2        3  0.666667   3  0.415037  0.276692\n         c             2        3  0.666667   3  0.415037  0.276692\nd3       c             2        2  1.000000   3  0.415037  0.415037\n         a             1        2  0.500000   4  0.000000  0.000000\nq        a             1        1  1.000000   4  0.000000  0.000000\n         b             1        1  1.000000   3  0.415037  0.415037",
      "text/html": "<div>\n<style scoped>\n    .dataframe tbody tr th:only-of-type {\n        vertical-align: middle;\n    }\n\n    .dataframe tbody tr th {\n        vertical-align: top;\n    }\n\n    .dataframe thead th {\n        text-align: right;\n    }\n</style>\n<table border=\"1\" class=\"dataframe\">\n  <thead>\n    <tr style=\"text-align: right;\">\n      <th></th>\n      <th></th>\n      <th>frequency</th>\n      <th>maxFreq</th>\n      <th>tf</th>\n      <th>df</th>\n      <th>idf</th>\n      <th>tfidf</th>\n    </tr>\n    <tr>\n      <th>document</th>\n      <th>word</th>\n      <th></th>\n      <th></th>\n      <th></th>\n      <th></th>\n      <th></th>\n      <th></th>\n    </tr>\n  </thead>\n  <tbody>\n    <tr>\n      <th rowspan=\"3\" valign=\"top\">d1</th>\n      <th>a</th>\n      <td>4</td>\n      <td>4</td>\n      <td>1.000000</td>\n      <td>4</td>\n      <td>0.000000</td>\n      <td>0.000000</td>\n    </tr>\n    <tr>\n      <th>b</th>\n      <td>1</td>\n      <td>4</td>\n      <td>0.250000</td>\n      <td>3</td>\n      <td>0.415037</td>\n      <td>0.103759</td>\n    </tr>\n    <tr>\n      <th>c</th>\n      <td>1</td>\n      <td>4</td>\n      <td>0.250000</td>\n      <td>3</td>\n      <td>0.415037</td>\n      <td>0.103759</td>\n    </tr>\n    <tr>\n      <th rowspan=\"3\" valign=\"top\">d2</th>\n      <th>a</th>\n      <td>3</td>\n      <td>3</td>\n      <td>1.000000</td>\n      <td>4</td>\n      <td>0.000000</td>\n      <td>0.000000</td>\n    </tr>\n    <tr>\n      <th>b</th>\n      <td>2</td>\n      <td>3</td>\n      <td>0.666667</td>\n      <td>3</td>\n      <td>0.415037</td>\n      <td>0.276692</td>\n    </tr>\n    <tr>\n      <th>c</th>\n      <td>2</td>\n      <td>3</td>\n      <td>0.666667</td>\n      <td>3</td>\n      <td>0.415037</td>\n      <td>0.276692</td>\n    </tr>\n    <tr>\n      <th rowspan=\"2\" valign=\"top\">d3</th>\n      <th>c</th>\n      <td>2</td>\n      <td>2</td>\n      <td>1.000000</td>\n      <td>3</td>\n      <td>0.415037</td>\n      <td>0.415037</td>\n    </tr>\n    <tr>\n      <th>a</th>\n      <td>1</td>\n      <td>2</td>\n      <td>0.500000</td>\n      <td>4</td>\n      <td>0.000000</td>\n      <td>0.000000</td>\n    </tr>\n    <tr>\n      <th rowspan=\"2\" valign=\"top\">q</th>\n      <th>a</th>\n      <td>1</td>\n      <td>1</td>\n      <td>1.000000</td>\n      <td>4</td>\n      <td>0.000000</td>\n      <td>0.000000</td>\n    </tr>\n    <tr>\n      <th>b</th>\n      <td>1</td>\n      <td>1</td>\n      <td>1.000000</td>\n      <td>3</td>\n      <td>0.415037</td>\n      <td>0.415037</td>\n    </tr>\n  </tbody>\n</table>\n</div>"
     },
     "metadata": {},
     "execution_count": 44
    }
   ],
   "source": [
    "max_frequency = counts.groupby('document').max().rename(columns={'frequency':'maxFreq'})\n",
    "tf = counts.join(max_frequency)\n",
    "tf['tf'] = tf['frequency'] / tf['maxFreq']\n",
    "doc_count = df['document'].nunique()\n",
    "doc_freq = words.groupby('word')['document'].nunique().to_frame().rename(columns={'document':'df'})\n",
    "doc_freq['idf'] = np.log2(doc_count / doc_freq['df'].values)\n",
    "result = tf.join(doc_freq)\n",
    "result['tfidf'] = result['tf'] * result['idf']\n",
    "query = result.loc['q']\n",
    "query['tfidf'] = (.5 + .5 * query['tf']) * query['idf']\n",
    "result.loc['q']['tfidf'] = query['tfidf']\n",
    "result"
   ]
  },
  {
   "cell_type": "markdown",
   "metadata": {},
   "source": [
    "c) Compute the cosine distance between the query and each of the documents using the\n",
    "normalized values."
   ]
  },
  {
   "cell_type": "code",
   "execution_count": 48,
   "metadata": {},
   "outputs": [
    {
     "output_type": "error",
     "ename": "UnboundLocalError",
     "evalue": "(\"local variable 'q' referenced before assignment\", 'occurred at index frequency')",
     "traceback": [
      "\u001b[1;31m---------------------------------------------------------------------------\u001b[0m",
      "\u001b[1;31mUnboundLocalError\u001b[0m                         Traceback (most recent call last)",
      "\u001b[1;32m<ipython-input-48-a7315b0dc806>\u001b[0m in \u001b[0;36m<module>\u001b[1;34m\u001b[0m\n\u001b[0;32m      8\u001b[0m \u001b[1;33m\u001b[0m\u001b[0m\n\u001b[0;32m      9\u001b[0m \u001b[0mdocs\u001b[0m \u001b[1;33m=\u001b[0m \u001b[0mresult\u001b[0m\u001b[1;33m.\u001b[0m\u001b[0mloc\u001b[0m\u001b[1;33m[\u001b[0m\u001b[1;34m'd1'\u001b[0m\u001b[1;33m:\u001b[0m\u001b[1;34m'd3'\u001b[0m\u001b[1;33m]\u001b[0m\u001b[1;33m\u001b[0m\u001b[1;33m\u001b[0m\u001b[0m\n\u001b[1;32m---> 10\u001b[1;33m \u001b[0mdocs\u001b[0m\u001b[1;33m.\u001b[0m\u001b[0mapply\u001b[0m\u001b[1;33m(\u001b[0m\u001b[0mcosine_similarity\u001b[0m\u001b[1;33m)\u001b[0m\u001b[1;33m\u001b[0m\u001b[1;33m\u001b[0m\u001b[0m\n\u001b[0m",
      "\u001b[1;32m~\\AppData\\Local\\Programs\\Python\\Python38\\lib\\site-packages\\pandas\\core\\frame.py\u001b[0m in \u001b[0;36mapply\u001b[1;34m(self, func, axis, broadcast, raw, reduce, result_type, args, **kwds)\u001b[0m\n\u001b[0;32m   6926\u001b[0m             \u001b[0mkwds\u001b[0m\u001b[1;33m=\u001b[0m\u001b[0mkwds\u001b[0m\u001b[1;33m,\u001b[0m\u001b[1;33m\u001b[0m\u001b[1;33m\u001b[0m\u001b[0m\n\u001b[0;32m   6927\u001b[0m         )\n\u001b[1;32m-> 6928\u001b[1;33m         \u001b[1;32mreturn\u001b[0m \u001b[0mop\u001b[0m\u001b[1;33m.\u001b[0m\u001b[0mget_result\u001b[0m\u001b[1;33m(\u001b[0m\u001b[1;33m)\u001b[0m\u001b[1;33m\u001b[0m\u001b[1;33m\u001b[0m\u001b[0m\n\u001b[0m\u001b[0;32m   6929\u001b[0m \u001b[1;33m\u001b[0m\u001b[0m\n\u001b[0;32m   6930\u001b[0m     \u001b[1;32mdef\u001b[0m \u001b[0mapplymap\u001b[0m\u001b[1;33m(\u001b[0m\u001b[0mself\u001b[0m\u001b[1;33m,\u001b[0m \u001b[0mfunc\u001b[0m\u001b[1;33m)\u001b[0m\u001b[1;33m:\u001b[0m\u001b[1;33m\u001b[0m\u001b[1;33m\u001b[0m\u001b[0m\n",
      "\u001b[1;32m~\\AppData\\Local\\Programs\\Python\\Python38\\lib\\site-packages\\pandas\\core\\apply.py\u001b[0m in \u001b[0;36mget_result\u001b[1;34m(self)\u001b[0m\n\u001b[0;32m    184\u001b[0m             \u001b[1;32mreturn\u001b[0m \u001b[0mself\u001b[0m\u001b[1;33m.\u001b[0m\u001b[0mapply_raw\u001b[0m\u001b[1;33m(\u001b[0m\u001b[1;33m)\u001b[0m\u001b[1;33m\u001b[0m\u001b[1;33m\u001b[0m\u001b[0m\n\u001b[0;32m    185\u001b[0m \u001b[1;33m\u001b[0m\u001b[0m\n\u001b[1;32m--> 186\u001b[1;33m         \u001b[1;32mreturn\u001b[0m \u001b[0mself\u001b[0m\u001b[1;33m.\u001b[0m\u001b[0mapply_standard\u001b[0m\u001b[1;33m(\u001b[0m\u001b[1;33m)\u001b[0m\u001b[1;33m\u001b[0m\u001b[1;33m\u001b[0m\u001b[0m\n\u001b[0m\u001b[0;32m    187\u001b[0m \u001b[1;33m\u001b[0m\u001b[0m\n\u001b[0;32m    188\u001b[0m     \u001b[1;32mdef\u001b[0m \u001b[0mapply_empty_result\u001b[0m\u001b[1;33m(\u001b[0m\u001b[0mself\u001b[0m\u001b[1;33m)\u001b[0m\u001b[1;33m:\u001b[0m\u001b[1;33m\u001b[0m\u001b[1;33m\u001b[0m\u001b[0m\n",
      "\u001b[1;32m~\\AppData\\Local\\Programs\\Python\\Python38\\lib\\site-packages\\pandas\\core\\apply.py\u001b[0m in \u001b[0;36mapply_standard\u001b[1;34m(self)\u001b[0m\n\u001b[0;32m    290\u001b[0m \u001b[1;33m\u001b[0m\u001b[0m\n\u001b[0;32m    291\u001b[0m         \u001b[1;31m# compute the result using the series generator\u001b[0m\u001b[1;33m\u001b[0m\u001b[1;33m\u001b[0m\u001b[1;33m\u001b[0m\u001b[0m\n\u001b[1;32m--> 292\u001b[1;33m         \u001b[0mself\u001b[0m\u001b[1;33m.\u001b[0m\u001b[0mapply_series_generator\u001b[0m\u001b[1;33m(\u001b[0m\u001b[1;33m)\u001b[0m\u001b[1;33m\u001b[0m\u001b[1;33m\u001b[0m\u001b[0m\n\u001b[0m\u001b[0;32m    293\u001b[0m \u001b[1;33m\u001b[0m\u001b[0m\n\u001b[0;32m    294\u001b[0m         \u001b[1;31m# wrap results\u001b[0m\u001b[1;33m\u001b[0m\u001b[1;33m\u001b[0m\u001b[1;33m\u001b[0m\u001b[0m\n",
      "\u001b[1;32m~\\AppData\\Local\\Programs\\Python\\Python38\\lib\\site-packages\\pandas\\core\\apply.py\u001b[0m in \u001b[0;36mapply_series_generator\u001b[1;34m(self)\u001b[0m\n\u001b[0;32m    319\u001b[0m             \u001b[1;32mtry\u001b[0m\u001b[1;33m:\u001b[0m\u001b[1;33m\u001b[0m\u001b[1;33m\u001b[0m\u001b[0m\n\u001b[0;32m    320\u001b[0m                 \u001b[1;32mfor\u001b[0m \u001b[0mi\u001b[0m\u001b[1;33m,\u001b[0m \u001b[0mv\u001b[0m \u001b[1;32min\u001b[0m \u001b[0menumerate\u001b[0m\u001b[1;33m(\u001b[0m\u001b[0mseries_gen\u001b[0m\u001b[1;33m)\u001b[0m\u001b[1;33m:\u001b[0m\u001b[1;33m\u001b[0m\u001b[1;33m\u001b[0m\u001b[0m\n\u001b[1;32m--> 321\u001b[1;33m                     \u001b[0mresults\u001b[0m\u001b[1;33m[\u001b[0m\u001b[0mi\u001b[0m\u001b[1;33m]\u001b[0m \u001b[1;33m=\u001b[0m \u001b[0mself\u001b[0m\u001b[1;33m.\u001b[0m\u001b[0mf\u001b[0m\u001b[1;33m(\u001b[0m\u001b[0mv\u001b[0m\u001b[1;33m)\u001b[0m\u001b[1;33m\u001b[0m\u001b[1;33m\u001b[0m\u001b[0m\n\u001b[0m\u001b[0;32m    322\u001b[0m                     \u001b[0mkeys\u001b[0m\u001b[1;33m.\u001b[0m\u001b[0mappend\u001b[0m\u001b[1;33m(\u001b[0m\u001b[0mv\u001b[0m\u001b[1;33m.\u001b[0m\u001b[0mname\u001b[0m\u001b[1;33m)\u001b[0m\u001b[1;33m\u001b[0m\u001b[1;33m\u001b[0m\u001b[0m\n\u001b[0;32m    323\u001b[0m             \u001b[1;32mexcept\u001b[0m \u001b[0mException\u001b[0m \u001b[1;32mas\u001b[0m \u001b[0me\u001b[0m\u001b[1;33m:\u001b[0m\u001b[1;33m\u001b[0m\u001b[1;33m\u001b[0m\u001b[0m\n",
      "\u001b[1;32m<ipython-input-48-a7315b0dc806>\u001b[0m in \u001b[0;36mcosine_similarity\u001b[1;34m(d)\u001b[0m\n\u001b[0;32m      1\u001b[0m \u001b[0mq\u001b[0m \u001b[1;33m=\u001b[0m \u001b[0mresult\u001b[0m\u001b[1;33m.\u001b[0m\u001b[0mloc\u001b[0m\u001b[1;33m[\u001b[0m\u001b[1;34m'q'\u001b[0m\u001b[1;33m]\u001b[0m\u001b[1;33m\u001b[0m\u001b[1;33m\u001b[0m\u001b[0m\n\u001b[0;32m      2\u001b[0m \u001b[1;32mdef\u001b[0m \u001b[0mcosine_similarity\u001b[0m\u001b[1;33m(\u001b[0m\u001b[0md\u001b[0m\u001b[1;33m)\u001b[0m\u001b[1;33m:\u001b[0m\u001b[1;33m\u001b[0m\u001b[1;33m\u001b[0m\u001b[0m\n\u001b[1;32m----> 3\u001b[1;33m     \u001b[0mq\u001b[0m\u001b[1;33m,\u001b[0m\u001b[0md\u001b[0m \u001b[1;33m=\u001b[0m \u001b[0mq\u001b[0m\u001b[1;33m[\u001b[0m\u001b[1;34m'tdidf'\u001b[0m\u001b[1;33m]\u001b[0m\u001b[1;33m,\u001b[0m\u001b[0md\u001b[0m\u001b[1;33m[\u001b[0m\u001b[1;34m'tdidf'\u001b[0m\u001b[1;33m]\u001b[0m\u001b[1;33m\u001b[0m\u001b[1;33m\u001b[0m\u001b[0m\n\u001b[0m\u001b[0;32m      4\u001b[0m     \u001b[0mdot_prod\u001b[0m \u001b[1;33m=\u001b[0m \u001b[0mnp\u001b[0m\u001b[1;33m.\u001b[0m\u001b[0mdot\u001b[0m\u001b[1;33m(\u001b[0m\u001b[0mq\u001b[0m\u001b[1;33m,\u001b[0m\u001b[0md\u001b[0m\u001b[1;33m)\u001b[0m\u001b[1;33m\u001b[0m\u001b[1;33m\u001b[0m\u001b[0m\n\u001b[0;32m      5\u001b[0m     \u001b[0mq_scal\u001b[0m \u001b[1;33m=\u001b[0m \u001b[0mnp\u001b[0m\u001b[1;33m.\u001b[0m\u001b[0msqrt\u001b[0m\u001b[1;33m(\u001b[0m\u001b[0mq\u001b[0m\u001b[1;33m^\u001b[0m\u001b[1;36m2\u001b[0m \u001b[1;33m+\u001b[0m \u001b[0mq\u001b[0m\u001b[1;33m^\u001b[0m\u001b[1;36m2\u001b[0m\u001b[1;33m)\u001b[0m\u001b[1;33m\u001b[0m\u001b[1;33m\u001b[0m\u001b[0m\n",
      "\u001b[1;31mUnboundLocalError\u001b[0m: (\"local variable 'q' referenced before assignment\", 'occurred at index frequency')"
     ]
    }
   ],
   "source": [
    "q = result.loc['q']\n",
    "def cosine_similarity(d):\n",
    "    q,d = q['tdidf'],d['tdidf']\n",
    "    dot_prod = np.dot(q,d)\n",
    "    q_scal = np.sqrt(q^2 + q^2)\n",
    "    d_scal = np.sqrt(d^2 + d^2)\n",
    "    return dot_prod / (q_scal * d_scal)\n",
    "\n",
    "docs = result.loc['d1':'d3']\n",
    "docs.apply(cosine_similarity)"
   ]
  },
  {
   "cell_type": "code",
   "execution_count": null,
   "metadata": {},
   "outputs": [],
   "source": []
  }
 ],
 "metadata": {
  "language_info": {
   "codemirror_mode": {
    "name": "ipython",
    "version": 3
   },
   "file_extension": ".py",
   "mimetype": "text/x-python",
   "name": "python",
   "nbconvert_exporter": "python",
   "pygments_lexer": "ipython3",
   "version": "3.8.2-final"
  },
  "orig_nbformat": 2,
  "kernelspec": {
   "name": "python38264bit20b2955c6730496ab2ce3153d8f806b8",
   "display_name": "Python 3.8.2 64-bit"
  }
 },
 "nbformat": 4,
 "nbformat_minor": 2
}