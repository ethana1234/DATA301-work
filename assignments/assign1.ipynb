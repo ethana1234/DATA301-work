{
 "nbformat": 4,
 "nbformat_minor": 2,
 "metadata": {
  "language_info": {
   "name": "python",
   "codemirror_mode": {
    "name": "ipython",
    "version": 3
   },
   "version": "3.7.3-final"
  },
  "orig_nbformat": 2,
  "file_extension": ".py",
  "mimetype": "text/x-python",
  "name": "python",
  "npconvert_exporter": "python",
  "pygments_lexer": "ipython3",
  "version": 3,
  "kernelspec": {
   "name": "python3",
   "display_name": "Python 3"
  }
 },
 "cells": [
  {
   "cell_type": "code",
   "execution_count": 1,
   "metadata": {},
   "outputs": [],
   "source": [
    "import numpy as np"
   ]
  },
  {
   "cell_type": "markdown",
   "metadata": {},
   "source": [
    "#Assignment 1\n",
    "\n",
    "\n",
    "## Question 1\n",
    "\n",
    "Use NumPy to create a 10x10 array that contains the multiplication table.  Show the code to create the array. Use the `outer` function to create the array.\n",
    "## Question 1\n",
    "\n",
    "Use NumPy to create a 10x10 array that contains the multiplication table. Here is what the\n",
    "values inside the array should look like:\n",
    "\\n\n",
    "1 2 3 4 5 6 7 8 9 10\n",
    "\n",
    "2 4 6 8 10 12 14 16 18 20\n",
    "\n",
    "....\n",
    "\n",
    "10 20 30 40 50 60 70 80 90 100\n",
    "\n",
    "Show the code to create the array. Use the outer function\n",
    "to create the array."
   ]
  },
  {
   "cell_type": "code",
   "execution_count": 4,
   "metadata": {},
   "outputs": [
    {
     "output_type": "stream",
     "name": "stdout",
     "text": "[[  1   2   3   4   5   6   7   8   9  10]\n [  2   4   6   8  10  12  14  16  18  20]\n [  3   6   9  12  15  18  21  24  27  30]\n [  4   8  12  16  20  24  28  32  36  40]\n [  5  10  15  20  25  30  35  40  45  50]\n [  6  12  18  24  30  36  42  48  54  60]\n [  7  14  21  28  35  42  49  56  63  70]\n [  8  16  24  32  40  48  56  64  72  80]\n [  9  18  27  36  45  54  63  72  81  90]\n [ 10  20  30  40  50  60  70  80  90 100]]\n"
    }
   ],
   "source": [
    "x = np.arange(1,11)\n",
    "y = np.arange(1,11)\n",
    "ans1 = np.multiply.outer(x,y)\n",
    "print(ans1)"
   ]
  },
  {
   "cell_type": "markdown",
   "metadata": {},
   "source": [
    "## Question 2\n",
    "\n",
    "Write code that selects the 4x4 array that's in the middle of the 10x10 array"
   ]
  },
  {
   "cell_type": "code",
   "execution_count": 12,
   "metadata": {},
   "outputs": [
    {
     "output_type": "stream",
     "name": "stdout",
     "text": "[[16 20 24 28]\n [20 25 30 35]\n [24 30 36 42]\n [28 35 42 49]]\n"
    }
   ],
   "source": [
    "ans2 = ans1[3:7,3:7]\n",
    "print(ans2)"
   ]
  },
  {
   "cell_type": "markdown",
   "metadata": {},
   "source": [
    "## Question 3\n",
    "\n",
    "Using `arange` and `reshape`, create a 4x4 array with numbers 1 thru 16"
   ]
  },
  {
   "cell_type": "code",
   "execution_count": 13,
   "metadata": {},
   "outputs": [
    {
     "output_type": "stream",
     "name": "stdout",
     "text": "[[ 1  2  3  4]\n [ 5  6  7  8]\n [ 9 10 11 12]\n [13 14 15 16]]\n"
    }
   ],
   "source": [
    "a = np.arange(1,17)\n",
    "ans3 = a.reshape((4,4))\n",
    "print(ans3)"
   ]
  },
  {
   "cell_type": "markdown",
   "metadata": {},
   "source": [
    "## Question 4\n",
    "\n",
    "Consider the arrays from the last two questions. Create a new 4x4 array that has value of true if both values in the two arrays are even and false otherwise. Hint: use a vectorized custom function with two inputs."
   ]
  },
  {
   "cell_type": "code",
   "execution_count": 14,
   "metadata": {},
   "outputs": [
    {
     "output_type": "stream",
     "name": "stdout",
     "text": "[[False  True False  True]\n [False False False False]\n [False  True False  True]\n [False False False False]]\n"
    }
   ],
   "source": [
    "ans4 = np.vectorize(lambda x,y : (x % 2) + (y % 2) == 0)(ans2,ans3)\n",
    "print(ans4)"
   ]
  },
  {
   "cell_type": "markdown",
   "metadata": {},
   "source": [
    "## Question 5\n",
    "\n",
    "Write code that returns the number of even numbers in the array from Q2."
   ]
  },
  {
   "cell_type": "code",
   "execution_count": 15,
   "metadata": {},
   "outputs": [
    {
     "output_type": "stream",
     "name": "stdout",
     "text": "12\n"
    }
   ],
   "source": [
    "ans5 = (ans2 % 2 == 0).sum()\n",
    "print(ans5)"
   ]
  },
  {
   "cell_type": "markdown",
   "metadata": {},
   "source": [
    "## Question 6\n",
    "\n",
    "Write code the returns the square root of the numbers in the array from Q3."
   ]
  },
  {
   "cell_type": "code",
   "execution_count": 17,
   "metadata": {},
   "outputs": [
    {
     "output_type": "stream",
     "name": "stdout",
     "text": "[[1.         1.41421356 1.73205081 2.        ]\n [2.23606798 2.44948974 2.64575131 2.82842712]\n [3.         3.16227766 3.31662479 3.46410162]\n [3.60555128 3.74165739 3.87298335 4.        ]]\n"
    }
   ],
   "source": [
    "ans6 = ans3 ** .5\n",
    "print(ans6)"
   ]
  },
  {
   "cell_type": "markdown",
   "metadata": {},
   "source": [
    "## Question 7\n",
    "\n",
    "Write code that returns the array from Q1, where the numbers on the diagonal are incremented by 1. Do not explicitly enumerate all the elements on the diagonal."
   ]
  },
  {
   "cell_type": "code",
   "execution_count": 22,
   "metadata": {},
   "outputs": [
    {
     "output_type": "stream",
     "name": "stdout",
     "text": "[[  2   2   3   4   5   6   7   8   9  10]\n [  2   5   6   8  10  12  14  16  18  20]\n [  3   6  10  12  15  18  21  24  27  30]\n [  4   8  12  17  20  24  28  32  36  40]\n [  5  10  15  20  26  30  35  40  45  50]\n [  6  12  18  24  30  37  42  48  54  60]\n [  7  14  21  28  35  42  50  56  63  70]\n [  8  16  24  32  40  48  56  65  72  80]\n [  9  18  27  36  45  54  63  72  82  90]\n [ 10  20  30  40  50  60  70  80  90 101]]\n"
    }
   ],
   "source": [
    "ans7 = ans1 + np.eye(10, dtype='int32')\n",
    "print(ans7)"
   ]
  },
  {
   "cell_type": "markdown",
   "metadata": {},
   "source": [
    "## Question 8\n",
    "\n",
    "Write code that shows the array from Q1 in reverse order. The first row should have the number 100, 90,...10. The second row should be the ninth row in the initial array in reverse order and so on."
   ]
  },
  {
   "cell_type": "code",
   "execution_count": 23,
   "metadata": {},
   "outputs": [
    {
     "output_type": "stream",
     "name": "stdout",
     "text": "[[100  90  80  70  60  50  40  30  20  10]\n [ 90  81  72  63  54  45  36  27  18   9]\n [ 80  72  64  56  48  40  32  24  16   8]\n [ 70  63  56  49  42  35  28  21  14   7]\n [ 60  54  48  42  36  30  24  18  12   6]\n [ 50  45  40  35  30  25  20  15  10   5]\n [ 40  36  32  28  24  20  16  12   8   4]\n [ 30  27  24  21  18  15  12   9   6   3]\n [ 20  18  16  14  12  10   8   6   4   2]\n [ 10   9   8   7   6   5   4   3   2   1]]\n"
    }
   ],
   "source": [
    "ans8 = np.flip(ans1)\n",
    "print(ans8)"
   ]
  },
  {
   "cell_type": "markdown",
   "metadata": {},
   "source": [
    "## Question 9\n",
    "\n",
    "Write code that creates a 10x10 array of random float numbers between 0.0 and 10.0. The numbers should appear in the array sorted in ascending order."
   ]
  },
  {
   "cell_type": "code",
   "execution_count": 29,
   "metadata": {},
   "outputs": [
    {
     "output_type": "stream",
     "name": "stdout",
     "text": "[[0.42050101 2.56825974 3.8230365  4.52281389 5.25019624 5.48390379\n  6.2242097  8.19581049 8.48678034 8.55118873]\n [0.28383736 0.34456422 0.88817074 1.27667641 2.5321606  4.05935863\n  4.91344157 5.3045352  6.50708239 9.31294366]\n [0.13002284 1.10373167 4.59037606 4.66165633 4.76186787 6.58246118\n  8.31305678 8.99477969 9.19828154 9.75446024]\n [1.59461565 1.8202103  3.38695911 4.78243193 5.1995943  6.07509638\n  6.50926003 6.7466971  7.84225384 7.90786997]\n [2.94406552 3.45053391 3.92416437 4.30306321 5.47800031 5.96717283\n  6.46600161 7.05174219 7.47426347 9.09563652]\n [2.91077872 3.40074169 5.11715889 8.19211911 8.23883189 8.35736278\n  8.51347688 9.14376271 9.43394854 9.70901912]\n [1.98039691 3.3730209  3.95225209 5.87540987 6.77431188 7.62033841\n  7.81136693 8.09240469 9.45599554 9.62414162]\n [1.26571537 2.02287732 2.17360568 2.74707256 4.9271859  5.88020313\n  6.1786304  6.63193907 7.85939028 8.52178034]\n [0.69367685 0.72374485 0.9539382  1.21381852 2.26653954 4.58803212\n  4.68678487 5.5427788  6.31518867 7.81390956]\n [1.66751847 2.02665535 2.09848324 4.84451624 4.87751216 5.20018013\n  6.54588278 7.41927462 8.08081622 9.53433288]]\n"
    }
   ],
   "source": [
    "a = np.random.uniform(low=0.0, high=10.0, size=(10,10))\n",
    "ans9 = np.sort(a)\n",
    "print(ans9)"
   ]
  },
  {
   "cell_type": "markdown",
   "metadata": {},
   "source": [
    "## Question 10\n",
    "\n",
    "Write code that creates one-dimensional array of 10 elements. The i th element should be the average of the numbers in the i th row of the array from Q1."
   ]
  },
  {
   "cell_type": "code",
   "execution_count": 30,
   "metadata": {},
   "outputs": [
    {
     "output_type": "stream",
     "name": "stdout",
     "text": "[ 5.5 11.  16.5 22.  27.5 33.  38.5 44.  49.5 55. ]\n"
    }
   ],
   "source": [
    "ans10 = ans1.mean(axis=1)\n",
    "print(ans10)"
   ]
  },
  {
   "cell_type": "markdown",
   "metadata": {},
   "source": [
    "## Question 11\n",
    "\n",
    "Write a method that performs merge sort. Use `partition`, `split`, recursion, and the `hstack` method."
   ]
  },
  {
   "cell_type": "code",
   "execution_count": 52,
   "metadata": {},
   "outputs": [
    {
     "output_type": "stream",
     "name": "stdout",
     "text": "[0 1 2 3 4 5 6 7 8 9]\n"
    }
   ],
   "source": [
    "def merge_sort(arr):\n",
    "    if len(arr) == 1:\n",
    "        return arr\n",
    "    mid = len(arr) // 2\n",
    "    arr = np.partition(arr, [mid])\n",
    "    l,r = np.split(arr, [mid])\n",
    "    return np.hstack((merge_sort(l),merge_sort(r)))\n",
    "\n",
    "a = np.array([1,7,2,0,9,8,6,3,4,5])\n",
    "ans11 = merge_sort(a)\n",
    "print(ans11)"
   ]
  },
  {
   "cell_type": "code",
   "execution_count": null,
   "metadata": {},
   "outputs": [],
   "source": []
  },
  {
   "cell_type": "code",
   "execution_count": null,
   "metadata": {},
   "outputs": [],
   "source": []
  },
  {
   "cell_type": "code",
   "execution_count": null,
   "metadata": {},
   "outputs": [],
   "source": [
    "# "
   ]
  }
 ]
}