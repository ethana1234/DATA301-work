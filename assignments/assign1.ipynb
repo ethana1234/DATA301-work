{
 "cells": [
  {
   "cell_type": "code",
   "execution_count": 1,
   "metadata": {},
   "outputs": [],
   "source": [
    "import numpy as np"
   ]
  },
  {
   "cell_type": "markdown",
   "metadata": {},
   "source": [
    "Run to create pdf: `jupyter nbconvert '{title}.ipynb' --to=pdf --output={pdffilename}`\n",
    "\n",
    "## Question 1\n",
    "\n",
    "Use NumPy to create a 10x10 array that contains the multiplication table.  Show the code to create the array. Use the `outer` function to create the array."
   ]
  },
  {
   "cell_type": "code",
   "execution_count": 2,
   "metadata": {},
   "outputs": [
    {
     "output_type": "stream",
     "name": "stdout",
     "text": "[[  1   2   3   4   5   6   7   8   9  10]\n [  2   4   6   8  10  12  14  16  18  20]\n [  3   6   9  12  15  18  21  24  27  30]\n [  4   8  12  16  20  24  28  32  36  40]\n [  5  10  15  20  25  30  35  40  45  50]\n [  6  12  18  24  30  36  42  48  54  60]\n [  7  14  21  28  35  42  49  56  63  70]\n [  8  16  24  32  40  48  56  64  72  80]\n [  9  18  27  36  45  54  63  72  81  90]\n [ 10  20  30  40  50  60  70  80  90 100]]\n"
    }
   ],
   "source": [
    "x = np.arange(1,11)\n",
    "y = np.arange(1,11)\n",
    "ans1 = np.multiply.outer(x,y)\n",
    "print(ans1)"
   ]
  },
  {
   "cell_type": "markdown",
   "metadata": {},
   "source": [
    "## Question 2\n",
    "\n",
    "Write code that selects the 4x4 array that's in the middle of the 10x10 array"
   ]
  },
  {
   "cell_type": "code",
   "execution_count": 3,
   "metadata": {},
   "outputs": [
    {
     "output_type": "stream",
     "name": "stdout",
     "text": "[[16 20 24 28]\n [20 25 30 35]\n [24 30 36 42]\n [28 35 42 49]]\n"
    }
   ],
   "source": [
    "ans2 = ans1[3:7,3:7]\n",
    "print(ans2)"
   ]
  },
  {
   "cell_type": "markdown",
   "metadata": {},
   "source": [
    "## Question 3\n",
    "\n",
    "Using `arange` and `reshape`, create a 4x4 array with numbers 1 thru 16"
   ]
  },
  {
   "cell_type": "code",
   "execution_count": 4,
   "metadata": {},
   "outputs": [
    {
     "output_type": "stream",
     "name": "stdout",
     "text": "[[ 1  2  3  4]\n [ 5  6  7  8]\n [ 9 10 11 12]\n [13 14 15 16]]\n"
    }
   ],
   "source": [
    "a = np.arange(1,17)\n",
    "ans3 = a.reshape((4,4))\n",
    "print(ans3)"
   ]
  },
  {
   "cell_type": "markdown",
   "metadata": {},
   "source": [
    "## Question 4\n",
    "\n",
    "Consider the arrays from the last two questions. Create a new 4x4 array that has value of true if both values in the two arrays are even and false otherwise. Hint: use a vectorized custom function with two inputs."
   ]
  },
  {
   "cell_type": "code",
   "execution_count": 5,
   "metadata": {},
   "outputs": [
    {
     "output_type": "stream",
     "name": "stdout",
     "text": "[[False  True False  True]\n [False False False False]\n [False  True False  True]\n [False False False False]]\n"
    }
   ],
   "source": [
    "ans4 = np.vectorize(lambda x,y : (x % 2) + (y % 2) == 0)(ans2,ans3)\n",
    "print(ans4)"
   ]
  },
  {
   "cell_type": "markdown",
   "metadata": {},
   "source": [
    "## Question 5\n",
    "\n",
    "Write code that returns the number of even numbers in the array from Q2."
   ]
  },
  {
   "cell_type": "code",
   "execution_count": 6,
   "metadata": {},
   "outputs": [
    {
     "output_type": "stream",
     "name": "stdout",
     "text": "12\n"
    }
   ],
   "source": [
    "ans5 = (ans2 % 2 == 0).sum()\n",
    "print(ans5)"
   ]
  },
  {
   "cell_type": "markdown",
   "metadata": {},
   "source": [
    "## Question 6\n",
    "\n",
    "Write code the returns the square root of the numbers in the array from Q3."
   ]
  },
  {
   "cell_type": "code",
   "execution_count": 7,
   "metadata": {},
   "outputs": [
    {
     "output_type": "stream",
     "name": "stdout",
     "text": "[[1.         1.41421356 1.73205081 2.        ]\n [2.23606798 2.44948974 2.64575131 2.82842712]\n [3.         3.16227766 3.31662479 3.46410162]\n [3.60555128 3.74165739 3.87298335 4.        ]]\n"
    }
   ],
   "source": [
    "ans6 = ans3 ** .5\n",
    "print(ans6)"
   ]
  },
  {
   "cell_type": "markdown",
   "metadata": {},
   "source": [
    "## Question 7\n",
    "\n",
    "Write code that returns the array from Q1, where the numbers on the diagonal are incremented by 1. Do not explicitly enumerate all the elements on the diagonal."
   ]
  },
  {
   "cell_type": "code",
   "execution_count": 8,
   "metadata": {},
   "outputs": [
    {
     "output_type": "stream",
     "name": "stdout",
     "text": "[[  2   2   3   4   5   6   7   8   9  10]\n [  2   5   6   8  10  12  14  16  18  20]\n [  3   6  10  12  15  18  21  24  27  30]\n [  4   8  12  17  20  24  28  32  36  40]\n [  5  10  15  20  26  30  35  40  45  50]\n [  6  12  18  24  30  37  42  48  54  60]\n [  7  14  21  28  35  42  50  56  63  70]\n [  8  16  24  32  40  48  56  65  72  80]\n [  9  18  27  36  45  54  63  72  82  90]\n [ 10  20  30  40  50  60  70  80  90 101]]\n"
    }
   ],
   "source": [
    "ans7 = ans1 + np.eye(10, dtype='int32')\n",
    "print(ans7)"
   ]
  },
  {
   "cell_type": "markdown",
   "metadata": {},
   "source": [
    "## Question 8\n",
    "\n",
    "Write code that shows the array from Q1 in reverse order. The first row should have the number 100, 90,...10. The second row should be the ninth row in the initial array in reverse order and so on."
   ]
  },
  {
   "cell_type": "code",
   "execution_count": 9,
   "metadata": {},
   "outputs": [
    {
     "output_type": "stream",
     "name": "stdout",
     "text": "[[100  90  80  70  60  50  40  30  20  10]\n [ 90  81  72  63  54  45  36  27  18   9]\n [ 80  72  64  56  48  40  32  24  16   8]\n [ 70  63  56  49  42  35  28  21  14   7]\n [ 60  54  48  42  36  30  24  18  12   6]\n [ 50  45  40  35  30  25  20  15  10   5]\n [ 40  36  32  28  24  20  16  12   8   4]\n [ 30  27  24  21  18  15  12   9   6   3]\n [ 20  18  16  14  12  10   8   6   4   2]\n [ 10   9   8   7   6   5   4   3   2   1]]\n"
    }
   ],
   "source": [
    "ans8 = np.flip(ans1)\n",
    "print(ans8)"
   ]
  },
  {
   "cell_type": "markdown",
   "metadata": {},
   "source": [
    "## Question 9\n",
    "\n",
    "Write code that creates a 10x10 array of random float numbers between 0.0 and 10.0. The numbers should appear in the array sorted in ascending order."
   ]
  },
  {
   "cell_type": "code",
   "execution_count": 21,
   "metadata": {},
   "outputs": [
    {
     "output_type": "stream",
     "name": "stdout",
     "text": "[[0.09112161 0.11059639 0.14994106 0.20598966 0.21922935 0.23828647\n  0.31573375 0.75071538 0.86920254 0.88681184]\n [0.96393631 1.13508619 1.19583752 1.69706812 1.72134899 1.76740704\n  1.80986052 1.88448049 1.9346782  1.94309675]\n [1.96391198 2.15354727 2.28695054 2.30260146 2.36398964 2.5820733\n  3.15427425 3.27749212 3.29302336 3.32218406]\n [3.53785894 3.57694446 3.70822079 3.74716553 3.74921439 3.92537635\n  4.01668306 4.13376799 4.1649785  4.22812674]\n [4.26699739 4.27920958 4.29800189 4.39602967 4.41849637 4.43441847\n  4.49932368 4.65651896 4.68811113 4.72838415]\n [4.76278799 4.88421209 4.96769786 5.16871675 5.21429181 5.2586894\n  5.3257551  5.60180667 5.66866011 5.93397833]\n [5.95111731 5.97725778 6.11548379 6.15403517 6.18466888 6.28355523\n  6.44991297 6.5156358  6.75680772 6.94222529]\n [7.05213774 7.29248432 7.31748968 7.46015374 7.48918088 7.6135777\n  7.79693436 7.87917233 7.879815   7.98448418]\n [8.10443862 8.12506761 8.14560852 8.39257435 8.55765782 8.76096977\n  8.81715726 9.11137473 9.11841069 9.20617932]\n [9.27228523 9.30712077 9.43327053 9.51921469 9.52056402 9.56360447\n  9.59601518 9.66598641 9.7956404  9.93921513]]\n"
    }
   ],
   "source": [
    "a = np.random.uniform(low=0.0, high=10.0, size=(100,)) \n",
    "ans9 = np.sort(a).reshape((10,10))\n",
    "print(ans9)"
   ]
  },
  {
   "cell_type": "markdown",
   "metadata": {},
   "source": [
    "## Question 10\n",
    "\n",
    "Write code that creates one-dimensional array of 10 elements. The i th element should be the average of the numbers in the i th row of the array from Q1."
   ]
  },
  {
   "cell_type": "code",
   "execution_count": 11,
   "metadata": {},
   "outputs": [
    {
     "output_type": "stream",
     "name": "stdout",
     "text": "[ 5.5 11.  16.5 22.  27.5 33.  38.5 44.  49.5 55. ]\n"
    }
   ],
   "source": [
    "ans10 = ans1.mean(axis=1)\n",
    "print(ans10)"
   ]
  },
  {
   "cell_type": "markdown",
   "metadata": {},
   "source": [
    "## Question 11\n",
    "\n",
    "Write a method that performs merge sort. Use `partition`, `split`, recursion, and the `hstack` method."
   ]
  },
  {
   "cell_type": "code",
   "execution_count": 12,
   "metadata": {},
   "outputs": [
    {
     "output_type": "stream",
     "name": "stdout",
     "text": "[0 1 2 3 4 5 6 7 8 9]\n"
    }
   ],
   "source": [
    "def merge_sort(arr):\n",
    "    if len(arr) == 1:\n",
    "        return arr\n",
    "    mid = len(arr) // 2\n",
    "    arr = np.partition(arr, [mid])\n",
    "    l,r = np.split(arr, [mid])\n",
    "    return np.hstack((merge_sort(l),merge_sort(r)))\n",
    "\n",
    "a = np.array([1,7,2,0,9,8,6,3,4,5])\n",
    "ans11 = merge_sort(a)\n",
    "print(ans11)"
   ]
  },
  {
   "cell_type": "code",
   "execution_count": null,
   "metadata": {},
   "outputs": [],
   "source": []
  }
 ],
 "metadata": {
  "language_info": {
   "name": "python",
   "codemirror_mode": {
    "name": "ipython",
    "version": 3
   },
   "version": "3.7.3-final"
  },
  "orig_nbformat": 2,
  "file_extension": ".py",
  "mimetype": "text/x-python",
  "name": "python",
  "npconvert_exporter": "python",
  "pygments_lexer": "ipython3",
  "version": 3,
  "kernelspec": {
   "name": "python3",
   "display_name": "Python 3"
  }
 },
 "nbformat": 4,
 "nbformat_minor": 2
}