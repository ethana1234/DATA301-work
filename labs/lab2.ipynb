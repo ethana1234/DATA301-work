{
 "cells": [
  {
   "cell_type": "markdown",
   "metadata": {},
   "source": [
    "# Lab 2"
   ]
  },
  {
   "cell_type": "code",
   "execution_count": 2,
   "metadata": {},
   "outputs": [],
   "source": [
    "import numpy as np\n",
    "import pandas as pd"
   ]
  },
  {
   "cell_type": "markdown",
   "metadata": {},
   "source": [
    "## Question 1\n",
    "\n",
    "Loading `athlete_events.csv` and `noc_regions.csv` into DataFrames"
   ]
  },
  {
   "cell_type": "code",
   "execution_count": 3,
   "metadata": {},
   "outputs": [
    {
     "output_type": "display_data",
     "data": {
      "text/plain": "            ID                      Name Sex   Age  Height  Weight  \\\n0            1                 A Dijiang   M  24.0   180.0    80.0   \n1            2                  A Lamusi   M  23.0   170.0    60.0   \n2            3       Gunnar Nielsen Aaby   M  24.0     NaN     NaN   \n3            4      Edgar Lindenau Aabye   M  34.0     NaN     NaN   \n4            5  Christine Jacoba Aaftink   F  21.0   185.0    82.0   \n...        ...                       ...  ..   ...     ...     ...   \n271111  135569                Andrzej ya   M  29.0   179.0    89.0   \n271112  135570                  Piotr ya   M  27.0   176.0    59.0   \n271113  135570                  Piotr ya   M  27.0   176.0    59.0   \n271114  135571        Tomasz Ireneusz ya   M  30.0   185.0    96.0   \n271115  135571        Tomasz Ireneusz ya   M  34.0   185.0    96.0   \n\n                  Team  NOC        Games  Year  Season            City  \\\n0                China  CHN  1992 Summer  1992  Summer       Barcelona   \n1                China  CHN  2012 Summer  2012  Summer          London   \n2              Denmark  DEN  1920 Summer  1920  Summer       Antwerpen   \n3       Denmark/Sweden  DEN  1900 Summer  1900  Summer           Paris   \n4          Netherlands  NED  1988 Winter  1988  Winter         Calgary   \n...                ...  ...          ...   ...     ...             ...   \n271111        Poland-1  POL  1976 Winter  1976  Winter       Innsbruck   \n271112          Poland  POL  2014 Winter  2014  Winter           Sochi   \n271113          Poland  POL  2014 Winter  2014  Winter           Sochi   \n271114          Poland  POL  1998 Winter  1998  Winter          Nagano   \n271115          Poland  POL  2002 Winter  2002  Winter  Salt Lake City   \n\n                Sport                                     Event Medal  \n0          Basketball               Basketball Men's Basketball   NaN  \n1                Judo              Judo Men's Extra-Lightweight   NaN  \n2            Football                   Football Men's Football   NaN  \n3          Tug-Of-War               Tug-Of-War Men's Tug-Of-War  Gold  \n4       Speed Skating          Speed Skating Women's 500 metres   NaN  \n...               ...                                       ...   ...  \n271111           Luge                Luge Mixed (Men)'s Doubles   NaN  \n271112    Ski Jumping  Ski Jumping Men's Large Hill, Individual   NaN  \n271113    Ski Jumping        Ski Jumping Men's Large Hill, Team   NaN  \n271114      Bobsleigh                      Bobsleigh Men's Four   NaN  \n271115      Bobsleigh                      Bobsleigh Men's Four   NaN  \n\n[271116 rows x 15 columns]",
      "text/html": "<div>\n<style scoped>\n    .dataframe tbody tr th:only-of-type {\n        vertical-align: middle;\n    }\n\n    .dataframe tbody tr th {\n        vertical-align: top;\n    }\n\n    .dataframe thead th {\n        text-align: right;\n    }\n</style>\n<table border=\"1\" class=\"dataframe\">\n  <thead>\n    <tr style=\"text-align: right;\">\n      <th></th>\n      <th>ID</th>\n      <th>Name</th>\n      <th>Sex</th>\n      <th>Age</th>\n      <th>Height</th>\n      <th>Weight</th>\n      <th>Team</th>\n      <th>NOC</th>\n      <th>Games</th>\n      <th>Year</th>\n      <th>Season</th>\n      <th>City</th>\n      <th>Sport</th>\n      <th>Event</th>\n      <th>Medal</th>\n    </tr>\n  </thead>\n  <tbody>\n    <tr>\n      <th>0</th>\n      <td>1</td>\n      <td>A Dijiang</td>\n      <td>M</td>\n      <td>24.0</td>\n      <td>180.0</td>\n      <td>80.0</td>\n      <td>China</td>\n      <td>CHN</td>\n      <td>1992 Summer</td>\n      <td>1992</td>\n      <td>Summer</td>\n      <td>Barcelona</td>\n      <td>Basketball</td>\n      <td>Basketball Men's Basketball</td>\n      <td>NaN</td>\n    </tr>\n    <tr>\n      <th>1</th>\n      <td>2</td>\n      <td>A Lamusi</td>\n      <td>M</td>\n      <td>23.0</td>\n      <td>170.0</td>\n      <td>60.0</td>\n      <td>China</td>\n      <td>CHN</td>\n      <td>2012 Summer</td>\n      <td>2012</td>\n      <td>Summer</td>\n      <td>London</td>\n      <td>Judo</td>\n      <td>Judo Men's Extra-Lightweight</td>\n      <td>NaN</td>\n    </tr>\n    <tr>\n      <th>2</th>\n      <td>3</td>\n      <td>Gunnar Nielsen Aaby</td>\n      <td>M</td>\n      <td>24.0</td>\n      <td>NaN</td>\n      <td>NaN</td>\n      <td>Denmark</td>\n      <td>DEN</td>\n      <td>1920 Summer</td>\n      <td>1920</td>\n      <td>Summer</td>\n      <td>Antwerpen</td>\n      <td>Football</td>\n      <td>Football Men's Football</td>\n      <td>NaN</td>\n    </tr>\n    <tr>\n      <th>3</th>\n      <td>4</td>\n      <td>Edgar Lindenau Aabye</td>\n      <td>M</td>\n      <td>34.0</td>\n      <td>NaN</td>\n      <td>NaN</td>\n      <td>Denmark/Sweden</td>\n      <td>DEN</td>\n      <td>1900 Summer</td>\n      <td>1900</td>\n      <td>Summer</td>\n      <td>Paris</td>\n      <td>Tug-Of-War</td>\n      <td>Tug-Of-War Men's Tug-Of-War</td>\n      <td>Gold</td>\n    </tr>\n    <tr>\n      <th>4</th>\n      <td>5</td>\n      <td>Christine Jacoba Aaftink</td>\n      <td>F</td>\n      <td>21.0</td>\n      <td>185.0</td>\n      <td>82.0</td>\n      <td>Netherlands</td>\n      <td>NED</td>\n      <td>1988 Winter</td>\n      <td>1988</td>\n      <td>Winter</td>\n      <td>Calgary</td>\n      <td>Speed Skating</td>\n      <td>Speed Skating Women's 500 metres</td>\n      <td>NaN</td>\n    </tr>\n    <tr>\n      <th>...</th>\n      <td>...</td>\n      <td>...</td>\n      <td>...</td>\n      <td>...</td>\n      <td>...</td>\n      <td>...</td>\n      <td>...</td>\n      <td>...</td>\n      <td>...</td>\n      <td>...</td>\n      <td>...</td>\n      <td>...</td>\n      <td>...</td>\n      <td>...</td>\n      <td>...</td>\n    </tr>\n    <tr>\n      <th>271111</th>\n      <td>135569</td>\n      <td>Andrzej ya</td>\n      <td>M</td>\n      <td>29.0</td>\n      <td>179.0</td>\n      <td>89.0</td>\n      <td>Poland-1</td>\n      <td>POL</td>\n      <td>1976 Winter</td>\n      <td>1976</td>\n      <td>Winter</td>\n      <td>Innsbruck</td>\n      <td>Luge</td>\n      <td>Luge Mixed (Men)'s Doubles</td>\n      <td>NaN</td>\n    </tr>\n    <tr>\n      <th>271112</th>\n      <td>135570</td>\n      <td>Piotr ya</td>\n      <td>M</td>\n      <td>27.0</td>\n      <td>176.0</td>\n      <td>59.0</td>\n      <td>Poland</td>\n      <td>POL</td>\n      <td>2014 Winter</td>\n      <td>2014</td>\n      <td>Winter</td>\n      <td>Sochi</td>\n      <td>Ski Jumping</td>\n      <td>Ski Jumping Men's Large Hill, Individual</td>\n      <td>NaN</td>\n    </tr>\n    <tr>\n      <th>271113</th>\n      <td>135570</td>\n      <td>Piotr ya</td>\n      <td>M</td>\n      <td>27.0</td>\n      <td>176.0</td>\n      <td>59.0</td>\n      <td>Poland</td>\n      <td>POL</td>\n      <td>2014 Winter</td>\n      <td>2014</td>\n      <td>Winter</td>\n      <td>Sochi</td>\n      <td>Ski Jumping</td>\n      <td>Ski Jumping Men's Large Hill, Team</td>\n      <td>NaN</td>\n    </tr>\n    <tr>\n      <th>271114</th>\n      <td>135571</td>\n      <td>Tomasz Ireneusz ya</td>\n      <td>M</td>\n      <td>30.0</td>\n      <td>185.0</td>\n      <td>96.0</td>\n      <td>Poland</td>\n      <td>POL</td>\n      <td>1998 Winter</td>\n      <td>1998</td>\n      <td>Winter</td>\n      <td>Nagano</td>\n      <td>Bobsleigh</td>\n      <td>Bobsleigh Men's Four</td>\n      <td>NaN</td>\n    </tr>\n    <tr>\n      <th>271115</th>\n      <td>135571</td>\n      <td>Tomasz Ireneusz ya</td>\n      <td>M</td>\n      <td>34.0</td>\n      <td>185.0</td>\n      <td>96.0</td>\n      <td>Poland</td>\n      <td>POL</td>\n      <td>2002 Winter</td>\n      <td>2002</td>\n      <td>Winter</td>\n      <td>Salt Lake City</td>\n      <td>Bobsleigh</td>\n      <td>Bobsleigh Men's Four</td>\n      <td>NaN</td>\n    </tr>\n  </tbody>\n</table>\n<p>271116 rows × 15 columns</p>\n</div>"
     },
     "metadata": {}
    },
    {
     "output_type": "display_data",
     "data": {
      "text/plain": "     NOC       region                 notes\n0    AFG  Afghanistan                   NaN\n1    AHO      Curacao  Netherlands Antilles\n2    ALB      Albania                   NaN\n3    ALG      Algeria                   NaN\n4    AND      Andorra                   NaN\n..   ...          ...                   ...\n225  YEM        Yemen                   NaN\n226  YMD        Yemen           South Yemen\n227  YUG       Serbia            Yugoslavia\n228  ZAM       Zambia                   NaN\n229  ZIM     Zimbabwe                   NaN\n\n[230 rows x 3 columns]",
      "text/html": "<div>\n<style scoped>\n    .dataframe tbody tr th:only-of-type {\n        vertical-align: middle;\n    }\n\n    .dataframe tbody tr th {\n        vertical-align: top;\n    }\n\n    .dataframe thead th {\n        text-align: right;\n    }\n</style>\n<table border=\"1\" class=\"dataframe\">\n  <thead>\n    <tr style=\"text-align: right;\">\n      <th></th>\n      <th>NOC</th>\n      <th>region</th>\n      <th>notes</th>\n    </tr>\n  </thead>\n  <tbody>\n    <tr>\n      <th>0</th>\n      <td>AFG</td>\n      <td>Afghanistan</td>\n      <td>NaN</td>\n    </tr>\n    <tr>\n      <th>1</th>\n      <td>AHO</td>\n      <td>Curacao</td>\n      <td>Netherlands Antilles</td>\n    </tr>\n    <tr>\n      <th>2</th>\n      <td>ALB</td>\n      <td>Albania</td>\n      <td>NaN</td>\n    </tr>\n    <tr>\n      <th>3</th>\n      <td>ALG</td>\n      <td>Algeria</td>\n      <td>NaN</td>\n    </tr>\n    <tr>\n      <th>4</th>\n      <td>AND</td>\n      <td>Andorra</td>\n      <td>NaN</td>\n    </tr>\n    <tr>\n      <th>...</th>\n      <td>...</td>\n      <td>...</td>\n      <td>...</td>\n    </tr>\n    <tr>\n      <th>225</th>\n      <td>YEM</td>\n      <td>Yemen</td>\n      <td>NaN</td>\n    </tr>\n    <tr>\n      <th>226</th>\n      <td>YMD</td>\n      <td>Yemen</td>\n      <td>South Yemen</td>\n    </tr>\n    <tr>\n      <th>227</th>\n      <td>YUG</td>\n      <td>Serbia</td>\n      <td>Yugoslavia</td>\n    </tr>\n    <tr>\n      <th>228</th>\n      <td>ZAM</td>\n      <td>Zambia</td>\n      <td>NaN</td>\n    </tr>\n    <tr>\n      <th>229</th>\n      <td>ZIM</td>\n      <td>Zimbabwe</td>\n      <td>NaN</td>\n    </tr>\n  </tbody>\n</table>\n<p>230 rows × 3 columns</p>\n</div>"
     },
     "metadata": {}
    }
   ],
   "source": [
    "athlete_events = pd.read_csv('data/athlete_events.csv')\n",
    "noc_regions = pd.read_csv('data/noc_regions.csv')\n",
    "display(athlete_events)\n",
    "display(noc_regions)"
   ]
  },
  {
   "cell_type": "markdown",
   "metadata": {},
   "source": [
    "## Question 2\n",
    "\n",
    "Print the full name of each country and the total number of gold medals won, ordered by number of gold medals won.\n",
    "Use inner join with `noc_region` data."
   ]
  },
  {
   "cell_type": "code",
   "execution_count": 4,
   "metadata": {},
   "outputs": [
    {
     "output_type": "display_data",
     "data": {
      "text/plain": "                             Medal\nregion                            \nUSA                           2638\nRussia                        1599\nGermany                       1301\nUK                             678\nItaly                          575\n...                            ...\nIndividual Olympic Athletes      1\nHaiti                            1\nPuerto Rico                      1\nGrenada                          1\nJordan                           1\n\n[99 rows x 1 columns]",
      "text/html": "<div>\n<style scoped>\n    .dataframe tbody tr th:only-of-type {\n        vertical-align: middle;\n    }\n\n    .dataframe tbody tr th {\n        vertical-align: top;\n    }\n\n    .dataframe thead th {\n        text-align: right;\n    }\n</style>\n<table border=\"1\" class=\"dataframe\">\n  <thead>\n    <tr style=\"text-align: right;\">\n      <th></th>\n      <th>Medal</th>\n    </tr>\n    <tr>\n      <th>region</th>\n      <th></th>\n    </tr>\n  </thead>\n  <tbody>\n    <tr>\n      <th>USA</th>\n      <td>2638</td>\n    </tr>\n    <tr>\n      <th>Russia</th>\n      <td>1599</td>\n    </tr>\n    <tr>\n      <th>Germany</th>\n      <td>1301</td>\n    </tr>\n    <tr>\n      <th>UK</th>\n      <td>678</td>\n    </tr>\n    <tr>\n      <th>Italy</th>\n      <td>575</td>\n    </tr>\n    <tr>\n      <th>...</th>\n      <td>...</td>\n    </tr>\n    <tr>\n      <th>Individual Olympic Athletes</th>\n      <td>1</td>\n    </tr>\n    <tr>\n      <th>Haiti</th>\n      <td>1</td>\n    </tr>\n    <tr>\n      <th>Puerto Rico</th>\n      <td>1</td>\n    </tr>\n    <tr>\n      <th>Grenada</th>\n      <td>1</td>\n    </tr>\n    <tr>\n      <th>Jordan</th>\n      <td>1</td>\n    </tr>\n  </tbody>\n</table>\n<p>99 rows × 1 columns</p>\n</div>"
     },
     "metadata": {}
    }
   ],
   "source": [
    "# Filtering out non gold medal rows\n",
    "gold_medal_count = athlete_events[athlete_events['Medal'] == 'Gold']\n",
    "# Join with noc_region\n",
    "gold_medal_count = gold_medal_count.merge(noc_regions)\n",
    "# Aggregating gold medal counts for each region\n",
    "gold_medal_count = pd.DataFrame(gold_medal_count.groupby('region')['Medal'].count())\n",
    "# Sort by gold medal count\n",
    "gold_medal_count.sort_values(by=['Medal'],inplace=True,ascending=False)\n",
    "display(gold_medal_count)"
   ]
  },
  {
   "cell_type": "markdown",
   "metadata": {},
   "source": [
    "## Question 3\n",
    "\n",
    "Print the name of each athlete and the number of gold medals they won, sort by number of gold medals."
   ]
  },
  {
   "cell_type": "code",
   "execution_count": 5,
   "metadata": {},
   "outputs": [
    {
     "output_type": "display_data",
     "data": {
      "text/plain": "           ID                                 Name  Medal\n7118    94406              Michael Fred Phelps, II     23\n2410    33557          Raymond Clarence \"Ray\" Ewry     10\n5046    67046   Larysa Semenivna Latynina (Diriy-)      9\n6637    87390                 Paavo Johannes Nurmi      9\n5207    69210       Frederick Carlton \"Carl\" Lewis      9\n...       ...                                  ...    ...\n3839    51460                       Nick E. Hysong      1\n3840    51463                 Antti Abram Hyvrinen      1\n3841    51514                 Caterine Ibargn Mena      1\n3842    51517                       Isidoro Ibarra      1\n10424  135553  Galina Ivanovna Zybina (-Fyodorova)      1\n\n[10425 rows x 3 columns]",
      "text/html": "<div>\n<style scoped>\n    .dataframe tbody tr th:only-of-type {\n        vertical-align: middle;\n    }\n\n    .dataframe tbody tr th {\n        vertical-align: top;\n    }\n\n    .dataframe thead th {\n        text-align: right;\n    }\n</style>\n<table border=\"1\" class=\"dataframe\">\n  <thead>\n    <tr style=\"text-align: right;\">\n      <th></th>\n      <th>ID</th>\n      <th>Name</th>\n      <th>Medal</th>\n    </tr>\n  </thead>\n  <tbody>\n    <tr>\n      <th>7118</th>\n      <td>94406</td>\n      <td>Michael Fred Phelps, II</td>\n      <td>23</td>\n    </tr>\n    <tr>\n      <th>2410</th>\n      <td>33557</td>\n      <td>Raymond Clarence \"Ray\" Ewry</td>\n      <td>10</td>\n    </tr>\n    <tr>\n      <th>5046</th>\n      <td>67046</td>\n      <td>Larysa Semenivna Latynina (Diriy-)</td>\n      <td>9</td>\n    </tr>\n    <tr>\n      <th>6637</th>\n      <td>87390</td>\n      <td>Paavo Johannes Nurmi</td>\n      <td>9</td>\n    </tr>\n    <tr>\n      <th>5207</th>\n      <td>69210</td>\n      <td>Frederick Carlton \"Carl\" Lewis</td>\n      <td>9</td>\n    </tr>\n    <tr>\n      <th>...</th>\n      <td>...</td>\n      <td>...</td>\n      <td>...</td>\n    </tr>\n    <tr>\n      <th>3839</th>\n      <td>51460</td>\n      <td>Nick E. Hysong</td>\n      <td>1</td>\n    </tr>\n    <tr>\n      <th>3840</th>\n      <td>51463</td>\n      <td>Antti Abram Hyvrinen</td>\n      <td>1</td>\n    </tr>\n    <tr>\n      <th>3841</th>\n      <td>51514</td>\n      <td>Caterine Ibargn Mena</td>\n      <td>1</td>\n    </tr>\n    <tr>\n      <th>3842</th>\n      <td>51517</td>\n      <td>Isidoro Ibarra</td>\n      <td>1</td>\n    </tr>\n    <tr>\n      <th>10424</th>\n      <td>135553</td>\n      <td>Galina Ivanovna Zybina (-Fyodorova)</td>\n      <td>1</td>\n    </tr>\n  </tbody>\n</table>\n<p>10425 rows × 3 columns</p>\n</div>"
     },
     "metadata": {}
    }
   ],
   "source": [
    "# Filtering out non gold medal rows and projection of needed columns\n",
    "athlete_gold_medals = athlete_events[athlete_events['Medal'] == 'Gold'][['ID','Name','Medal']]\n",
    "# Aggregating medal counts per athlete\n",
    "athlete_gold_medals = pd.DataFrame(athlete_gold_medals.groupby(['ID','Name'],as_index=False).count())\n",
    "# Sorting by medal count\n",
    "athlete_gold_medals.sort_values(by=['Medal'],ascending=False,inplace=True)\n",
    "display(athlete_gold_medals)"
   ]
  },
  {
   "cell_type": "markdown",
   "metadata": {},
   "source": [
    "## Question 4\n",
    "\n",
    "Find the correlation between number of medals and height (don't include athletes without a height or a medal)"
   ]
  },
  {
   "cell_type": "code",
   "execution_count": 6,
   "metadata": {},
   "outputs": [
    {
     "output_type": "stream",
     "name": "stdout",
     "text": "-0.024766580135202127\n"
    }
   ],
   "source": [
    "# Get the medals for the athletes\n",
    "medal_count = athlete_events.dropna(subset=['Height','Medal'])[['ID','Medal']]\n",
    "medal_count = medal_count.groupby('ID',as_index=False).count()\n",
    "medal_count.columns = ['ID','medal_count']\n",
    "# Get the heights for the athletes\n",
    "heights = athlete_events.dropna(subset=['Height','Medal'])[['ID','Height']].drop_duplicates()\n",
    "# Combine medal count and height\n",
    "height_medals = heights.merge(medal_count)\n",
    "# Find correlation\n",
    "correlation = height_medals['medal_count'].corr(height_medals['Height'])\n",
    "print(correlation)"
   ]
  },
  {
   "cell_type": "markdown",
   "metadata": {},
   "source": [
    "Load in `population_size.csv`"
   ]
  },
  {
   "cell_type": "code",
   "execution_count": 7,
   "metadata": {},
   "outputs": [
    {
     "output_type": "display_data",
     "data": {
      "text/plain": "     Country Name Country Code     Indicator Name Indicator Code        1960  \\\n0           Aruba          ABW  Population, total    SP.POP.TOTL     54211.0   \n1     Afghanistan          AFG  Population, total    SP.POP.TOTL   8996351.0   \n2          Angola          AGO  Population, total    SP.POP.TOTL   5643182.0   \n3         Albania          ALB  Population, total    SP.POP.TOTL   1608800.0   \n4         Andorra          AND  Population, total    SP.POP.TOTL     13411.0   \n..            ...          ...                ...            ...         ...   \n259        Kosovo          XKX  Population, total    SP.POP.TOTL    947000.0   \n260   Yemen, Rep.          YEM  Population, total    SP.POP.TOTL   5172135.0   \n261  South Africa          ZAF  Population, total    SP.POP.TOTL  17456855.0   \n262        Zambia          ZMB  Population, total    SP.POP.TOTL   3044846.0   \n263      Zimbabwe          ZWE  Population, total    SP.POP.TOTL   3747369.0   \n\n           1961        1962        1963        1964        1965  ...  \\\n0       55438.0     56225.0     56695.0     57032.0     57360.0  ...   \n1     9166764.0   9345868.0   9533954.0   9731361.0   9938414.0  ...   \n2     5753024.0   5866061.0   5980417.0   6093321.0   6203299.0  ...   \n3     1659800.0   1711319.0   1762621.0   1814135.0   1864791.0  ...   \n4       14375.0     15370.0     16412.0     17469.0     18549.0  ...   \n..          ...         ...         ...         ...         ...  ...   \n259    966000.0    994000.0   1022000.0   1050000.0   1078000.0  ...   \n260   5260501.0   5351799.0   5446063.0   5543339.0   5643643.0  ...   \n261  17920673.0  18401608.0  18899275.0  19412975.0  19942303.0  ...   \n262   3140264.0   3240587.0   3345145.0   3452942.0   3563407.0  ...   \n263   3870756.0   3999419.0   4132756.0   4269863.0   4410212.0  ...   \n\n           2009        2010        2011        2012        2013        2014  \\\n0      101453.0    101669.0    102053.0    102577.0    103187.0    103795.0   \n1    28004331.0  28803167.0  29708599.0  30696958.0  31731688.0  32758020.0   \n2    22549547.0  23369131.0  24218565.0  25096150.0  25998340.0  26920466.0   \n3     2927519.0   2913021.0   2905195.0   2900401.0   2895092.0   2889104.0   \n4       84462.0     84449.0     83751.0     82431.0     80788.0     79223.0   \n..          ...         ...         ...         ...         ...         ...   \n259   1761474.0   1775680.0   1791000.0   1805200.0   1824100.0   1821800.0   \n260  22974929.0  23606779.0  24252206.0  24909969.0  25576322.0  26246327.0   \n261  50970818.0  51584663.0  52263516.0  52998213.0  53767396.0  54539571.0   \n262  13456417.0  13850033.0  14264756.0  14699937.0  15153210.0  15620974.0   \n263  13810599.0  14086317.0  14386649.0  14710826.0  15054506.0  15411675.0   \n\n           2015        2016        2017  Unnamed: 62  \n0      104341.0    104822.0    105264.0          NaN  \n1    33736494.0  34656032.0  35530081.0          NaN  \n2    27859305.0  28813463.0  29784193.0          NaN  \n3     2880703.0   2876101.0   2873457.0          NaN  \n4       78014.0     77281.0     76965.0          NaN  \n..          ...         ...         ...          ...  \n259   1801800.0   1816200.0   1830700.0          NaN  \n260  26916207.0  27584213.0  28250420.0          NaN  \n261  55291225.0  56015473.0  56717156.0          NaN  \n262  16100587.0  16591390.0  17094130.0          NaN  \n263  15777451.0  16150362.0  16529904.0          NaN  \n\n[264 rows x 63 columns]",
      "text/html": "<div>\n<style scoped>\n    .dataframe tbody tr th:only-of-type {\n        vertical-align: middle;\n    }\n\n    .dataframe tbody tr th {\n        vertical-align: top;\n    }\n\n    .dataframe thead th {\n        text-align: right;\n    }\n</style>\n<table border=\"1\" class=\"dataframe\">\n  <thead>\n    <tr style=\"text-align: right;\">\n      <th></th>\n      <th>Country Name</th>\n      <th>Country Code</th>\n      <th>Indicator Name</th>\n      <th>Indicator Code</th>\n      <th>1960</th>\n      <th>1961</th>\n      <th>1962</th>\n      <th>1963</th>\n      <th>1964</th>\n      <th>1965</th>\n      <th>...</th>\n      <th>2009</th>\n      <th>2010</th>\n      <th>2011</th>\n      <th>2012</th>\n      <th>2013</th>\n      <th>2014</th>\n      <th>2015</th>\n      <th>2016</th>\n      <th>2017</th>\n      <th>Unnamed: 62</th>\n    </tr>\n  </thead>\n  <tbody>\n    <tr>\n      <th>0</th>\n      <td>Aruba</td>\n      <td>ABW</td>\n      <td>Population, total</td>\n      <td>SP.POP.TOTL</td>\n      <td>54211.0</td>\n      <td>55438.0</td>\n      <td>56225.0</td>\n      <td>56695.0</td>\n      <td>57032.0</td>\n      <td>57360.0</td>\n      <td>...</td>\n      <td>101453.0</td>\n      <td>101669.0</td>\n      <td>102053.0</td>\n      <td>102577.0</td>\n      <td>103187.0</td>\n      <td>103795.0</td>\n      <td>104341.0</td>\n      <td>104822.0</td>\n      <td>105264.0</td>\n      <td>NaN</td>\n    </tr>\n    <tr>\n      <th>1</th>\n      <td>Afghanistan</td>\n      <td>AFG</td>\n      <td>Population, total</td>\n      <td>SP.POP.TOTL</td>\n      <td>8996351.0</td>\n      <td>9166764.0</td>\n      <td>9345868.0</td>\n      <td>9533954.0</td>\n      <td>9731361.0</td>\n      <td>9938414.0</td>\n      <td>...</td>\n      <td>28004331.0</td>\n      <td>28803167.0</td>\n      <td>29708599.0</td>\n      <td>30696958.0</td>\n      <td>31731688.0</td>\n      <td>32758020.0</td>\n      <td>33736494.0</td>\n      <td>34656032.0</td>\n      <td>35530081.0</td>\n      <td>NaN</td>\n    </tr>\n    <tr>\n      <th>2</th>\n      <td>Angola</td>\n      <td>AGO</td>\n      <td>Population, total</td>\n      <td>SP.POP.TOTL</td>\n      <td>5643182.0</td>\n      <td>5753024.0</td>\n      <td>5866061.0</td>\n      <td>5980417.0</td>\n      <td>6093321.0</td>\n      <td>6203299.0</td>\n      <td>...</td>\n      <td>22549547.0</td>\n      <td>23369131.0</td>\n      <td>24218565.0</td>\n      <td>25096150.0</td>\n      <td>25998340.0</td>\n      <td>26920466.0</td>\n      <td>27859305.0</td>\n      <td>28813463.0</td>\n      <td>29784193.0</td>\n      <td>NaN</td>\n    </tr>\n    <tr>\n      <th>3</th>\n      <td>Albania</td>\n      <td>ALB</td>\n      <td>Population, total</td>\n      <td>SP.POP.TOTL</td>\n      <td>1608800.0</td>\n      <td>1659800.0</td>\n      <td>1711319.0</td>\n      <td>1762621.0</td>\n      <td>1814135.0</td>\n      <td>1864791.0</td>\n      <td>...</td>\n      <td>2927519.0</td>\n      <td>2913021.0</td>\n      <td>2905195.0</td>\n      <td>2900401.0</td>\n      <td>2895092.0</td>\n      <td>2889104.0</td>\n      <td>2880703.0</td>\n      <td>2876101.0</td>\n      <td>2873457.0</td>\n      <td>NaN</td>\n    </tr>\n    <tr>\n      <th>4</th>\n      <td>Andorra</td>\n      <td>AND</td>\n      <td>Population, total</td>\n      <td>SP.POP.TOTL</td>\n      <td>13411.0</td>\n      <td>14375.0</td>\n      <td>15370.0</td>\n      <td>16412.0</td>\n      <td>17469.0</td>\n      <td>18549.0</td>\n      <td>...</td>\n      <td>84462.0</td>\n      <td>84449.0</td>\n      <td>83751.0</td>\n      <td>82431.0</td>\n      <td>80788.0</td>\n      <td>79223.0</td>\n      <td>78014.0</td>\n      <td>77281.0</td>\n      <td>76965.0</td>\n      <td>NaN</td>\n    </tr>\n    <tr>\n      <th>...</th>\n      <td>...</td>\n      <td>...</td>\n      <td>...</td>\n      <td>...</td>\n      <td>...</td>\n      <td>...</td>\n      <td>...</td>\n      <td>...</td>\n      <td>...</td>\n      <td>...</td>\n      <td>...</td>\n      <td>...</td>\n      <td>...</td>\n      <td>...</td>\n      <td>...</td>\n      <td>...</td>\n      <td>...</td>\n      <td>...</td>\n      <td>...</td>\n      <td>...</td>\n      <td>...</td>\n    </tr>\n    <tr>\n      <th>259</th>\n      <td>Kosovo</td>\n      <td>XKX</td>\n      <td>Population, total</td>\n      <td>SP.POP.TOTL</td>\n      <td>947000.0</td>\n      <td>966000.0</td>\n      <td>994000.0</td>\n      <td>1022000.0</td>\n      <td>1050000.0</td>\n      <td>1078000.0</td>\n      <td>...</td>\n      <td>1761474.0</td>\n      <td>1775680.0</td>\n      <td>1791000.0</td>\n      <td>1805200.0</td>\n      <td>1824100.0</td>\n      <td>1821800.0</td>\n      <td>1801800.0</td>\n      <td>1816200.0</td>\n      <td>1830700.0</td>\n      <td>NaN</td>\n    </tr>\n    <tr>\n      <th>260</th>\n      <td>Yemen, Rep.</td>\n      <td>YEM</td>\n      <td>Population, total</td>\n      <td>SP.POP.TOTL</td>\n      <td>5172135.0</td>\n      <td>5260501.0</td>\n      <td>5351799.0</td>\n      <td>5446063.0</td>\n      <td>5543339.0</td>\n      <td>5643643.0</td>\n      <td>...</td>\n      <td>22974929.0</td>\n      <td>23606779.0</td>\n      <td>24252206.0</td>\n      <td>24909969.0</td>\n      <td>25576322.0</td>\n      <td>26246327.0</td>\n      <td>26916207.0</td>\n      <td>27584213.0</td>\n      <td>28250420.0</td>\n      <td>NaN</td>\n    </tr>\n    <tr>\n      <th>261</th>\n      <td>South Africa</td>\n      <td>ZAF</td>\n      <td>Population, total</td>\n      <td>SP.POP.TOTL</td>\n      <td>17456855.0</td>\n      <td>17920673.0</td>\n      <td>18401608.0</td>\n      <td>18899275.0</td>\n      <td>19412975.0</td>\n      <td>19942303.0</td>\n      <td>...</td>\n      <td>50970818.0</td>\n      <td>51584663.0</td>\n      <td>52263516.0</td>\n      <td>52998213.0</td>\n      <td>53767396.0</td>\n      <td>54539571.0</td>\n      <td>55291225.0</td>\n      <td>56015473.0</td>\n      <td>56717156.0</td>\n      <td>NaN</td>\n    </tr>\n    <tr>\n      <th>262</th>\n      <td>Zambia</td>\n      <td>ZMB</td>\n      <td>Population, total</td>\n      <td>SP.POP.TOTL</td>\n      <td>3044846.0</td>\n      <td>3140264.0</td>\n      <td>3240587.0</td>\n      <td>3345145.0</td>\n      <td>3452942.0</td>\n      <td>3563407.0</td>\n      <td>...</td>\n      <td>13456417.0</td>\n      <td>13850033.0</td>\n      <td>14264756.0</td>\n      <td>14699937.0</td>\n      <td>15153210.0</td>\n      <td>15620974.0</td>\n      <td>16100587.0</td>\n      <td>16591390.0</td>\n      <td>17094130.0</td>\n      <td>NaN</td>\n    </tr>\n    <tr>\n      <th>263</th>\n      <td>Zimbabwe</td>\n      <td>ZWE</td>\n      <td>Population, total</td>\n      <td>SP.POP.TOTL</td>\n      <td>3747369.0</td>\n      <td>3870756.0</td>\n      <td>3999419.0</td>\n      <td>4132756.0</td>\n      <td>4269863.0</td>\n      <td>4410212.0</td>\n      <td>...</td>\n      <td>13810599.0</td>\n      <td>14086317.0</td>\n      <td>14386649.0</td>\n      <td>14710826.0</td>\n      <td>15054506.0</td>\n      <td>15411675.0</td>\n      <td>15777451.0</td>\n      <td>16150362.0</td>\n      <td>16529904.0</td>\n      <td>NaN</td>\n    </tr>\n  </tbody>\n</table>\n<p>264 rows × 63 columns</p>\n</div>"
     },
     "metadata": {}
    }
   ],
   "source": [
    "pop_size = pd.read_csv('data/population_size.csv',engine='python')\n",
    "display(pop_size)"
   ]
  },
  {
   "cell_type": "markdown",
   "metadata": {},
   "source": [
    "## Question 5\n",
    "\n",
    "Compute correlation between the population of a country and the total number of medals won for each Olympic year.\n",
    "\n",
    "*** There are irregularities between the Country Codes in the `population_size.csv` and NOC strings in `athlete_events.csv` (For example: Angola is AGO in the former but ANG in the latter, and Zimbabwe is ZIM or ZWE). These columns that have irregularities are just not included"
   ]
  },
  {
   "cell_type": "code",
   "execution_count": 167,
   "metadata": {},
   "outputs": [
    {
     "output_type": "display_data",
     "data": {
      "text/plain": "Year\n1960    0.258797\n1964    0.297628\n1968    0.259386\n1972    0.247309\n1976    0.678768\n1980    0.005872\n1984    0.298587\n1988    0.279429\n1992    0.357883\n1994   -0.185483\n1996    0.303433\n1998   -0.007207\n2000    0.206232\n2002    0.085428\n2004    0.237171\n2006   -0.032923\n2008    0.394415\n2010    0.103365\n2012    0.325235\n2014   -0.011909\n2016    0.281799\ndtype: float64"
     },
     "metadata": {}
    }
   ],
   "source": [
    "# Drop population columns of non olympic years\n",
    "olympic_year_pop = pop_size[['Country Code','1960','1964','1968','1972','1976','1980','1984','1988','1992','1994','1996','1998','2000','2002','2004','2006','2008','2010','2012','2014','2016']]\n",
    "# Make a DataFrame with Year column instead of a column for every year\n",
    "olympic_year_pop = olympic_year_pop.set_index('Country Code').stack().reset_index()\n",
    "olympic_year_pop.columns = ['NOC','Year','Population']\n",
    "# Change Year column to integers\n",
    "olympic_year_pop['Year'] = olympic_year_pop['Year'].astype(int)\n",
    "\n",
    "# Get medal counts by olympic year\n",
    "medal_count = athlete_events[athlete_events['Year'] >= 1960][['Year','NOC','Medal']]\n",
    "medal_count = medal_count.dropna(subset=['Medal'])\n",
    "medal_count = pd.DataFrame(medal_count.groupby(['NOC','Year'])['Medal'].count())\n",
    "medal_count = pd.DataFrame(medal_count.stack().reset_index(level=2,drop=True)).reset_index()\n",
    "medal_count.columns = ['NOC','Year','Medal Count']\n",
    "\n",
    "# Merge the two DataFrames\n",
    "pop_medals = olympic_year_pop.merge(medal_count,how='outer',on=['NOC','Year']).dropna()\n",
    "\n",
    "# Custom Function\n",
    "def find_corr(df):\n",
    "    return df['Medal Count'].corr(df['Population'])\n",
    "display(pop_medals.groupby('Year').apply(find_corr))"
   ]
  },
  {
   "cell_type": "markdown",
   "metadata": {},
   "source": [
    "Load `gdp.csv`"
   ]
  },
  {
   "cell_type": "code",
   "execution_count": 169,
   "metadata": {},
   "outputs": [
    {
     "output_type": "display_data",
     "data": {
      "text/plain": "      Country Name Country Code  Year         Value\n0       Arab World          ARB  1968  2.576068e+10\n1       Arab World          ARB  1969  2.843420e+10\n2       Arab World          ARB  1970  3.138550e+10\n3       Arab World          ARB  1971  3.642691e+10\n4       Arab World          ARB  1972  4.331606e+10\n...            ...          ...   ...           ...\n11502     Zimbabwe          ZWE  2012  1.424249e+10\n11503     Zimbabwe          ZWE  2013  1.545177e+10\n11504     Zimbabwe          ZWE  2014  1.589105e+10\n11505     Zimbabwe          ZWE  2015  1.630467e+10\n11506     Zimbabwe          ZWE  2016  1.661996e+10\n\n[11507 rows x 4 columns]",
      "text/html": "<div>\n<style scoped>\n    .dataframe tbody tr th:only-of-type {\n        vertical-align: middle;\n    }\n\n    .dataframe tbody tr th {\n        vertical-align: top;\n    }\n\n    .dataframe thead th {\n        text-align: right;\n    }\n</style>\n<table border=\"1\" class=\"dataframe\">\n  <thead>\n    <tr style=\"text-align: right;\">\n      <th></th>\n      <th>Country Name</th>\n      <th>Country Code</th>\n      <th>Year</th>\n      <th>Value</th>\n    </tr>\n  </thead>\n  <tbody>\n    <tr>\n      <th>0</th>\n      <td>Arab World</td>\n      <td>ARB</td>\n      <td>1968</td>\n      <td>2.576068e+10</td>\n    </tr>\n    <tr>\n      <th>1</th>\n      <td>Arab World</td>\n      <td>ARB</td>\n      <td>1969</td>\n      <td>2.843420e+10</td>\n    </tr>\n    <tr>\n      <th>2</th>\n      <td>Arab World</td>\n      <td>ARB</td>\n      <td>1970</td>\n      <td>3.138550e+10</td>\n    </tr>\n    <tr>\n      <th>3</th>\n      <td>Arab World</td>\n      <td>ARB</td>\n      <td>1971</td>\n      <td>3.642691e+10</td>\n    </tr>\n    <tr>\n      <th>4</th>\n      <td>Arab World</td>\n      <td>ARB</td>\n      <td>1972</td>\n      <td>4.331606e+10</td>\n    </tr>\n    <tr>\n      <th>...</th>\n      <td>...</td>\n      <td>...</td>\n      <td>...</td>\n      <td>...</td>\n    </tr>\n    <tr>\n      <th>11502</th>\n      <td>Zimbabwe</td>\n      <td>ZWE</td>\n      <td>2012</td>\n      <td>1.424249e+10</td>\n    </tr>\n    <tr>\n      <th>11503</th>\n      <td>Zimbabwe</td>\n      <td>ZWE</td>\n      <td>2013</td>\n      <td>1.545177e+10</td>\n    </tr>\n    <tr>\n      <th>11504</th>\n      <td>Zimbabwe</td>\n      <td>ZWE</td>\n      <td>2014</td>\n      <td>1.589105e+10</td>\n    </tr>\n    <tr>\n      <th>11505</th>\n      <td>Zimbabwe</td>\n      <td>ZWE</td>\n      <td>2015</td>\n      <td>1.630467e+10</td>\n    </tr>\n    <tr>\n      <th>11506</th>\n      <td>Zimbabwe</td>\n      <td>ZWE</td>\n      <td>2016</td>\n      <td>1.661996e+10</td>\n    </tr>\n  </tbody>\n</table>\n<p>11507 rows × 4 columns</p>\n</div>"
     },
     "metadata": {}
    }
   ],
   "source": [
    "gdp = pd.read_csv('data/gdp.csv')\n",
    "display(gdp)"
   ]
  },
  {
   "cell_type": "markdown",
   "metadata": {},
   "source": [
    "## Question 6\n",
    "\n",
    "Find the correlation between average GDP of a country and the total medals won"
   ]
  },
  {
   "cell_type": "code",
   "execution_count": 180,
   "metadata": {},
   "outputs": [
    {
     "output_type": "stream",
     "name": "stdout",
     "text": "0.877209127358852\n"
    }
   ],
   "source": [
    "# Get the average GDP of each country over all the years\n",
    "avg_gdp = pd.DataFrame(gdp.groupby('Country Code').mean()['Value']).reset_index()\n",
    "# Get total olympic medals for each country\n",
    "medal_count = pd.DataFrame(athlete_events.groupby('NOC')['Medal'].count())\n",
    "medal_count = medal_count[medal_count['Medal'] > 0].reset_index()\n",
    "\n",
    "# Join the DataFrames\n",
    "gdp_medals = avg_gdp.merge(medal_count,how='right',left_on='Country Code',right_on='NOC').dropna()\n",
    "# Get correlation\n",
    "print(gdp_medals['Value'].corr(gdp_medals['Medal']))"
   ]
  },
  {
   "cell_type": "code",
   "execution_count": null,
   "metadata": {},
   "outputs": [],
   "source": []
  }
 ],
 "metadata": {
  "language_info": {
   "codemirror_mode": {
    "name": "ipython",
    "version": 3
   },
   "file_extension": ".py",
   "mimetype": "text/x-python",
   "name": "python",
   "nbconvert_exporter": "python",
   "pygments_lexer": "ipython3",
   "version": "3.8.2-final"
  },
  "orig_nbformat": 2,
  "kernelspec": {
   "name": "python38264bit20b2955c6730496ab2ce3153d8f806b8",
   "display_name": "Python 3.8.2 64-bit"
  }
 },
 "nbformat": 4,
 "nbformat_minor": 2
}