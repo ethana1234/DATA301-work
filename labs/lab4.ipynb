{
 "cells": [
  {
   "cell_type": "markdown",
   "metadata": {},
   "source": [
    "# Lab 4"
   ]
  },
  {
   "cell_type": "code",
   "execution_count": 1,
   "metadata": {},
   "outputs": [],
   "source": [
    "import numpy as np\n",
    "import pandas as pd\n",
    "import requests\n",
    "from lxml import html"
   ]
  },
  {
   "cell_type": "markdown",
   "metadata": {},
   "source": [
    "Go [here](https://en.wikipedia.org/wiki/List_of_countries_by_GDP_%28nominal%29) and scrape the GDP by country determined by the UN, save in DataFrame."
   ]
  },
  {
   "cell_type": "code",
   "execution_count": 34,
   "metadata": {},
   "outputs": [
    {
     "output_type": "execute_result",
     "data": {
      "text/plain": "              Country         GDP\n0       United States  19,485,394\n1               China  12,234,781\n2               Japan   4,872,415\n3             Germany   3,693,204\n4      United Kingdom   2,631,228\n..                ...         ...\n207  Marshall Islands         209\n208             Nauru         182\n209          Kiribati         180\n210        Montserrat          63\n211            Tuvalu          38\n\n[212 rows x 2 columns]",
      "text/html": "<div>\n<style scoped>\n    .dataframe tbody tr th:only-of-type {\n        vertical-align: middle;\n    }\n\n    .dataframe tbody tr th {\n        vertical-align: top;\n    }\n\n    .dataframe thead th {\n        text-align: right;\n    }\n</style>\n<table border=\"1\" class=\"dataframe\">\n  <thead>\n    <tr style=\"text-align: right;\">\n      <th></th>\n      <th>Country</th>\n      <th>GDP</th>\n    </tr>\n  </thead>\n  <tbody>\n    <tr>\n      <th>0</th>\n      <td>United States</td>\n      <td>19,485,394</td>\n    </tr>\n    <tr>\n      <th>1</th>\n      <td>China</td>\n      <td>12,234,781</td>\n    </tr>\n    <tr>\n      <th>2</th>\n      <td>Japan</td>\n      <td>4,872,415</td>\n    </tr>\n    <tr>\n      <th>3</th>\n      <td>Germany</td>\n      <td>3,693,204</td>\n    </tr>\n    <tr>\n      <th>4</th>\n      <td>United Kingdom</td>\n      <td>2,631,228</td>\n    </tr>\n    <tr>\n      <th>...</th>\n      <td>...</td>\n      <td>...</td>\n    </tr>\n    <tr>\n      <th>207</th>\n      <td>Marshall Islands</td>\n      <td>209</td>\n    </tr>\n    <tr>\n      <th>208</th>\n      <td>Nauru</td>\n      <td>182</td>\n    </tr>\n    <tr>\n      <th>209</th>\n      <td>Kiribati</td>\n      <td>180</td>\n    </tr>\n    <tr>\n      <th>210</th>\n      <td>Montserrat</td>\n      <td>63</td>\n    </tr>\n    <tr>\n      <th>211</th>\n      <td>Tuvalu</td>\n      <td>38</td>\n    </tr>\n  </tbody>\n</table>\n<p>212 rows × 2 columns</p>\n</div>"
     },
     "metadata": {},
     "execution_count": 34
    }
   ],
   "source": [
    "pageContent = requests.get('https://en.wikipedia.org/wiki/List_of_countries_by_GDP_%28nominal%29')\n",
    "tree = html.fromstring(pageContent.content)\n",
    "countries = [string for string in tree.xpath('//table/tbody/tr/td[3]/table/tbody/tr/td[2]//a[1]/text()') if '[' not in string][1:]\n",
    "gdp = tree.xpath('//table/tbody/tr/td[3]/table/tbody/tr/td[3]//span/text()')[1:]\n",
    "df1 = pd.DataFrame(data={'Country':countries,'GDP':gdp})\n",
    "df1"
   ]
  },
  {
   "cell_type": "markdown",
   "metadata": {},
   "source": [
    "Go [here](https://en.wikipedia.org/wiki/List_of_countries_and_dependencies_by_population) and scrape the population of each country, save in DataFrame"
   ]
  },
  {
   "cell_type": "code",
   "execution_count": 50,
   "metadata": {},
   "outputs": [
    {
     "output_type": "stream",
     "name": "stdout",
     "text": "1458 241\n1\n \n1,402,494,800\n18.0%\nNational population clock\n\n\n2\n \n1,361,825,296\n17.5%\nNational population clock\n\n\n3\n \n329,629,242\n4.24%\nNational population clock\n\n\n4\n \n266,911,900\n3.43%\nNational annual projection\n\n\n5\n \n220,892,331\n2.84%\nUN Projection\n\n\n6\n \n211,477,929\n2.72%\nNational population clock\n\n\n7\n \n206,139,587\n2.65%\nUN Projection\n\n\n8\n \n168,551,952\n2.17%\nNational population clock\n\n\n9\n \n146,745,098\n1.89%\nNational estimate\n\n\n10\n \n126,577,691\n1.63%\nNational annual projection\n\n\n11\n \n125,950,000\n1.62%\nMonthly provisional estimate\n\n\n12\n \n108,580,286\n1.40%\nNational population clock\n\n\n13\n \n100,332,639\n1.29%\nNational population clock\n\n\n14\n \n98,665,000\n1.27%\nNational annual projection\n\n\n15\n \n96,208,984\n1.24%\nPreliminary 2019 census result\n\n\n16\n \n89,561,404\n1.15%\nUN Projection\n\n\n17\n \n83,418,366\n1.07%\nNational population clock\n\n\n18\n \n83,154,997\n1.07%\nNational annual estimate\n\n\n19\n \n83,149,300\n1.07%\nNational estimate\n\n\n20\n \n67,075,000\n0.862%\nMonthly national estimate\n\n\n21\n \n66,501,005\n0.854%\nNational population clock\n\n\n22\n \n66,435,550\n0.854%\nNational annual estimate\n\n\n23\n \n60,238,522\n0.774%\nMonthly national estimate\n\n\n24\n \n58,775,022\n0.755%\nNational annual estimate\n\n\n25\n \n55,890,747\n0.718%\nNational annual projection\n\n\n26\n \n54,339,766\n0.698%\nNational annual projection\n\n\n27\n \n51,780,579\n0.665%\nNational annual projection\n\n\n28\n \n49,395,678\n0.635%\nNational annual projection\n\n\n29\n \n47,564,296\n0.611%\n2019 census result\n\n\n30\n \n47,100,396\n0.605%\nNational estimate\n\n\n31\n \n44,938,712\n0.577%\nNational annual projection\n\n\n32\n \n43,000,000\n0.552%\nNational annual projection\n\n\n33\n \n42,477,460\n0.546%\nNational population clock\n\n\n34\n \n41,858,119\n0.538%\nMonthly national estimate\n\n\n35\n \n40,299,300\n0.518%\nNational annual projection\n\n\n36\n \n39,127,900\n0.503%\nNational annual projection\n\n\n37\n \n38,379,000\n0.493%\nNational estimate\n\n\n38\n \n38,016,524\n0.488%\nNational population clock\n\n\n39\n \n35,887,560\n0.461%\nNational population clock\n\n\n40\n \n34,218,169\n0.440%\nNational estimate\n\n41\n \n34,163,230\n0.439%\nNational population clock\n\n\n42\n \n32,769,760\n0.421%\nNational population clock\n\n\n43\n \n32,225,560\n0.414%\nNational annual estimate\n\n\n44\n \n32,219,521\n0.414%\nNational annual projection\n\n45\n \n32,131,400\n0.413%\nNational annual projection\n\n\n46\n \n31,127,674\n0.400%\nNational projection\n\n\n47\n \n30,280,811\n0.389%\nNational projection\n\n\n48\n \n30,066,648\n0.386%\nNational projection\n\n\n49\n \n29,996,478\n0.385%\nNational annual projection\n\n\n50\n \n29,825,968\n0.383%\nUN Projection\n\n\n51\n \n26,545,864\n0.341%\nUN Projection\n\n\n52\n \n26,251,309\n0.337%\nOfficial Projection\n\n\n53\n \n25,823,071\n0.332%\nNational projection\n\n\n54\n \n25,698,252\n0.330%\nNational population clock\n\n\n55\n \n25,450,000\n0.327%\nNational annual projection\n\n\n–\n \n23,604,265\n0.303%\nMonthly national estimate\n\n\n56\n \n22,314,743\n0.287%\nNational annual projection\n\n\n57\n \n21,803,000\n0.280%\nNational estimate\n\n\n58\n \n20,870,060\n0.268%\nNational annual projection\n\n\n59\n \n20,250,833\n0.260%\nUN Projection\n\n\n60\n \n19,405,156\n0.249%\nNational annual estimate\n\n\n61\n \n19,129,952\n0.246%\nUN Projection\n\n\n62\n \n19,107,216\n0.245%\nNational annual projection\n\n\n63\n \n18,694,184\n0.240%\nNational population clock\n\n\n64\n \n17,885,422\n0.230%\nNational annual projection\n\n\n65\n \n17,500,657\n0.225%\nUN Projection\n\n\n66\n \n17,478,356\n0.225%\nNational population clock\n\n\n67\n \n17,462,231\n0.224%\nNational population clock\n\n\n68\n \n16,604,026\n0.213%\nNational annual projection\n\n\n69\n \n16,244,513\n0.209%\nNational annual projection\n\n\n70\n \n16,209,125\n0.208%\nNational annual projection\n\n\n71\n \n15,893,219\n0.204%\nUN Projection\n\n\n72\n \n15,288,489\n0.196%\nProvisional 2019 census result\n\n\n73\n \n15,159,624\n0.195%\nNational annual projection\n\n\n74\n \n12,778,250\n0.164%\nNational annual projection\n\n\n75\n \n12,374,397\n0.159%\nNational projection annual\n\n\n76\n \n12,218,357\n0.157%\nNational projection\n\n\n77\n \n11,733,059\n0.151%\nNational projection annual\n\n\n78\n \n11,722,038\n0.151%\nNational estimate\n\n\n79\n \n11,577,779\n0.149%\nNational annual projection\n\n\n80\n \n11,524,454\n0.148%\nMonthly national estimate\n\n\n81\n \n11,469,896\n0.147%\nNational projection annual\n\n\n82\n \n11,209,628\n0.144%\nNational annual estimate\n\n\n83\n \n10,953,317\n0.141%\nNational annual projection\n\n\n84\n \n10,724,599\n0.138%\nNational estimate\n\n\n85\n \n10,693,939\n0.137%\nNational quarterly estimate\n\n\n86\n \n10,672,564\n0.137%\nNational population clock\n\n\n87\n \n10,358,320\n0.133%\nNational projection\n\n\n88\n \n10,338,368\n0.133%\nNational monthly estimate\n\n\n89\n \n10,276,617\n0.132%\nNational annual estimate\n\n\n90\n \n10,067,108\n0.129%\nNational estimate\n\n\n91\n \n9,890,400\n0.127%\nUN Projection\n\n\n92\n \n9,772,756\n0.126%\nNational estimate\n\n\n93\n \n9,408,400\n0.121%\nNational annual estimate\n\n\n94\n \n9,191,670\n0.118%\nNational population clock\n\n\n95\n \n9,158,345\n0.118%\nNational annual projection\n\n\n96\n \n9,127,000\n0.117%\nNational estimate\n\n\n97\n \n8,935,000\n0.115%\nNational annual projection\n\n\n98\n \n8,902,600\n0.114%\nQuarterly provisional figure\n\n\n99\n \n8,603,899\n0.111%\nNational provisional figure\n\n\n100\n \n7,901,454\n0.102%\nNational annual projection\n\n\n101\n \n7,538,000\n0.0969%\nNational annual projection\n\n\n–\n7,500,700\n0.0964%\nNational estimate\n\n\n102\n \n7,252,672\n0.0932%\nNational annual projection\n\n\n103\n \n7,123,205\n0.0915%\nNational annual projection\n\n\n104\n \n6,963,764\n0.0895%\nNational annual estimate\n\n\n105\n \n6,951,482\n0.0893%\nNational estimate\n\n\n106\n \n6,871,287\n0.0883%\nUN Projection\n\n\n107\n \n6,825,442\n0.0877%\nUN Projection\n\n\n108\n \n6,533,500\n0.0839%\nNational estimate\n\n\n109\n \n6,486,201\n0.0833%\nUN Projection\n\n\n110\n \n6,460,411\n0.0830%\nNational estimate\n\n\n111\n \n6,031,187\n0.0775%\nUN Projection\n\n\n112\n \n5,822,763\n0.0748%\nNational quarterly estimate\n\n\n113\n \n5,703,600\n0.0733%\nNational estimate\n\n\n114\n \n5,518,092\n0.0709%\nUN Projection\n\n\n115\n \n5,528,390\n0.0710%\nNational monthly estimate\n\n\n116\n \n5,496,011\n0.0706%\nNational annual projection\n\n\n117\n \n5,457,873\n0.0701%\nNational estimate\n\n\n118\n \n5,367,580\n0.0690%\nNational quarterly estimate\n\n\n119\n \n5,058,007\n0.0650%\nNational annual projection\n\n\n120\n \n4,983,079\n0.0640%\nNational population clock\n\n\n121\n4,976,684\n0.0639%\nNational annual projection\n\n\n122\n \n4,921,500\n0.0632%\nNational estimate\n\n\n123\n \n4,664,790\n0.0599%\nNational estimate\n\n\n124\n \n4,475,353\n0.0575%\nNational projection\n\n\n125\n \n4,420,110\n0.0568%\nNational annual estimate\n\n\n126\n \n4,218,808\n0.0542%\nNational annual projection\n\n\n127\n \n4,077,347\n0.0524%\nNational annual projection\n\n\n128\n \n4,076,246\n0.0524%\nNational annual estimate\n\n\n129\n \n3,723,464\n0.0478%\nNational annual estimate\n\n\n130\n \n3,518,552\n0.0452%\nNational annual projection\n\n\n131\n \n3,497,117\n0.0449%\nUN Projection\n\n\n132\n \n3,315,835\n0.0426%\nNational population clock\n\n\n133\n \n3,301,000\n0.0424%\nUN Projection\n\n\n–\n3,193,694\n0.0410%\nNational estimate\n\n\n134\n \n2,957,500\n0.0380%\nNational quarterly estimate\n\n\n135\n \n2,845,955\n0.0366%\nNational annual estimate\n\n\n136\n \n2,793,471\n0.0359%\nMonthly national estimate\n\n\n137\n \n2,747,282\n0.0353%\nMonthly national estimate\n\n\n138\n \n2,726,667\n0.0350%\nNational estimate\n\n\n139\n \n2,681,735\n0.0345%\nNational estimate\n\n\n140\n \n2,458,936\n0.0316%\nNational projection\n\n\n141\n \n2,347,706\n0.0302%\nUN Projection\n\n\n142\n \n2,338,851\n0.0301%\nNational annual projection\n\n\n143\n \n2,172,579\n0.0279%\nUN Projection\n\n\n144\n \n2,094,060\n0.0269%\nNational estimate\n\n\n145\n \n2,077,132\n0.0267%\nNational estimate\n\n\n146\n \n2,007,201\n0.0258%\n2016 census result\n\n\n147\n \n1,906,800\n0.0245%\nMonthly national estimate\n\n\n–\n \n1,795,666\n0.0231%\nNational annual estimate\n\n\n148\n \n1,604,528\n0.0206%\nNational annual projection\n\n\n149\n \n1,543,300\n0.0198%\nNational annual projection\n\n\n150\n \n1,387,149\n0.0178%\nNational annual projection\n\n\n151\n \n1,363,985\n0.0175%\nNational estimate\n\n\n152\n \n1,358,276\n0.0175%\nNational estimate\n\n\n153\n \n1,328,360\n0.0171%\nNational estimate\n\n\n154\n \n1,265,985\n0.0163%\nNational estimate\n\n\n155\n \n1,093,238\n0.0140%\nNational census result\n\n\n156\n \n1,078,373\n0.0139%\nNational annual projection\n\n\n157\n \n884,887\n0.0114%\nNational census result\n\n\n158\n \n875,900\n0.0113%\nNational annual estimate\n\n\n159\n \n873,724\n0.0112%\nNational estimate\n\n\n160\n \n782,766\n0.0101%\nUN Projection\n\n\n161\n \n741,672\n0.00953%\nNational annual projection\n\n\n162\n \n680,806\n0.00875%\nNational annual projection\n\n\n–\n679,600\n0.00873%\nNational quarterly estimate\n\n\n163\n \n622,359\n0.00800%\nNational estimate\n\n\n164\n \n626,108\n0.00804%\nNational estimate\n\n\n–\n \n582,463\n0.00748%\nUN Projection\n\n\n165\n \n581,372\n0.00747%\nUN Projection\n\n\n166\n \n550,483\n0.00707%\nNational annual projection\n\n\n167\n \n493,559\n0.00634%\nNational estimate\n\n\n–\n \n469,000\n0.00603%\nNational estimate\n\n\n168\n \n442,400\n0.00568%\nNational estimate\n\n\n169\n \n408,487\n0.00525%\nNational estimate\n\n\n170\n \n385,340\n0.00495%\nNational annual projection\n\n\n171\n \n374,775\n0.00482%\nNational annual estimate\n\n\n172\n \n366,130\n0.00470%\nNational quarterly estimate\n\n\n—\n \n351,965\n0.00452%\nNational estimate\n\n\n173\n \n304,500\n0.00391%\nNational annual estimate\n\n\n174\n \n287,025\n0.00369%\nUN Projection\n\n\n–\n282,200\n0.00363%\nNational annual estimate\n\n\n–\n275,918\n0.00355%\n2017 census results\n\n\n–\n \n244,832\n0.00315%\nNational estimate\n\n\n175\n \n201,784\n0.00259%\nNational estimate\n\n\n176\n \n200,874\n0.00258%\nNational projection\n\n\n177\n \n178,696\n0.00230%\nNational annual estimate\n\n\n–\n172,400\n0.00222%\nNational annual estimate\n\n\n–\n158,665\n0.00204%\nNational annual estimate\n\n\n–\n \n148,000\n0.00190%\nNational annual estimate\n\n\n178\n \n120,100\n0.00154%\nNational annual estimate\n\n\n–\n112,309\n0.00144%\nNational quarterly estimate\n\n\n179\n \n112,003\n0.00144%\nUN Projection\n\n\n180\n \n110,608\n0.00142%\nNational estimate\n\n\n–\n106,800\n0.00137%\nNational estimate\n\n\n–\n104,578\n0.00134%\nUN Projection\n\n\n181\n \n104,468\n0.00134%\nNational annual projection\n\n\n182\n \n100,651\n0.00129%\n2016 census result\n\n\n183\n \n97,625\n0.00125%\nNational estimate\n\n\n184\n \n96,453\n0.00124%\nNational annual projection\n\n\n–\n83,314\n0.00107%\n2016 census result\n\n\n185\n \n77,543\n0.000996%\nNational estimate\n\n\n186\n \n71,808\n0.000923%\nUN Projection\n\n\n–\n65,813\n0.000846%\nNational estimate\n\n\n–\n64,027\n0.000823%\nNational annual projection\n\n\n–\n62,792\n0.000807%\nNational estimate\n\n\n–\n56,700\n0.000729%\nNational annual estimate\n\n\n–\n56,081\n0.000721%\nNational estimate\n\n\n–\n56,200\n0.000722%\nNational annual estimate\n\n\n187\n \n55,500\n0.000713%\nNational annual estimate\n\n\n–\n \n53,532\n0.000688%\nPreliminary 2015 census result\n\n\n188\n \n52,823\n0.000679%\nUN Projection\n\n\n–\n52,337\n0.000672%\nMonthly national estimate\n\n\n–\n41,369\n0.000532%\nNational estimate\n\n\n–\n40,614\n0.000522%\nNational estimate\n\n\n189\n \n38,749\n0.000498%\nNational semi annual estimate\n\n\n190\n \n38,100\n0.000490%\nNational annual estimate\n\n\n–\n35,334\n0.000459%\nNational estimate\n\n\n–\n33,691\n0.000433%\nUN Projection\n\n\n191\n \n33,553\n0.000431%\nNational monthly estimate\n\n\n–\n30,030\n0.000386%\nUN Projection\n\n\n–\n29,914\n0.000384%\nNational monthly estimate\n\n\n192\n \n17,900\n0.000230%\nNational annual estimate\n\n\n–\n15,200\n0.000195%\nNational annual estimate\n\n\n–\n14,869\n0.000191%\nUN Projection\n\n\n–\n11,700\n0.000150%\nNational annual estimate\n\n\n193\n \n11,000\n0.000141%\nNational annual estimate\n\n\n194\n \n10,200\n0.000131%\nNational annual estimate\n\n\n–\n9,793\n0.000126%\nNational estimate\n\n\n–\n6,008\n0.0000772%\nNational estimate\n\n\n–\n5,633\n0.0000724%\n2016 census result\n\n\n–\n4,989\n0.0000641%\nUN Projection\n\n\n–\n3,198\n0.0000411%\n2016 census result\n\n\n–\n1,928\n0.0000248%\nNational estimate\n\n\n–\n1,756\n0.0000226%\nNational estimate\n\n\n–\n1,520\n0.0000195%\nNational annual estimate\n\n\n–\n1,400\n0.0000180%\nNational annual estimate\n\n\n195\n \n825\n0.0000106%\nNational estimate\n\n\n–\n538\n0.00000691%\nNational estimate\n\n\n–\n50\n0.000000642%\nNational estimate\n\n\n"
    }
   ],
   "source": [
    "pageContent = requests.get('https://en.wikipedia.org/wiki/List_of_countries_and_dependencies_by_population')\n",
    "tree = html.fromstring(pageContent.content)\n",
    "rows = tree.xpath('//table/tbody/tr/td[not(td[1]/text()=\"-\")]/text()')\n",
    "population = tree.xpath('//table/tbody/tr/td[3]/text()')\n",
    "print(len(countries),len(population))\n",
    "for row in rows:\n",
    "    print(row)"
   ]
  },
  {
   "cell_type": "code",
   "execution_count": null,
   "metadata": {},
   "outputs": [],
   "source": []
  }
 ],
 "metadata": {
  "language_info": {
   "codemirror_mode": {
    "name": "ipython",
    "version": 3
   },
   "file_extension": ".py",
   "mimetype": "text/x-python",
   "name": "python",
   "nbconvert_exporter": "python",
   "pygments_lexer": "ipython3",
   "version": "3.8.2-final"
  },
  "orig_nbformat": 2,
  "kernelspec": {
   "name": "python38264bit20b2955c6730496ab2ce3153d8f806b8",
   "display_name": "Python 3.8.2 64-bit"
  }
 },
 "nbformat": 4,
 "nbformat_minor": 2
}