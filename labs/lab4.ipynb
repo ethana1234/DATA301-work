{
 "cells": [
  {
   "cell_type": "markdown",
   "metadata": {},
   "source": [
    "# Lab 4"
   ]
  },
  {
   "cell_type": "code",
   "execution_count": 1,
   "metadata": {},
   "outputs": [],
   "source": [
    "import numpy as np\n",
    "import pandas as pd\n",
    "import requests\n",
    "from lxml import html"
   ]
  },
  {
   "cell_type": "markdown",
   "metadata": {},
   "source": [
    "Go [here](https://en.wikipedia.org/wiki/List_of_countries_by_GDP_%28nominal%29) and scrape the GDP by country determined by the UN, save in DataFrame.\n",
    "* Some of the country rows are actually footnote links, so filter out with `[not(contains(text(),\"[\"))]`\n",
    "* First row is the total, so truncate it\n",
    "* Convert string to int for GDP"
   ]
  },
  {
   "cell_type": "code",
   "execution_count": 104,
   "metadata": {},
   "outputs": [
    {
     "output_type": "execute_result",
     "data": {
      "text/plain": "              Country       GDP\n0       United States  19485394\n1               China  12234781\n2               Japan   4872415\n3             Germany   3693204\n4      United Kingdom   2631228\n..                ...       ...\n207  Marshall Islands       209\n208             Nauru       182\n209          Kiribati       180\n210        Montserrat        63\n211            Tuvalu        38\n\n[212 rows x 2 columns]",
      "text/html": "<div>\n<style scoped>\n    .dataframe tbody tr th:only-of-type {\n        vertical-align: middle;\n    }\n\n    .dataframe tbody tr th {\n        vertical-align: top;\n    }\n\n    .dataframe thead th {\n        text-align: right;\n    }\n</style>\n<table border=\"1\" class=\"dataframe\">\n  <thead>\n    <tr style=\"text-align: right;\">\n      <th></th>\n      <th>Country</th>\n      <th>GDP</th>\n    </tr>\n  </thead>\n  <tbody>\n    <tr>\n      <th>0</th>\n      <td>United States</td>\n      <td>19485394</td>\n    </tr>\n    <tr>\n      <th>1</th>\n      <td>China</td>\n      <td>12234781</td>\n    </tr>\n    <tr>\n      <th>2</th>\n      <td>Japan</td>\n      <td>4872415</td>\n    </tr>\n    <tr>\n      <th>3</th>\n      <td>Germany</td>\n      <td>3693204</td>\n    </tr>\n    <tr>\n      <th>4</th>\n      <td>United Kingdom</td>\n      <td>2631228</td>\n    </tr>\n    <tr>\n      <th>...</th>\n      <td>...</td>\n      <td>...</td>\n    </tr>\n    <tr>\n      <th>207</th>\n      <td>Marshall Islands</td>\n      <td>209</td>\n    </tr>\n    <tr>\n      <th>208</th>\n      <td>Nauru</td>\n      <td>182</td>\n    </tr>\n    <tr>\n      <th>209</th>\n      <td>Kiribati</td>\n      <td>180</td>\n    </tr>\n    <tr>\n      <th>210</th>\n      <td>Montserrat</td>\n      <td>63</td>\n    </tr>\n    <tr>\n      <th>211</th>\n      <td>Tuvalu</td>\n      <td>38</td>\n    </tr>\n  </tbody>\n</table>\n<p>212 rows × 2 columns</p>\n</div>"
     },
     "metadata": {},
     "execution_count": 104
    }
   ],
   "source": [
    "pageContent = requests.get('https://en.wikipedia.org/wiki/List_of_countries_by_GDP_%28nominal%29')\n",
    "tree = html.fromstring(pageContent.content)\n",
    "countries = tree.xpath('//table/tbody/tr/td[3]/table/tbody/tr/td[2]//a[1][not(contains(text(),\"[\"))]/text()')[1:]\n",
    "gdp = [int(string.replace(',','')) for string in tree.xpath('//table/tbody/tr/td[3]/table/tbody/tr/td[3]//span/text()')][1:]\n",
    "df1 = pd.DataFrame(data={'Country':countries,'GDP':gdp})\n",
    "df1"
   ]
  },
  {
   "cell_type": "markdown",
   "metadata": {},
   "source": [
    "Go [here](https://en.wikipedia.org/wiki/List_of_countries_and_dependencies_by_population) and scrape the population of each country, save in DataFrame\n",
    "* Some of the country rows are actually footnote links, so filter out with `[not(contains(text(),\"[\"))]`\n",
    "* Don't include territories, which have \"-\" or \"—\" in the rank column, filter out with `[not(td[1]/text()=\"–\" or td[1]/text()=\"—\")]`\n",
    "* Convert string to int for population"
   ]
  },
  {
   "cell_type": "code",
   "execution_count": 103,
   "metadata": {},
   "outputs": [
    {
     "output_type": "execute_result",
     "data": {
      "text/plain": "           Country  Population\n0            China  1402494800\n1            India  1361825296\n2    United States   329629242\n3        Indonesia   266911900\n4         Pakistan   220892331\n..             ...         ...\n190     San Marino       33553\n191          Palau       17900\n192          Nauru       11000\n193         Tuvalu       10200\n194   Vatican City         825\n\n[195 rows x 2 columns]",
      "text/html": "<div>\n<style scoped>\n    .dataframe tbody tr th:only-of-type {\n        vertical-align: middle;\n    }\n\n    .dataframe tbody tr th {\n        vertical-align: top;\n    }\n\n    .dataframe thead th {\n        text-align: right;\n    }\n</style>\n<table border=\"1\" class=\"dataframe\">\n  <thead>\n    <tr style=\"text-align: right;\">\n      <th></th>\n      <th>Country</th>\n      <th>Population</th>\n    </tr>\n  </thead>\n  <tbody>\n    <tr>\n      <th>0</th>\n      <td>China</td>\n      <td>1402494800</td>\n    </tr>\n    <tr>\n      <th>1</th>\n      <td>India</td>\n      <td>1361825296</td>\n    </tr>\n    <tr>\n      <th>2</th>\n      <td>United States</td>\n      <td>329629242</td>\n    </tr>\n    <tr>\n      <th>3</th>\n      <td>Indonesia</td>\n      <td>266911900</td>\n    </tr>\n    <tr>\n      <th>4</th>\n      <td>Pakistan</td>\n      <td>220892331</td>\n    </tr>\n    <tr>\n      <th>...</th>\n      <td>...</td>\n      <td>...</td>\n    </tr>\n    <tr>\n      <th>190</th>\n      <td>San Marino</td>\n      <td>33553</td>\n    </tr>\n    <tr>\n      <th>191</th>\n      <td>Palau</td>\n      <td>17900</td>\n    </tr>\n    <tr>\n      <th>192</th>\n      <td>Nauru</td>\n      <td>11000</td>\n    </tr>\n    <tr>\n      <th>193</th>\n      <td>Tuvalu</td>\n      <td>10200</td>\n    </tr>\n    <tr>\n      <th>194</th>\n      <td>Vatican City</td>\n      <td>825</td>\n    </tr>\n  </tbody>\n</table>\n<p>195 rows × 2 columns</p>\n</div>"
     },
     "metadata": {},
     "execution_count": 103
    }
   ],
   "source": [
    "pageContent = requests.get('https://en.wikipedia.org/wiki/List_of_countries_and_dependencies_by_population')\n",
    "tree = html.fromstring(pageContent.content)\n",
    "countries = tree.xpath('//table/tbody/tr[not(td[1]/text()=\"–\" or td[1]/text()=\"—\")]/td[2][a[1]/text() or span/a[1]/text()]//a[1][not(contains(text(),\"[\"))]/text()')\n",
    "population = [int(string.replace(',','')) for string in tree.xpath('//table/tbody/tr[not(td[1]/text()=\"–\" or td[1]/text()=\"—\")]/td[3]/text()')]\n",
    "df2 = pd.DataFrame({'Country':countries,'Population':population})\n",
    "df2"
   ]
  },
  {
   "cell_type": "markdown",
   "metadata": {},
   "source": [
    "Do an inner join on the 2 DataFrames"
   ]
  },
  {
   "cell_type": "code",
   "execution_count": 105,
   "metadata": {},
   "outputs": [
    {
     "output_type": "execute_result",
     "data": {
      "text/plain": "                       GDP  Population\nCountry                               \nUnited States     19485394   329629242\nChina             12234781  1402494800\nJapan              4872415   125950000\nGermany            3693204    83149300\nUnited Kingdom     2631228    66435550\n...                    ...         ...\nPalau                  234       17900\nMarshall Islands       209       55500\nNauru                  182       11000\nKiribati               180      120100\nTuvalu                  38       10200\n\n[183 rows x 2 columns]",
      "text/html": "<div>\n<style scoped>\n    .dataframe tbody tr th:only-of-type {\n        vertical-align: middle;\n    }\n\n    .dataframe tbody tr th {\n        vertical-align: top;\n    }\n\n    .dataframe thead th {\n        text-align: right;\n    }\n</style>\n<table border=\"1\" class=\"dataframe\">\n  <thead>\n    <tr style=\"text-align: right;\">\n      <th></th>\n      <th>GDP</th>\n      <th>Population</th>\n    </tr>\n    <tr>\n      <th>Country</th>\n      <th></th>\n      <th></th>\n    </tr>\n  </thead>\n  <tbody>\n    <tr>\n      <th>United States</th>\n      <td>19485394</td>\n      <td>329629242</td>\n    </tr>\n    <tr>\n      <th>China</th>\n      <td>12234781</td>\n      <td>1402494800</td>\n    </tr>\n    <tr>\n      <th>Japan</th>\n      <td>4872415</td>\n      <td>125950000</td>\n    </tr>\n    <tr>\n      <th>Germany</th>\n      <td>3693204</td>\n      <td>83149300</td>\n    </tr>\n    <tr>\n      <th>United Kingdom</th>\n      <td>2631228</td>\n      <td>66435550</td>\n    </tr>\n    <tr>\n      <th>...</th>\n      <td>...</td>\n      <td>...</td>\n    </tr>\n    <tr>\n      <th>Palau</th>\n      <td>234</td>\n      <td>17900</td>\n    </tr>\n    <tr>\n      <th>Marshall Islands</th>\n      <td>209</td>\n      <td>55500</td>\n    </tr>\n    <tr>\n      <th>Nauru</th>\n      <td>182</td>\n      <td>11000</td>\n    </tr>\n    <tr>\n      <th>Kiribati</th>\n      <td>180</td>\n      <td>120100</td>\n    </tr>\n    <tr>\n      <th>Tuvalu</th>\n      <td>38</td>\n      <td>10200</td>\n    </tr>\n  </tbody>\n</table>\n<p>183 rows × 2 columns</p>\n</div>"
     },
     "metadata": {},
     "execution_count": 105
    }
   ],
   "source": [
    "df3 = df1.set_index('Country').join(df2.set_index('Country'),how=\"inner\")\n",
    "df3"
   ]
  },
  {
   "cell_type": "markdown",
   "metadata": {},
   "source": [
    "Determine the correlation between the GDP of a country and its population"
   ]
  },
  {
   "cell_type": "code",
   "execution_count": 106,
   "metadata": {},
   "outputs": [
    {
     "output_type": "execute_result",
     "data": {
      "text/plain": "0.5623686142718832"
     },
     "metadata": {},
     "execution_count": 106
    }
   ],
   "source": [
    "df3['GDP'].corr(df3['Population'])"
   ]
  },
  {
   "cell_type": "code",
   "execution_count": null,
   "metadata": {},
   "outputs": [],
   "source": []
  }
 ],
 "metadata": {
  "language_info": {
   "codemirror_mode": {
    "name": "ipython",
    "version": 3
   },
   "file_extension": ".py",
   "mimetype": "text/x-python",
   "name": "python",
   "nbconvert_exporter": "python",
   "pygments_lexer": "ipython3",
   "version": "3.8.2-final"
  },
  "orig_nbformat": 2,
  "kernelspec": {
   "name": "python38264bit20b2955c6730496ab2ce3153d8f806b8",
   "display_name": "Python 3.8.2 64-bit"
  }
 },
 "nbformat": 4,
 "nbformat_minor": 2
}