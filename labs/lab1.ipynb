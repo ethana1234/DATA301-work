{
 "cells": [
  {
   "cell_type": "markdown",
   "metadata": {},
   "source": [
    "# Lab 1\n",
    "\n",
    "Retrieving data"
   ]
  },
  {
   "cell_type": "code",
   "execution_count": 46,
   "metadata": {},
   "outputs": [],
   "source": [
    "import numpy as np"
   ]
  },
  {
   "cell_type": "markdown",
   "metadata": {},
   "source": [
    "After loading data, copying totals, and remove first and last row from main 2D array.\n",
    "\n",
    "Also add columns for grade percentages and final grade"
   ]
  },
  {
   "cell_type": "code",
   "execution_count": 47,
   "metadata": {},
   "outputs": [
    {
     "output_type": "stream",
     "name": "stdout",
     "text": "[[ 1.  17.5 12.  ... 44.   0.   0. ]\n [ 2.  22.  22.  ... 51.   0.   0. ]\n [ 3.  20.  20.  ... 56.   0.   0. ]\n ...\n [73.  22.  22.  ... 62.   0.   0. ]\n [74.  20.  16.  ... 55.   0.   0. ]\n [75.  22.  11.5 ... 31.   0.   0. ]]\n"
    }
   ],
   "source": [
    "data = np.genfromtxt('data/grades.txt', delimiter='\\t')\n",
    "totals = data[-1]\n",
    "data = np.nan_to_num(data[1:-1])\n",
    "data = np.hstack((data, np.zeros((len(data),2))))\n",
    "print(data)"
   ]
  },
  {
   "cell_type": "markdown",
   "metadata": {},
   "source": [
    "Get grade percentages for each student"
   ]
  },
  {
   "cell_type": "code",
   "execution_count": 51,
   "metadata": {},
   "outputs": [
    {
     "output_type": "stream",
     "name": "stdout",
     "text": "[[ 1.         17.5        12.         ... 44.          0.82679487  3.        ]\n [ 2.         22.         22.         ... 51.          0.81557173  3.        ]\n [ 3.         20.         20.         ... 56.          0.90912451  4.        ]\n ...\n [73.         22.         22.         ... 62.          0.97106838  0.        ]\n [74.         20.         16.         ... 55.          0.89575999  0.        ]\n [75.         22.         11.5        ... 31.          0.76839801  0.        ]]\n"
    }
   ],
   "source": [
    "def get_percentages(r):\n",
    "    grouped_grades = np.zeros(6)\n",
    "    grouped_grades[0] = r[1:5].sum() / totals[1:5].sum()\n",
    "    grouped_grades[1] = r[5:14].sum() / totals[5:14].sum()\n",
    "    grouped_grades[2] = (r[14] + r[19]) / (totals[14] + totals[19])\n",
    "    grouped_grades[3] = r[15:17].sum() / totals[15:17].sum()\n",
    "    grouped_grades[4] = r[17] / totals[17]\n",
    "    grouped_grades[5] = r[18] / totals[18]\n",
    "    r[20] = (grouped_grades * [.1,.2,.4,.2,.1,.01]).sum()\n",
    "    return r\n",
    "data = np.apply_along_axis(get_percentages, 1, data)\n",
    "print(data)"
   ]
  },
  {
   "cell_type": "markdown",
   "metadata": {},
   "source": [
    "Get final grades for each student."
   ]
  },
  {
   "cell_type": "code",
   "execution_count": 58,
   "metadata": {},
   "outputs": [
    {
     "output_type": "stream",
     "name": "stdout",
     "text": "[[ 1  3]\n [ 2  3]\n [ 3  4]\n [ 4  4]\n [ 5  3]\n [ 6  4]\n [ 7  3]\n [ 8  4]\n [ 9  3]\n [10  3]\n [11  3]\n [12  3]\n [13  3]\n [14  3]\n [15  3]\n [16  2]\n [17  2]\n [18  4]\n [19  3]\n [20  0]\n [21  3]\n [22  4]\n [23  4]\n [24  4]\n [25  3]\n [26  4]\n [27  3]\n [28  3]\n [29  4]\n [30  3]\n [31  3]\n [32  3]\n [33  2]\n [34  3]\n [35  4]\n [36  4]\n [37  3]\n [38  3]\n [39  3]\n [40  1]\n [41  3]\n [42  3]\n [43  3]\n [44  0]\n [45  4]\n [46  4]\n [47  3]\n [48  3]\n [49  3]\n [50  1]\n [51  2]\n [52  3]\n [53  4]\n [54  2]\n [55  3]\n [56  4]\n [57  3]\n [58  3]\n [59  3]\n [60  4]\n [61  1]\n [62  4]\n [63  3]\n [64  3]\n [65  4]\n [66  4]\n [67  3]\n [68  4]\n [69  2]\n [70  4]\n [71  2]\n [72  2]\n [73  4]\n [74  3]\n [75  2]]\n"
    }
   ],
   "source": [
    "def final_grade(r):\n",
    "    percentage = r[-2]\n",
    "    if percentage >= .9:\n",
    "        r[-1] = 4\n",
    "    elif percentage >= .8:\n",
    "        r[-1] = 3\n",
    "    elif percentage >= .7:\n",
    "        r[-1] = 2\n",
    "    elif percentage >= .6:\n",
    "        r[-1] = 1\n",
    "    return r\n",
    "\n",
    "data = np.apply_along_axis(final_grade, 1, data)\n",
    "student_grades = data[:,[0,-1]].astype('int32')\n",
    "print(student_grades)"
   ]
  },
  {
   "cell_type": "code",
   "execution_count": null,
   "metadata": {},
   "outputs": [],
   "source": []
  }
 ],
 "metadata": {
  "language_info": {
   "name": "python",
   "codemirror_mode": {
    "name": "ipython",
    "version": 3
   },
   "version": "3.7.3-final"
  },
  "orig_nbformat": 2,
  "file_extension": ".py",
  "mimetype": "text/x-python",
  "name": "python",
  "npconvert_exporter": "python",
  "pygments_lexer": "ipython3",
  "version": 3,
  "kernelspec": {
   "name": "python3",
   "display_name": "Python 3"
  }
 },
 "nbformat": 4,
 "nbformat_minor": 2
}