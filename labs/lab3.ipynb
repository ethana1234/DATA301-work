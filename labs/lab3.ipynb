{
 "cells": [
  {
   "cell_type": "markdown",
   "metadata": {},
   "source": [
    "# Lab 3"
   ]
  },
  {
   "cell_type": "code",
   "execution_count": 25,
   "metadata": {},
   "outputs": [],
   "source": [
    "import numpy as np\n",
    "import pandas as pd\n",
    "import requests\n",
    "from lxml import html\n",
    "from pandas_datareader import data\n",
    "from itertools import combinations"
   ]
  },
  {
   "cell_type": "markdown",
   "metadata": {},
   "source": [
    "Go to https://en.wikipedia.org/wiki/Dow_Jones_Industrial_Average. Create a DataFrame of size (30 choose 2) = 435 rows.\n",
    "That is, have a row for every combination of two stocks. The third column will be the correlation\n",
    "between the price of the two stocks in 2019. Specifically, you will use pandas_datareader to read\n",
    "the data about the stock prices. Finally, compute the correlation of the price between each pair of socks\n",
    "and store the result in the DataFrame. You are free to use for loops, while loops, and so on. The\n",
    "resulting DataFrame should be sorted by the correlation value in descending order, that is, the first row\n",
    "should contain the two stocks with the highest correlation."
   ]
  },
  {
   "cell_type": "markdown",
   "metadata": {},
   "source": [
    "Scrape Wikipedia page for stock names:"
   ]
  },
  {
   "cell_type": "code",
   "execution_count": 3,
   "metadata": {},
   "outputs": [
    {
     "output_type": "stream",
     "name": "stdout",
     "text": "['MMM', 'AXP', 'AAPL', 'BA', 'CAT', 'CVX', 'CSCO', 'KO', 'DOW', 'XOM', 'GS', 'HD', 'IBM', 'INTC', 'JNJ', 'JPM', 'MCD', 'MRK', 'MSFT', 'NKE', 'PFE', 'PG', 'RTX', 'TRV', 'UNH', 'VZ', 'V', 'WMT', 'WBA', 'DIS']\n"
    }
   ],
   "source": [
    "pageContent = requests.get('https://en.wikipedia.org/wiki/Dow_Jones_Industrial_Average')\n",
    "tree = html.fromstring(pageContent.content)\n",
    "companies = tree.xpath('//table/tbody/tr/td[3]/*/text()')\n",
    "companies = list(filter(lambda x: x != 'NYSE', companies))\n",
    "print(companies)"
   ]
  },
  {
   "cell_type": "markdown",
   "metadata": {},
   "source": [
    "Get stock prices for each company"
   ]
  },
  {
   "cell_type": "code",
   "execution_count": 19,
   "metadata": {},
   "outputs": [],
   "source": [
    "stock_prices = []\n",
    "for company in companies:\n",
    "    stock_price = data.DataReader(company, 'yahoo', start='2019', end='2020')\n",
    "    stock_prices.append({company:stock_price['Close']})\n",
    "stock_prices = {k: v for d in stock_prices for k,v in d.items()} # turn into single dictionary"
   ]
  },
  {
   "cell_type": "markdown",
   "metadata": {},
   "source": [
    "Create DataFrame"
   ]
  },
  {
   "cell_type": "code",
   "execution_count": 24,
   "metadata": {},
   "outputs": [
    {
     "output_type": "display_data",
     "data": {
      "text/plain": "                   MMM         AXP        AAPL          BA         CAT  \\\nDate                                                                     \n2019-01-02  190.949997   95.680000  157.919998  323.809998  126.379997   \n2019-01-03  183.759995   93.430000  142.190002  310.899994  121.510002   \n2019-01-04  191.320007   97.639999  148.259995  327.079987  128.149994   \n2019-01-07  190.880005   98.169998  147.929993  328.109985  128.229996   \n2019-01-08  191.679993   98.650002  150.750000  340.529999  129.770004   \n...                ...         ...         ...         ...         ...   \n2019-12-24  176.679993  124.739998  284.269989  333.000000  147.479996   \n2019-12-26  176.589996  125.410004  289.910004  329.920013  148.220001   \n2019-12-27  177.259995  125.190002  289.799988  330.140015  148.279999   \n2019-12-30  175.830002  124.300003  291.519989  326.399994  147.520004   \n2019-12-31  176.419998  124.489998  293.649994  325.760010  147.679993   \n\n                   CVX       CSCO         KO        DOW        XOM  ...  \\\nDate                                                                ...   \n2019-01-02  110.690002  42.950001  46.930000        NaN  69.690002  ...   \n2019-01-03  108.570000  41.070000  46.639999        NaN  68.620003  ...   \n2019-01-04  110.820000  42.919998  47.570000        NaN  71.150002  ...   \n2019-01-07  112.260002  43.209999  46.950001        NaN  71.519997  ...   \n2019-01-08  111.769997  43.560001  47.480000        NaN  72.040001  ...   \n...                ...        ...        ...        ...        ...  ...   \n2019-12-24  120.339996  47.779999  54.709999  54.900002  70.019997  ...   \n2019-12-26  120.599998  47.849998  55.020000  55.220001  70.129997  ...   \n2019-12-27  120.300003  47.770000  55.349998  54.830002  69.889999  ...   \n2019-12-30  119.849998  47.590000  55.270000  54.340000  69.480003  ...   \n2019-12-31  120.510002  47.959999  55.349998  54.730000  69.779999  ...   \n\n                  PFE          PG        RTX         TRV         UNH  \\\nDate                                                                   \n2019-01-02  43.250000   91.279999  68.156075  117.370003  243.490005   \n2019-01-03  42.040001   90.639999  65.122719  115.260002  236.850006   \n2019-01-04  43.000000   92.489998  67.350533  118.680000  239.619995   \n2019-01-07  43.230000   92.120003  67.319069  118.300003  240.080002   \n2019-01-08  43.430000   92.459999  68.533669  117.839996  243.289993   \n...               ...         ...        ...         ...         ...   \n2019-12-24  39.290001  125.220001  94.128380  135.830002  294.540009   \n2019-12-26  39.380001  125.220001  94.845818  136.289993  295.649994   \n2019-12-27  39.320000  126.089996  94.575203  136.800003  295.970001   \n2019-12-30  38.910000  124.470001  94.323471  136.490005  293.850006   \n2019-12-31  39.180000  124.900002  94.247955  136.949997  293.980011   \n\n                   VZ           V         WMT        WBA         DIS  \nDate                                                                  \n2019-01-02  56.020000  132.919998   93.339996  68.040001  108.970001  \n2019-01-03  56.220001  128.130005   92.860001  67.330002  106.330002  \n2019-01-04  56.360001  133.649994   93.440002  69.570000  109.610001  \n2019-01-07  56.720001  136.059998   94.540001  69.970001  110.559998  \n2019-01-08  58.380001  136.800003   95.199997  71.370003  111.419998  \n...               ...         ...         ...        ...         ...  \n2019-12-24  61.279999  187.570007  119.510002  58.349998  145.289993  \n2019-12-26  61.290001  189.160004  119.519997  58.900002  145.699997  \n2019-12-27  61.529999  189.389999  119.589996  59.020000  145.750000  \n2019-12-30  61.209999  187.830002  119.400002  58.910000  143.770004  \n2019-12-31  61.400002  187.899994  118.839996  58.959999  144.630005  \n\n[252 rows x 30 columns]",
      "text/html": "<div>\n<style scoped>\n    .dataframe tbody tr th:only-of-type {\n        vertical-align: middle;\n    }\n\n    .dataframe tbody tr th {\n        vertical-align: top;\n    }\n\n    .dataframe thead th {\n        text-align: right;\n    }\n</style>\n<table border=\"1\" class=\"dataframe\">\n  <thead>\n    <tr style=\"text-align: right;\">\n      <th></th>\n      <th>MMM</th>\n      <th>AXP</th>\n      <th>AAPL</th>\n      <th>BA</th>\n      <th>CAT</th>\n      <th>CVX</th>\n      <th>CSCO</th>\n      <th>KO</th>\n      <th>DOW</th>\n      <th>XOM</th>\n      <th>...</th>\n      <th>PFE</th>\n      <th>PG</th>\n      <th>RTX</th>\n      <th>TRV</th>\n      <th>UNH</th>\n      <th>VZ</th>\n      <th>V</th>\n      <th>WMT</th>\n      <th>WBA</th>\n      <th>DIS</th>\n    </tr>\n    <tr>\n      <th>Date</th>\n      <th></th>\n      <th></th>\n      <th></th>\n      <th></th>\n      <th></th>\n      <th></th>\n      <th></th>\n      <th></th>\n      <th></th>\n      <th></th>\n      <th></th>\n      <th></th>\n      <th></th>\n      <th></th>\n      <th></th>\n      <th></th>\n      <th></th>\n      <th></th>\n      <th></th>\n      <th></th>\n      <th></th>\n    </tr>\n  </thead>\n  <tbody>\n    <tr>\n      <th>2019-01-02</th>\n      <td>190.949997</td>\n      <td>95.680000</td>\n      <td>157.919998</td>\n      <td>323.809998</td>\n      <td>126.379997</td>\n      <td>110.690002</td>\n      <td>42.950001</td>\n      <td>46.930000</td>\n      <td>NaN</td>\n      <td>69.690002</td>\n      <td>...</td>\n      <td>43.250000</td>\n      <td>91.279999</td>\n      <td>68.156075</td>\n      <td>117.370003</td>\n      <td>243.490005</td>\n      <td>56.020000</td>\n      <td>132.919998</td>\n      <td>93.339996</td>\n      <td>68.040001</td>\n      <td>108.970001</td>\n    </tr>\n    <tr>\n      <th>2019-01-03</th>\n      <td>183.759995</td>\n      <td>93.430000</td>\n      <td>142.190002</td>\n      <td>310.899994</td>\n      <td>121.510002</td>\n      <td>108.570000</td>\n      <td>41.070000</td>\n      <td>46.639999</td>\n      <td>NaN</td>\n      <td>68.620003</td>\n      <td>...</td>\n      <td>42.040001</td>\n      <td>90.639999</td>\n      <td>65.122719</td>\n      <td>115.260002</td>\n      <td>236.850006</td>\n      <td>56.220001</td>\n      <td>128.130005</td>\n      <td>92.860001</td>\n      <td>67.330002</td>\n      <td>106.330002</td>\n    </tr>\n    <tr>\n      <th>2019-01-04</th>\n      <td>191.320007</td>\n      <td>97.639999</td>\n      <td>148.259995</td>\n      <td>327.079987</td>\n      <td>128.149994</td>\n      <td>110.820000</td>\n      <td>42.919998</td>\n      <td>47.570000</td>\n      <td>NaN</td>\n      <td>71.150002</td>\n      <td>...</td>\n      <td>43.000000</td>\n      <td>92.489998</td>\n      <td>67.350533</td>\n      <td>118.680000</td>\n      <td>239.619995</td>\n      <td>56.360001</td>\n      <td>133.649994</td>\n      <td>93.440002</td>\n      <td>69.570000</td>\n      <td>109.610001</td>\n    </tr>\n    <tr>\n      <th>2019-01-07</th>\n      <td>190.880005</td>\n      <td>98.169998</td>\n      <td>147.929993</td>\n      <td>328.109985</td>\n      <td>128.229996</td>\n      <td>112.260002</td>\n      <td>43.209999</td>\n      <td>46.950001</td>\n      <td>NaN</td>\n      <td>71.519997</td>\n      <td>...</td>\n      <td>43.230000</td>\n      <td>92.120003</td>\n      <td>67.319069</td>\n      <td>118.300003</td>\n      <td>240.080002</td>\n      <td>56.720001</td>\n      <td>136.059998</td>\n      <td>94.540001</td>\n      <td>69.970001</td>\n      <td>110.559998</td>\n    </tr>\n    <tr>\n      <th>2019-01-08</th>\n      <td>191.679993</td>\n      <td>98.650002</td>\n      <td>150.750000</td>\n      <td>340.529999</td>\n      <td>129.770004</td>\n      <td>111.769997</td>\n      <td>43.560001</td>\n      <td>47.480000</td>\n      <td>NaN</td>\n      <td>72.040001</td>\n      <td>...</td>\n      <td>43.430000</td>\n      <td>92.459999</td>\n      <td>68.533669</td>\n      <td>117.839996</td>\n      <td>243.289993</td>\n      <td>58.380001</td>\n      <td>136.800003</td>\n      <td>95.199997</td>\n      <td>71.370003</td>\n      <td>111.419998</td>\n    </tr>\n    <tr>\n      <th>...</th>\n      <td>...</td>\n      <td>...</td>\n      <td>...</td>\n      <td>...</td>\n      <td>...</td>\n      <td>...</td>\n      <td>...</td>\n      <td>...</td>\n      <td>...</td>\n      <td>...</td>\n      <td>...</td>\n      <td>...</td>\n      <td>...</td>\n      <td>...</td>\n      <td>...</td>\n      <td>...</td>\n      <td>...</td>\n      <td>...</td>\n      <td>...</td>\n      <td>...</td>\n      <td>...</td>\n    </tr>\n    <tr>\n      <th>2019-12-24</th>\n      <td>176.679993</td>\n      <td>124.739998</td>\n      <td>284.269989</td>\n      <td>333.000000</td>\n      <td>147.479996</td>\n      <td>120.339996</td>\n      <td>47.779999</td>\n      <td>54.709999</td>\n      <td>54.900002</td>\n      <td>70.019997</td>\n      <td>...</td>\n      <td>39.290001</td>\n      <td>125.220001</td>\n      <td>94.128380</td>\n      <td>135.830002</td>\n      <td>294.540009</td>\n      <td>61.279999</td>\n      <td>187.570007</td>\n      <td>119.510002</td>\n      <td>58.349998</td>\n      <td>145.289993</td>\n    </tr>\n    <tr>\n      <th>2019-12-26</th>\n      <td>176.589996</td>\n      <td>125.410004</td>\n      <td>289.910004</td>\n      <td>329.920013</td>\n      <td>148.220001</td>\n      <td>120.599998</td>\n      <td>47.849998</td>\n      <td>55.020000</td>\n      <td>55.220001</td>\n      <td>70.129997</td>\n      <td>...</td>\n      <td>39.380001</td>\n      <td>125.220001</td>\n      <td>94.845818</td>\n      <td>136.289993</td>\n      <td>295.649994</td>\n      <td>61.290001</td>\n      <td>189.160004</td>\n      <td>119.519997</td>\n      <td>58.900002</td>\n      <td>145.699997</td>\n    </tr>\n    <tr>\n      <th>2019-12-27</th>\n      <td>177.259995</td>\n      <td>125.190002</td>\n      <td>289.799988</td>\n      <td>330.140015</td>\n      <td>148.279999</td>\n      <td>120.300003</td>\n      <td>47.770000</td>\n      <td>55.349998</td>\n      <td>54.830002</td>\n      <td>69.889999</td>\n      <td>...</td>\n      <td>39.320000</td>\n      <td>126.089996</td>\n      <td>94.575203</td>\n      <td>136.800003</td>\n      <td>295.970001</td>\n      <td>61.529999</td>\n      <td>189.389999</td>\n      <td>119.589996</td>\n      <td>59.020000</td>\n      <td>145.750000</td>\n    </tr>\n    <tr>\n      <th>2019-12-30</th>\n      <td>175.830002</td>\n      <td>124.300003</td>\n      <td>291.519989</td>\n      <td>326.399994</td>\n      <td>147.520004</td>\n      <td>119.849998</td>\n      <td>47.590000</td>\n      <td>55.270000</td>\n      <td>54.340000</td>\n      <td>69.480003</td>\n      <td>...</td>\n      <td>38.910000</td>\n      <td>124.470001</td>\n      <td>94.323471</td>\n      <td>136.490005</td>\n      <td>293.850006</td>\n      <td>61.209999</td>\n      <td>187.830002</td>\n      <td>119.400002</td>\n      <td>58.910000</td>\n      <td>143.770004</td>\n    </tr>\n    <tr>\n      <th>2019-12-31</th>\n      <td>176.419998</td>\n      <td>124.489998</td>\n      <td>293.649994</td>\n      <td>325.760010</td>\n      <td>147.679993</td>\n      <td>120.510002</td>\n      <td>47.959999</td>\n      <td>55.349998</td>\n      <td>54.730000</td>\n      <td>69.779999</td>\n      <td>...</td>\n      <td>39.180000</td>\n      <td>124.900002</td>\n      <td>94.247955</td>\n      <td>136.949997</td>\n      <td>293.980011</td>\n      <td>61.400002</td>\n      <td>187.899994</td>\n      <td>118.839996</td>\n      <td>58.959999</td>\n      <td>144.630005</td>\n    </tr>\n  </tbody>\n</table>\n<p>252 rows × 30 columns</p>\n</div>"
     },
     "metadata": {}
    }
   ],
   "source": [
    "df = pd.DataFrame(stock_prices)\n",
    "display(df)"
   ]
  },
  {
   "cell_type": "markdown",
   "metadata": {},
   "source": [
    "Get every combination of companies and find the correlation"
   ]
  },
  {
   "cell_type": "code",
   "execution_count": 29,
   "metadata": {},
   "outputs": [],
   "source": [
    "result = []\n",
    "for pair in combinations(companies,2):\n",
    "    correlation = df[pair[0]].corr(df[pair[1]])\n",
    "    row = [pair[0],pair[1],correlation]\n",
    "    result.append(row)"
   ]
  },
  {
   "cell_type": "markdown",
   "metadata": {},
   "source": [
    "Create DataFrame using correlations"
   ]
  },
  {
   "cell_type": "code",
   "execution_count": 34,
   "metadata": {},
   "outputs": [
    {
     "output_type": "display_data",
     "data": {
      "text/plain": "    stock 1 stock 2  correlation\n376    MSFT       V     0.970061\n404      PG     WMT     0.953592\n69     AAPL     JPM     0.950713\n403      PG       V     0.944156\n371    MSFT      PG     0.942652\n..      ...     ...          ...\n183      KO     XOM    -0.754154\n211     DOW     MCD    -0.766922\n355     MCD     WBA    -0.798374\n418     TRV     WBA    -0.821114\n6       MMM      KO    -0.834553\n\n[435 rows x 3 columns]",
      "text/html": "<div>\n<style scoped>\n    .dataframe tbody tr th:only-of-type {\n        vertical-align: middle;\n    }\n\n    .dataframe tbody tr th {\n        vertical-align: top;\n    }\n\n    .dataframe thead th {\n        text-align: right;\n    }\n</style>\n<table border=\"1\" class=\"dataframe\">\n  <thead>\n    <tr style=\"text-align: right;\">\n      <th></th>\n      <th>stock 1</th>\n      <th>stock 2</th>\n      <th>correlation</th>\n    </tr>\n  </thead>\n  <tbody>\n    <tr>\n      <th>376</th>\n      <td>MSFT</td>\n      <td>V</td>\n      <td>0.970061</td>\n    </tr>\n    <tr>\n      <th>404</th>\n      <td>PG</td>\n      <td>WMT</td>\n      <td>0.953592</td>\n    </tr>\n    <tr>\n      <th>69</th>\n      <td>AAPL</td>\n      <td>JPM</td>\n      <td>0.950713</td>\n    </tr>\n    <tr>\n      <th>403</th>\n      <td>PG</td>\n      <td>V</td>\n      <td>0.944156</td>\n    </tr>\n    <tr>\n      <th>371</th>\n      <td>MSFT</td>\n      <td>PG</td>\n      <td>0.942652</td>\n    </tr>\n    <tr>\n      <th>...</th>\n      <td>...</td>\n      <td>...</td>\n      <td>...</td>\n    </tr>\n    <tr>\n      <th>183</th>\n      <td>KO</td>\n      <td>XOM</td>\n      <td>-0.754154</td>\n    </tr>\n    <tr>\n      <th>211</th>\n      <td>DOW</td>\n      <td>MCD</td>\n      <td>-0.766922</td>\n    </tr>\n    <tr>\n      <th>355</th>\n      <td>MCD</td>\n      <td>WBA</td>\n      <td>-0.798374</td>\n    </tr>\n    <tr>\n      <th>418</th>\n      <td>TRV</td>\n      <td>WBA</td>\n      <td>-0.821114</td>\n    </tr>\n    <tr>\n      <th>6</th>\n      <td>MMM</td>\n      <td>KO</td>\n      <td>-0.834553</td>\n    </tr>\n  </tbody>\n</table>\n<p>435 rows × 3 columns</p>\n</div>"
     },
     "metadata": {}
    }
   ],
   "source": [
    "columns = ['stock 1','stock 2','correlation']\n",
    "corr_df = pd.DataFrame(result,columns=columns).sort_values(by='correlation',ascending=False)\n",
    "display(corr_df)"
   ]
  },
  {
   "cell_type": "code",
   "execution_count": null,
   "metadata": {},
   "outputs": [],
   "source": []
  }
 ],
 "metadata": {
  "language_info": {
   "codemirror_mode": {
    "name": "ipython",
    "version": 3
   },
   "file_extension": ".py",
   "mimetype": "text/x-python",
   "name": "python",
   "nbconvert_exporter": "python",
   "pygments_lexer": "ipython3",
   "version": "3.8.2-final"
  },
  "orig_nbformat": 2,
  "kernelspec": {
   "name": "python38264bit20b2955c6730496ab2ce3153d8f806b8",
   "display_name": "Python 3.8.2 64-bit"
  }
 },
 "nbformat": 4,
 "nbformat_minor": 2
}